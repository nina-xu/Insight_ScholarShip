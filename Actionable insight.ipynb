{
 "cells": [
  {
   "cell_type": "code",
   "execution_count": 42,
   "metadata": {},
   "outputs": [],
   "source": [
    "import pandas as pd\n",
    "import numpy as np\n",
    "import matplotlib.pyplot as plt\n",
    "from sklearn.linear_model import LinearRegression\n",
    "from sklearn.preprocessing import scale\n",
    "from sklearn.preprocessing import StandardScaler"
   ]
  },
  {
   "cell_type": "code",
   "execution_count": 18,
   "metadata": {},
   "outputs": [
    {
     "data": {
      "text/html": [
       "<div>\n",
       "<style scoped>\n",
       "    .dataframe tbody tr th:only-of-type {\n",
       "        vertical-align: middle;\n",
       "    }\n",
       "\n",
       "    .dataframe tbody tr th {\n",
       "        vertical-align: top;\n",
       "    }\n",
       "\n",
       "    .dataframe thead th {\n",
       "        text-align: right;\n",
       "    }\n",
       "</style>\n",
       "<table border=\"1\" class=\"dataframe\">\n",
       "  <thead>\n",
       "    <tr style=\"text-align: right;\">\n",
       "      <th></th>\n",
       "      <th>Unnamed: 0</th>\n",
       "      <th>UNITID</th>\n",
       "      <th>EFFYLEV</th>\n",
       "      <th>LSTUDY</th>\n",
       "      <th>XEYTOTLT</th>\n",
       "      <th>EFYTOTLT</th>\n",
       "      <th>XEYTOTLM</th>\n",
       "      <th>EFYTOTLM</th>\n",
       "      <th>XEYTOTLW</th>\n",
       "      <th>EFYTOTLW</th>\n",
       "      <th>...</th>\n",
       "      <th>diverse_ind_std</th>\n",
       "      <th>annual_cost_std</th>\n",
       "      <th>avg_award_sqrt_std</th>\n",
       "      <th>pct_awarded_sqrt_std</th>\n",
       "      <th>GRNRALT_rate_std</th>\n",
       "      <th>logit_intl_pct</th>\n",
       "      <th>TUITION2_std</th>\n",
       "      <th>avg_award_std</th>\n",
       "      <th>pct_awarded_std</th>\n",
       "      <th>logit</th>\n",
       "    </tr>\n",
       "  </thead>\n",
       "  <tbody>\n",
       "    <tr>\n",
       "      <th>0</th>\n",
       "      <td>0</td>\n",
       "      <td>107044</td>\n",
       "      <td>2</td>\n",
       "      <td>1</td>\n",
       "      <td>R</td>\n",
       "      <td>4789</td>\n",
       "      <td>R</td>\n",
       "      <td>2101</td>\n",
       "      <td>R</td>\n",
       "      <td>2688</td>\n",
       "      <td>...</td>\n",
       "      <td>-1.726940</td>\n",
       "      <td>-2.352586</td>\n",
       "      <td>0.010589</td>\n",
       "      <td>1.210253</td>\n",
       "      <td>-0.093704</td>\n",
       "      <td>-2.646689</td>\n",
       "      <td>-1.623191</td>\n",
       "      <td>-0.317656</td>\n",
       "      <td>1.965755</td>\n",
       "      <td>-2.646689</td>\n",
       "    </tr>\n",
       "    <tr>\n",
       "      <th>1</th>\n",
       "      <td>1</td>\n",
       "      <td>109785</td>\n",
       "      <td>2</td>\n",
       "      <td>1</td>\n",
       "      <td>R</td>\n",
       "      <td>6263</td>\n",
       "      <td>R</td>\n",
       "      <td>2141</td>\n",
       "      <td>R</td>\n",
       "      <td>4122</td>\n",
       "      <td>...</td>\n",
       "      <td>1.549113</td>\n",
       "      <td>-0.051556</td>\n",
       "      <td>-0.735559</td>\n",
       "      <td>-1.160270</td>\n",
       "      <td>-0.735287</td>\n",
       "      <td>-3.654268</td>\n",
       "      <td>-0.167906</td>\n",
       "      <td>-0.870936</td>\n",
       "      <td>-0.899768</td>\n",
       "      <td>-3.654268</td>\n",
       "    </tr>\n",
       "    <tr>\n",
       "      <th>2</th>\n",
       "      <td>2</td>\n",
       "      <td>110413</td>\n",
       "      <td>2</td>\n",
       "      <td>1</td>\n",
       "      <td>R</td>\n",
       "      <td>3207</td>\n",
       "      <td>R</td>\n",
       "      <td>1392</td>\n",
       "      <td>R</td>\n",
       "      <td>1815</td>\n",
       "      <td>...</td>\n",
       "      <td>1.108905</td>\n",
       "      <td>-0.150939</td>\n",
       "      <td>0.292282</td>\n",
       "      <td>0.313240</td>\n",
       "      <td>0.722638</td>\n",
       "      <td>-3.264918</td>\n",
       "      <td>0.147635</td>\n",
       "      <td>-0.021935</td>\n",
       "      <td>0.207421</td>\n",
       "      <td>-3.264918</td>\n",
       "    </tr>\n",
       "    <tr>\n",
       "      <th>3</th>\n",
       "      <td>3</td>\n",
       "      <td>110510</td>\n",
       "      <td>2</td>\n",
       "      <td>1</td>\n",
       "      <td>R</td>\n",
       "      <td>19244</td>\n",
       "      <td>R</td>\n",
       "      <td>7694</td>\n",
       "      <td>R</td>\n",
       "      <td>11550</td>\n",
       "      <td>...</td>\n",
       "      <td>0.076189</td>\n",
       "      <td>-2.319545</td>\n",
       "      <td>-0.648466</td>\n",
       "      <td>-1.160270</td>\n",
       "      <td>0.196608</td>\n",
       "      <td>-2.549053</td>\n",
       "      <td>-2.656479</td>\n",
       "      <td>-0.823571</td>\n",
       "      <td>-0.899768</td>\n",
       "      <td>-2.549053</td>\n",
       "    </tr>\n",
       "    <tr>\n",
       "      <th>4</th>\n",
       "      <td>4</td>\n",
       "      <td>111081</td>\n",
       "      <td>2</td>\n",
       "      <td>1</td>\n",
       "      <td>R</td>\n",
       "      <td>991</td>\n",
       "      <td>R</td>\n",
       "      <td>421</td>\n",
       "      <td>R</td>\n",
       "      <td>570</td>\n",
       "      <td>...</td>\n",
       "      <td>1.274542</td>\n",
       "      <td>0.564100</td>\n",
       "      <td>-1.598646</td>\n",
       "      <td>-1.160270</td>\n",
       "      <td>0.446135</td>\n",
       "      <td>-1.662439</td>\n",
       "      <td>0.622462</td>\n",
       "      <td>-1.094357</td>\n",
       "      <td>-0.899768</td>\n",
       "      <td>-1.662439</td>\n",
       "    </tr>\n",
       "  </tbody>\n",
       "</table>\n",
       "<p>5 rows × 559 columns</p>\n",
       "</div>"
      ],
      "text/plain": [
       "   Unnamed: 0  UNITID  EFFYLEV  LSTUDY XEYTOTLT  EFYTOTLT XEYTOTLM  EFYTOTLM  \\\n",
       "0           0  107044        2       1        R      4789        R      2101   \n",
       "1           1  109785        2       1        R      6263        R      2141   \n",
       "2           2  110413        2       1        R      3207        R      1392   \n",
       "3           3  110510        2       1        R     19244        R      7694   \n",
       "4           4  111081        2       1        R       991        R       421   \n",
       "\n",
       "  XEYTOTLW  EFYTOTLW  ... diverse_ind_std  annual_cost_std avg_award_sqrt_std  \\\n",
       "0        R      2688  ...       -1.726940        -2.352586           0.010589   \n",
       "1        R      4122  ...        1.549113        -0.051556          -0.735559   \n",
       "2        R      1815  ...        1.108905        -0.150939           0.292282   \n",
       "3        R     11550  ...        0.076189        -2.319545          -0.648466   \n",
       "4        R       570  ...        1.274542         0.564100          -1.598646   \n",
       "\n",
       "   pct_awarded_sqrt_std GRNRALT_rate_std  logit_intl_pct TUITION2_std  \\\n",
       "0              1.210253        -0.093704       -2.646689    -1.623191   \n",
       "1             -1.160270        -0.735287       -3.654268    -0.167906   \n",
       "2              0.313240         0.722638       -3.264918     0.147635   \n",
       "3             -1.160270         0.196608       -2.549053    -2.656479   \n",
       "4             -1.160270         0.446135       -1.662439     0.622462   \n",
       "\n",
       "   avg_award_std pct_awarded_std     logit  \n",
       "0      -0.317656        1.965755 -2.646689  \n",
       "1      -0.870936       -0.899768 -3.654268  \n",
       "2      -0.021935        0.207421 -3.264918  \n",
       "3      -0.823571       -0.899768 -2.549053  \n",
       "4      -1.094357       -0.899768 -1.662439  \n",
       "\n",
       "[5 rows x 559 columns]"
      ]
     },
     "execution_count": 18,
     "metadata": {},
     "output_type": "execute_result"
    }
   ],
   "source": [
    "data = pd.read_csv('Data/data 258.csv')\n",
    "data.head()"
   ]
  },
  {
   "cell_type": "code",
   "execution_count": 116,
   "metadata": {},
   "outputs": [],
   "source": [
    "features = ['GRNRALT_rate','TUITION2','diverse_ind','avg_award','pct_awarded']\n",
    "features_std = []\n",
    "for i in range(len(features)):\n",
    "    features_std.append(features[i]+'_std')"
   ]
  },
  {
   "cell_type": "code",
   "execution_count": 118,
   "metadata": {},
   "outputs": [],
   "source": [
    "#.to_csv('Data/data 258.csv')\n"
   ]
  },
  {
   "cell_type": "code",
   "execution_count": 54,
   "metadata": {},
   "outputs": [
    {
     "name": "stdout",
     "output_type": "stream",
     "text": [
      "[7.11656745e-01 3.90300039e+04 4.73340628e-01 1.22454496e+04\n",
      " 2.41863135e-01]\n",
      "[5.10928644e-02 1.57022837e+08 2.04325156e-02 1.25207820e+08\n",
      " 7.22567601e-02]\n"
     ]
    },
    {
     "name": "stderr",
     "output_type": "stream",
     "text": [
      "C:\\Users\\Ning\\Anaconda3\\lib\\site-packages\\sklearn\\preprocessing\\data.py:645: DataConversionWarning: Data with input dtype int64, float64 were all converted to float64 by StandardScaler.\n",
      "  return self.partial_fit(X, y)\n",
      "C:\\Users\\Ning\\Anaconda3\\lib\\site-packages\\ipykernel_launcher.py:8: DataConversionWarning: Data with input dtype int64, float64 were all converted to float64 by StandardScaler.\n",
      "  \n",
      "C:\\Users\\Ning\\Anaconda3\\lib\\site-packages\\ipykernel_launcher.py:9: DataConversionWarning: Data with input dtype int64, float64 were all converted to float64 by StandardScaler.\n",
      "  if __name__ == '__main__':\n"
     ]
    },
    {
     "data": {
      "text/plain": [
       "array([0.27159511, 0.23671089, 0.23144125, 0.08441141, 0.02364637])"
      ]
     },
     "execution_count": 54,
     "metadata": {},
     "output_type": "execute_result"
    }
   ],
   "source": [
    "# current final model\n",
    "# standardize\n",
    "scaler = StandardScaler()\n",
    "scaler.fit(data[features])\n",
    "print(scaler.mean_)\n",
    "print(scaler.var_)\n",
    "transformed_linear = LinearRegression()\n",
    "result = transformed_linear.fit(X = scaler.transform(data[features]), y = data.logit)\n",
    "y_pred = result.predict(X = scaler.transform(data[features]))\n",
    "#result.score(X = scaler.transform(data[features]), y = data.logit) #0.267\n",
    "result.coef_"
   ]
  },
  {
   "cell_type": "code",
   "execution_count": 90,
   "metadata": {},
   "outputs": [
    {
     "name": "stdout",
     "output_type": "stream",
     "text": [
      "TUITION2 0.3372093023255814\n",
      "0.4372093023255814\n",
      "4432.700093023256\n"
     ]
    }
   ],
   "source": [
    "# how do I suggest actionable insight?\n",
    "# exclude tuition\n",
    "# strategy: suggest the one with the biggest return on investment, if move up in the distribution by 10th percentile\n",
    "# exception: graduation rate above median\n",
    "# take one school\n",
    "value = 109785\n",
    "inst_value = data[data.UNITID==value][features]\n",
    "feature = features[1]\n",
    "#print(inst_value[feature].values[0])\n",
    "percent = np.mean(data[feature]<=inst_value[feature].values[0])\n",
    "print(feature, percent)\n",
    "new_percent = np.min([percent + 0.1, 1])\n",
    "print(new_percent)\n",
    "new_inst_value = np.percentile(data[feature], new_percent)\n",
    "print(new_inst_value)\n"
   ]
  },
  {
   "cell_type": "code",
   "execution_count": 135,
   "metadata": {},
   "outputs": [
    {
     "name": "stdout",
     "output_type": "stream",
     "text": [
      "{'feature_value': 36926, 'percent': 0.3333333333333333, 'new_feature_value': 39625.0, 'new_percent': 0.43333333333333335}\n",
      "your current TUITION2 is 36926, better than 33.3% of the institutions. If you increase your TUITION2 to 39625.0 (better than 43.3% of the institutions)\n"
     ]
    }
   ],
   "source": [
    "def get_percentile(feature, inst_value):\n",
    "    feature_value = inst_value[feature].values[0]\n",
    "    percent = np.mean(data[feature]< feature_value)\n",
    "    new_percent = np.min([percent + 0.1, 1])\n",
    "    new_feature_value = np.percentile(data[feature], new_percent*100)\n",
    "    return {'feature_value':feature_value, \n",
    "            'percent':percent, \n",
    "            'new_feature_value':new_feature_value, \n",
    "            'new_percent':new_percent}\n",
    "    \n",
    "update = get_percentile(features[1], inst_value)\n",
    "print(update)\n",
    "string = \"your current {} is {}, better than {}% of the institutions. If you increase your {} to {} (better than {}% of the institutions)\"\n",
    "print(string.format(feature, \n",
    "                    str(update['feature_value']), \n",
    "                    str(round(update['percent']*100,1)),\n",
    "                    feature, \n",
    "                    str(update['new_feature_value']),\n",
    "                    str(round(update['new_percent']*100,1))\n",
    "                   )\n",
    "     )\n"
   ]
  },
  {
   "cell_type": "code",
   "execution_count": 108,
   "metadata": {},
   "outputs": [
    {
     "name": "stderr",
     "output_type": "stream",
     "text": [
      "C:\\Users\\Ning\\Anaconda3\\lib\\site-packages\\ipykernel_launcher.py:6: DataConversionWarning: Data with input dtype int64, float64 were all converted to float64 by StandardScaler.\n",
      "  \n",
      "C:\\Users\\Ning\\Anaconda3\\lib\\site-packages\\ipykernel_launcher.py:10: DataConversionWarning: Data with input dtype int64, float64 were all converted to float64 by StandardScaler.\n",
      "  # Remove the CWD from sys.path while we load stuff.\n"
     ]
    },
    {
     "data": {
      "text/plain": [
       "0.29"
      ]
     },
     "execution_count": 108,
     "metadata": {},
     "output_type": "execute_result"
    }
   ],
   "source": [
    "# updated prediction\n",
    "def reverse_logit(logit):\n",
    "    return np.exp(logit)/(1 + np.exp(logit))\n",
    "def get_improvement(feature, inst_value):\n",
    "    input_update = get_percentile(feature, inst_value)\n",
    "    old_prediction = result.predict(X = scaler.transform(inst_value))\n",
    "    old_intl_pct = reverse_logit(old_prediction[0])\n",
    "    new_inst_value = inst_value.copy()\n",
    "    new_inst_value[feature] = input_update['new_feature_value']\n",
    "    new_prediction = result.predict(X = scaler.transform(new_inst_value))\n",
    "    new_intl_pct = reverse_logit(new_prediction[0])\n",
    "    increase = (new_intl_pct - old_intl_pct)*100\n",
    "    return round(np.min([increase, 100]),2)\n",
    "get_improvement(features[1], inst_value)\n"
   ]
  },
  {
   "cell_type": "code",
   "execution_count": 121,
   "metadata": {},
   "outputs": [
    {
     "name": "stderr",
     "output_type": "stream",
     "text": [
      "C:\\Users\\Ning\\Anaconda3\\lib\\site-packages\\ipykernel_launcher.py:6: DataConversionWarning: Data with input dtype int64, float64 were all converted to float64 by StandardScaler.\n",
      "  \n",
      "C:\\Users\\Ning\\Anaconda3\\lib\\site-packages\\ipykernel_launcher.py:10: DataConversionWarning: Data with input dtype int64, float64 were all converted to float64 by StandardScaler.\n",
      "  # Remove the CWD from sys.path while we load stuff.\n",
      "C:\\Users\\Ning\\Anaconda3\\lib\\site-packages\\ipykernel_launcher.py:6: DataConversionWarning: Data with input dtype int64, float64 were all converted to float64 by StandardScaler.\n",
      "  \n",
      "C:\\Users\\Ning\\Anaconda3\\lib\\site-packages\\ipykernel_launcher.py:10: DataConversionWarning: Data with input dtype int64, float64 were all converted to float64 by StandardScaler.\n",
      "  # Remove the CWD from sys.path while we load stuff.\n",
      "C:\\Users\\Ning\\Anaconda3\\lib\\site-packages\\ipykernel_launcher.py:6: DataConversionWarning: Data with input dtype int64, float64 were all converted to float64 by StandardScaler.\n",
      "  \n",
      "C:\\Users\\Ning\\Anaconda3\\lib\\site-packages\\ipykernel_launcher.py:10: DataConversionWarning: Data with input dtype int64, float64 were all converted to float64 by StandardScaler.\n",
      "  # Remove the CWD from sys.path while we load stuff.\n",
      "C:\\Users\\Ning\\Anaconda3\\lib\\site-packages\\ipykernel_launcher.py:6: DataConversionWarning: Data with input dtype int64, float64 were all converted to float64 by StandardScaler.\n",
      "  \n",
      "C:\\Users\\Ning\\Anaconda3\\lib\\site-packages\\ipykernel_launcher.py:10: DataConversionWarning: Data with input dtype int64, float64 were all converted to float64 by StandardScaler.\n",
      "  # Remove the CWD from sys.path while we load stuff.\n",
      "C:\\Users\\Ning\\Anaconda3\\lib\\site-packages\\ipykernel_launcher.py:6: DataConversionWarning: Data with input dtype int64, float64 were all converted to float64 by StandardScaler.\n",
      "  \n",
      "C:\\Users\\Ning\\Anaconda3\\lib\\site-packages\\ipykernel_launcher.py:10: DataConversionWarning: Data with input dtype int64, float64 were all converted to float64 by StandardScaler.\n",
      "  # Remove the CWD from sys.path while we load stuff.\n"
     ]
    },
    {
     "data": {
      "text/plain": [
       "['diverse_ind',\n",
       " {'GRNRALT_rate': 0.65,\n",
       "  'TUITION2': 0.29,\n",
       "  'diverse_ind': 0.69,\n",
       "  'avg_award': 0.14,\n",
       "  'pct_awarded': 0.03}]"
      ]
     },
     "execution_count": 121,
     "metadata": {},
     "output_type": "execute_result"
    }
   ],
   "source": [
    "# identify the best feature to improve\n",
    "def select_best_feature(value, features):\n",
    "    improvements = {}\n",
    "    for feature in features:\n",
    "        improvements[feature] = get_improvement(feature, inst_value)\n",
    "    best_feature = max(improvements, key = improvements.get)\n",
    "    return([best_feature, improvements])\n",
    "select_best_feature(value, features)\n"
   ]
  },
  {
   "cell_type": "code",
   "execution_count": 134,
   "metadata": {},
   "outputs": [
    {
     "data": {
      "text/plain": [
       "'Currently, 0.0% of your international students receive financial aid, better than 29.8% of the institutions. If you award financial aid to 6.9% of the international students (better than 39.8% of the institutions), you should attract an additional 0.03% of international students.'"
      ]
     },
     "execution_count": 134,
     "metadata": {},
     "output_type": "execute_result"
    }
   ],
   "source": [
    "best_feature = ['pct_awarded',\n",
    " {'GRNRALT_rate': 0.25,\n",
    "  'TUITION2': 0.29,\n",
    "  'diverse_ind': 0.69,\n",
    "  'avg_award': 0.74,\n",
    "  'pct_awarded': 0.03}]\n",
    "def generate_recommendations(best_feature):\n",
    "    if best_feature[0] == 'GRNRALT_rate':\n",
    "        update = get_percentile('GRNRALT_rate', inst_value)\n",
    "        string = \"Currently, your international student graduation rate is {}%, better than {}% of the institutions. As a reference, your domestic student graduation rate is X%. If you boost your international graduation rate to {} (better than {}% of the institutions), you should attract an additional {}% of international students.\"\n",
    "        output = string.format( \n",
    "            str(round(update['feature_value']*100,1)), \n",
    "            str(round(update['percent']*100,1)),\n",
    "            str(round(update['new_feature_value']*100,1)),\n",
    "            str(round(update['new_percent']*100,1)),\n",
    "            str(best_feature[1]['GRNRALT_rate'])\n",
    "                   )\n",
    "        return output\n",
    "    if best_feature[0] == 'diverse_ind':\n",
    "        update = get_percentile(best_feature[0], inst_value)\n",
    "        string = \"Currently, your racial diversity index is {}%, better than {}% of the institutions. (*Also show a distribution of races.) If you recruit more domestic students of racial minorities, and boost your diversity index to {} (better than {}% of the institutions), you should attract an additional {}% of international students.\"\n",
    "        output = string.format( \n",
    "            str(round(update['feature_value']*100,1)), \n",
    "            str(round(update['percent']*100,1)),\n",
    "            str(round(update['new_feature_value']*100,1)),\n",
    "            str(round(update['new_percent']*100,1)),\n",
    "            str(best_feature[1][best_feature[0]])\n",
    "                   )\n",
    "        return output\n",
    "    if best_feature[0] == 'avg_award': # still has problems!\n",
    "        update = get_percentile(best_feature[0], inst_value)\n",
    "        string = \"Currently, your average international student receives ${} in financial aid, better than {}% of the institutions. If you increase your average financial aid to ${} (better than {}% of the institutions), you should attract an additional {}% of international students.\"\n",
    "        output = string.format( \n",
    "            str(round(update['feature_value'])), \n",
    "            str(round(update['percent']*100,1)),\n",
    "            str(round(update['new_feature_value'])),\n",
    "            str(round(update['new_percent']*100,1)),\n",
    "            str(best_feature[1][best_feature[0]])\n",
    "                   )\n",
    "        return output\n",
    "    if best_feature[0] == 'pct_awarded': # still has problems!\n",
    "        update = get_percentile(best_feature[0], inst_value)\n",
    "        string = \"Currently, {}% of your international students receive financial aid, better than {}% of the institutions. If you award financial aid to {}% of the international students (better than {}% of the institutions), you should attract an additional {}% of international students.\"\n",
    "        output = string.format( \n",
    "            str(round(update['feature_value']*100,1)), \n",
    "            str(round(update['percent']*100,1)),\n",
    "            str(round(update['new_feature_value']*100,1)),\n",
    "            str(round(update['new_percent']*100,1)),\n",
    "            str(best_feature[1][best_feature[0]])\n",
    "                   )\n",
    "        return output\n",
    "generate_recommendations(best_feature)"
   ]
  },
  {
   "cell_type": "code",
   "execution_count": 16,
   "metadata": {},
   "outputs": [
    {
     "data": {
      "text/plain": [
       "0.5038759689922481"
      ]
     },
     "execution_count": 16,
     "metadata": {},
     "output_type": "execute_result"
    },
    {
     "data": {
      "image/png": "[encoded data removed]",
      "text/plain": [
       "<Figure size 432x288 with 1 Axes>"
      ]
     },
     "metadata": {
      "needs_background": "light"
     },
     "output_type": "display_data"
    }
   ],
   "source": [
    "# look at international vs overall graduation rate\n",
    "plt.hist(data.GRNRALT_rate/data.GRTOTLT_rate)\n",
    "sum(data.GRNRALT_rate/data.GRTOTLT_rate<1)/258 # half schools have international graduation rate below "
   ]
  }
 ],
 "metadata": {
  "kernelspec": {
   "display_name": "Python 3",
   "language": "python",
   "name": "python3"
  },
  "language_info": {
   "codemirror_mode": {
    "name": "ipython",
    "version": 3
   },
   "file_extension": ".py",
   "mimetype": "text/x-python",
   "name": "python",
   "nbconvert_exporter": "python",
   "pygments_lexer": "ipython3",
   "version": "3.7.3"
  }
 },
 "nbformat": 4,
 "nbformat_minor": 2
}
