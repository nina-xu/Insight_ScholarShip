{
 "cells": [
  {
   "cell_type": "code",
   "execution_count": 1,
   "metadata": {},
   "outputs": [],
   "source": [
    "import pandas as pd\n",
    "import numpy as np\n",
    "import matplotlib.pyplot as plt\n",
    "from sklearn.linear_model import LinearRegression\n",
    "#from sklearn.preprocessing import scale\n",
    "from sklearn.preprocessing import StandardScaler"
   ]
  },
  {
   "cell_type": "code",
   "execution_count": 2,
   "metadata": {},
   "outputs": [
    {
     "data": {
      "text/html": [
       "<div>\n",
       "<style scoped>\n",
       "    .dataframe tbody tr th:only-of-type {\n",
       "        vertical-align: middle;\n",
       "    }\n",
       "\n",
       "    .dataframe tbody tr th {\n",
       "        vertical-align: top;\n",
       "    }\n",
       "\n",
       "    .dataframe thead th {\n",
       "        text-align: right;\n",
       "    }\n",
       "</style>\n",
       "<table border=\"1\" class=\"dataframe\">\n",
       "  <thead>\n",
       "    <tr style=\"text-align: right;\">\n",
       "      <th></th>\n",
       "      <th>UNITID</th>\n",
       "      <th>EFFYLEV</th>\n",
       "      <th>LSTUDY</th>\n",
       "      <th>XEYTOTLT</th>\n",
       "      <th>EFYTOTLT</th>\n",
       "      <th>XEYTOTLM</th>\n",
       "      <th>EFYTOTLM</th>\n",
       "      <th>XEYTOTLW</th>\n",
       "      <th>EFYTOTLW</th>\n",
       "      <th>XEFYAIAT</th>\n",
       "      <th>...</th>\n",
       "      <th>diverse_ind_std</th>\n",
       "      <th>annual_cost_std</th>\n",
       "      <th>avg_award_sqrt_std</th>\n",
       "      <th>pct_awarded_sqrt_std</th>\n",
       "      <th>GRNRALT_rate_std</th>\n",
       "      <th>logit_intl_pct</th>\n",
       "      <th>TUITION2_std</th>\n",
       "      <th>avg_award_std</th>\n",
       "      <th>pct_awarded_std</th>\n",
       "      <th>logit</th>\n",
       "    </tr>\n",
       "  </thead>\n",
       "  <tbody>\n",
       "    <tr>\n",
       "      <th>0</th>\n",
       "      <td>107044</td>\n",
       "      <td>2</td>\n",
       "      <td>1</td>\n",
       "      <td>R</td>\n",
       "      <td>4789</td>\n",
       "      <td>R</td>\n",
       "      <td>2101</td>\n",
       "      <td>R</td>\n",
       "      <td>2688</td>\n",
       "      <td>R</td>\n",
       "      <td>...</td>\n",
       "      <td>-1.726940</td>\n",
       "      <td>-2.352586</td>\n",
       "      <td>0.010589</td>\n",
       "      <td>1.210253</td>\n",
       "      <td>-0.093704</td>\n",
       "      <td>-2.646689</td>\n",
       "      <td>-1.623191</td>\n",
       "      <td>-0.317656</td>\n",
       "      <td>1.965755</td>\n",
       "      <td>-2.646689</td>\n",
       "    </tr>\n",
       "    <tr>\n",
       "      <th>1</th>\n",
       "      <td>109785</td>\n",
       "      <td>2</td>\n",
       "      <td>1</td>\n",
       "      <td>R</td>\n",
       "      <td>6263</td>\n",
       "      <td>R</td>\n",
       "      <td>2141</td>\n",
       "      <td>R</td>\n",
       "      <td>4122</td>\n",
       "      <td>R</td>\n",
       "      <td>...</td>\n",
       "      <td>1.549113</td>\n",
       "      <td>-0.051556</td>\n",
       "      <td>-0.735559</td>\n",
       "      <td>-1.160270</td>\n",
       "      <td>-0.735287</td>\n",
       "      <td>-3.654268</td>\n",
       "      <td>-0.167906</td>\n",
       "      <td>-0.870936</td>\n",
       "      <td>-0.899768</td>\n",
       "      <td>-3.654268</td>\n",
       "    </tr>\n",
       "    <tr>\n",
       "      <th>2</th>\n",
       "      <td>110413</td>\n",
       "      <td>2</td>\n",
       "      <td>1</td>\n",
       "      <td>R</td>\n",
       "      <td>3207</td>\n",
       "      <td>R</td>\n",
       "      <td>1392</td>\n",
       "      <td>R</td>\n",
       "      <td>1815</td>\n",
       "      <td>R</td>\n",
       "      <td>...</td>\n",
       "      <td>1.108905</td>\n",
       "      <td>-0.150939</td>\n",
       "      <td>0.292282</td>\n",
       "      <td>0.313240</td>\n",
       "      <td>0.722638</td>\n",
       "      <td>-3.264918</td>\n",
       "      <td>0.147635</td>\n",
       "      <td>-0.021935</td>\n",
       "      <td>0.207421</td>\n",
       "      <td>-3.264918</td>\n",
       "    </tr>\n",
       "    <tr>\n",
       "      <th>3</th>\n",
       "      <td>110510</td>\n",
       "      <td>2</td>\n",
       "      <td>1</td>\n",
       "      <td>R</td>\n",
       "      <td>19244</td>\n",
       "      <td>R</td>\n",
       "      <td>7694</td>\n",
       "      <td>R</td>\n",
       "      <td>11550</td>\n",
       "      <td>R</td>\n",
       "      <td>...</td>\n",
       "      <td>0.076189</td>\n",
       "      <td>-2.319545</td>\n",
       "      <td>-0.648466</td>\n",
       "      <td>-1.160270</td>\n",
       "      <td>0.196608</td>\n",
       "      <td>-2.549053</td>\n",
       "      <td>-2.656479</td>\n",
       "      <td>-0.823571</td>\n",
       "      <td>-0.899768</td>\n",
       "      <td>-2.549053</td>\n",
       "    </tr>\n",
       "    <tr>\n",
       "      <th>4</th>\n",
       "      <td>111081</td>\n",
       "      <td>2</td>\n",
       "      <td>1</td>\n",
       "      <td>R</td>\n",
       "      <td>991</td>\n",
       "      <td>R</td>\n",
       "      <td>421</td>\n",
       "      <td>R</td>\n",
       "      <td>570</td>\n",
       "      <td>R</td>\n",
       "      <td>...</td>\n",
       "      <td>1.274542</td>\n",
       "      <td>0.564100</td>\n",
       "      <td>-1.598646</td>\n",
       "      <td>-1.160270</td>\n",
       "      <td>0.446135</td>\n",
       "      <td>-1.662439</td>\n",
       "      <td>0.622462</td>\n",
       "      <td>-1.094357</td>\n",
       "      <td>-0.899768</td>\n",
       "      <td>-1.662439</td>\n",
       "    </tr>\n",
       "  </tbody>\n",
       "</table>\n",
       "<p>5 rows × 558 columns</p>\n",
       "</div>"
      ],
      "text/plain": [
       "   UNITID  EFFYLEV  LSTUDY XEYTOTLT  EFYTOTLT XEYTOTLM  EFYTOTLM XEYTOTLW  \\\n",
       "0  107044        2       1        R      4789        R      2101        R   \n",
       "1  109785        2       1        R      6263        R      2141        R   \n",
       "2  110413        2       1        R      3207        R      1392        R   \n",
       "3  110510        2       1        R     19244        R      7694        R   \n",
       "4  111081        2       1        R       991        R       421        R   \n",
       "\n",
       "   EFYTOTLW XEFYAIAT  ...  diverse_ind_std annual_cost_std  \\\n",
       "0      2688        R  ...        -1.726940       -2.352586   \n",
       "1      4122        R  ...         1.549113       -0.051556   \n",
       "2      1815        R  ...         1.108905       -0.150939   \n",
       "3     11550        R  ...         0.076189       -2.319545   \n",
       "4       570        R  ...         1.274542        0.564100   \n",
       "\n",
       "   avg_award_sqrt_std pct_awarded_sqrt_std  GRNRALT_rate_std logit_intl_pct  \\\n",
       "0            0.010589             1.210253         -0.093704      -2.646689   \n",
       "1           -0.735559            -1.160270         -0.735287      -3.654268   \n",
       "2            0.292282             0.313240          0.722638      -3.264918   \n",
       "3           -0.648466            -1.160270          0.196608      -2.549053   \n",
       "4           -1.598646            -1.160270          0.446135      -1.662439   \n",
       "\n",
       "   TUITION2_std avg_award_std  pct_awarded_std     logit  \n",
       "0     -1.623191     -0.317656         1.965755 -2.646689  \n",
       "1     -0.167906     -0.870936        -0.899768 -3.654268  \n",
       "2      0.147635     -0.021935         0.207421 -3.264918  \n",
       "3     -2.656479     -0.823571        -0.899768 -2.549053  \n",
       "4      0.622462     -1.094357        -0.899768 -1.662439  \n",
       "\n",
       "[5 rows x 558 columns]"
      ]
     },
     "execution_count": 2,
     "metadata": {},
     "output_type": "execute_result"
    }
   ],
   "source": [
    "data = pd.read_csv('Data/data 258.csv')\n",
    "\n",
    "# convert integers to float so I don't have to see warnings anymore\n",
    "data.loc[:, 'TUITION2'] = data.TUITION2.astype('float64')\n",
    "data.loc[:, 'avg_award'] = data.avg_award.astype('float64')\n",
    "data.head()"
   ]
  },
  {
   "cell_type": "code",
   "execution_count": 3,
   "metadata": {},
   "outputs": [],
   "source": [
    "# change all proportions to percentages\n",
    "#data.loc[:, 'GRNRALT_rate'] = data.GRNRALT_rate*100\n",
    "#data.loc[:, 'diverse_ind'] = data.diverse_ind*100\n",
    "#data.loc[:, 'pct_awarded'] = data.pct_awarded*100"
   ]
  },
  {
   "cell_type": "code",
   "execution_count": 5,
   "metadata": {},
   "outputs": [],
   "source": [
    "#data.to_csv('Data/data 258.csv', index = False)"
   ]
  },
  {
   "cell_type": "code",
   "execution_count": 3,
   "metadata": {},
   "outputs": [],
   "source": [
    "features = ['GRNRALT_rate','TUITION2','diverse_ind','avg_award','pct_awarded']\n",
    "features_std = []\n",
    "for i in range(len(features)):\n",
    "    features_std.append(features[i]+'_std')"
   ]
  },
  {
   "cell_type": "code",
   "execution_count": 4,
   "metadata": {},
   "outputs": [
    {
     "data": {
      "text/plain": [
       "(52, 558)"
      ]
     },
     "execution_count": 4,
     "metadata": {},
     "output_type": "execute_result"
    }
   ],
   "source": [
    "#data.to_csv('Data/data 258.csv', index = False)\n",
    "from sklearn.model_selection import train_test_split\n",
    "np.random.seed(951)\n",
    "train, test = train_test_split(data, test_size = 0.2)\n",
    "train.shape\n",
    "test.shape"
   ]
  },
  {
   "cell_type": "code",
   "execution_count": 27,
   "metadata": {},
   "outputs": [
    {
     "data": {
      "text/plain": [
       "array([ 0.29212099,  0.27136619,  0.23696898,  0.09147241, -0.04355403])"
      ]
     },
     "execution_count": 27,
     "metadata": {},
     "output_type": "execute_result"
    }
   ],
   "source": [
    "# current final model\n",
    "# standardize\n",
    "scaler = StandardScaler()\n",
    "scaler.fit(train[features])\n",
    "transformed_linear = LinearRegression()\n",
    "result = transformed_linear.fit(X = scaler.transform(train[features]), y = train.logit)\n",
    "y_pred_logit = result.predict(X = scaler.transform(test[features]))\n",
    "result.coef_"
   ]
  },
  {
   "cell_type": "code",
   "execution_count": 20,
   "metadata": {},
   "outputs": [
    {
     "data": {
      "text/plain": [
       "[<matplotlib.lines.Line2D at 0x1e8dee81240>]"
      ]
     },
     "execution_count": 20,
     "metadata": {},
     "output_type": "execute_result"
    },
    {
     "data": {
      "image/png": "[encoded data removed]",
      "text/plain": [
       "<Figure size 432x288 with 1 Axes>"
      ]
     },
     "metadata": {
      "needs_background": "light"
     },
     "output_type": "display_data"
    }
   ],
   "source": [
    "y_pred = reverse_logit(y_pred_logit)\n",
    "plt.scatter(y_pred*100, test.intl_pct)\n",
    "plt.title('Actual vs. Predicted Enrollment')\n",
    "plt.xlabel('% Enrolled (Predicted)')\n",
    "plt.ylabel('% Enrolled (Actual)')\n",
    "plt.plot([0,20],[0,20])"
   ]
  },
  {
   "cell_type": "code",
   "execution_count": 18,
   "metadata": {},
   "outputs": [
    {
     "data": {
      "text/plain": [
       "4.451004146671471"
      ]
     },
     "execution_count": 18,
     "metadata": {},
     "output_type": "execute_result"
    }
   ],
   "source": [
    "# mean absolute error\n",
    "np.mean(np.abs(y_pred*100- test.intl_pct)) #4.45%"
   ]
  },
  {
   "cell_type": "code",
   "execution_count": 90,
   "metadata": {},
   "outputs": [
    {
     "name": "stdout",
     "output_type": "stream",
     "text": [
      "TUITION2 0.3372093023255814\n",
      "0.4372093023255814\n",
      "4432.700093023256\n"
     ]
    }
   ],
   "source": [
    "# how do I suggest actionable insight?\n",
    "# exclude tuition\n",
    "# strategy: suggest the one with the biggest return on investment, if move up in the distribution by 10th percentile\n",
    "# exception: graduation rate above median\n",
    "# take one school\n",
    "value = '111948'\n",
    "inst_value = data[data.UNITID==value][features]\n",
    "feature = features[1]\n",
    "#print(inst_value[feature].values[0])\n",
    "percent = np.mean(data[feature]<=inst_value[feature].values[0])\n",
    "print(feature, percent)\n",
    "new_percent = np.min([percent + 0.1, 1])\n",
    "print(new_percent)\n",
    "new_inst_value = np.percentile(data[feature], new_percent)\n",
    "print(new_inst_value)\n"
   ]
  },
  {
   "cell_type": "code",
   "execution_count": 39,
   "metadata": {},
   "outputs": [
    {
     "data": {
      "text/plain": [
       "1700.0"
      ]
     },
     "execution_count": 39,
     "metadata": {},
     "output_type": "execute_result"
    }
   ],
   "source": [
    "feature = features[3]\n",
    "np.min(data[data[feature]>0][feature])"
   ]
  },
  {
   "cell_type": "code",
   "execution_count": 16,
   "metadata": {},
   "outputs": [
    {
     "data": {
      "text/plain": [
       "0.5038759689922481"
      ]
     },
     "execution_count": 16,
     "metadata": {},
     "output_type": "execute_result"
    },
    {
     "data": {
      "image/png": "[encoded data removed]",
      "text/plain": [
       "<Figure size 432x288 with 1 Axes>"
      ]
     },
     "metadata": {
      "needs_background": "light"
     },
     "output_type": "display_data"
    }
   ],
   "source": [
    "# look at international vs overall graduation rate\n",
    "plt.hist(data.GRNRALT_rate/data.GRTOTLT_rate)\n",
    "sum(data.GRNRALT_rate/data.GRTOTLT_rate<1)/258 # half schools have international graduation rate below "
   ]
  },
  {
   "cell_type": "markdown",
   "metadata": {},
   "source": [
    "# everything put together"
   ]
  },
  {
   "cell_type": "code",
   "execution_count": 11,
   "metadata": {},
   "outputs": [],
   "source": [
    "# fit the model\n",
    "scaler = StandardScaler()\n",
    "scaler.fit(data[features])\n",
    "transformed_linear = LinearRegression()\n",
    "result = transformed_linear.fit(X = scaler.transform(data[features]), y = data.logit)"
   ]
  },
  {
   "cell_type": "code",
   "execution_count": 8,
   "metadata": {},
   "outputs": [],
   "source": [
    "def get_percentile(feature, inst_value, data, extra_pct = 0.1):\n",
    "    \"\"\"\n",
    "    don't put in 0 as extra_pct, don't work\n",
    "    \"\"\"\n",
    "    feature_value = inst_value[feature].values[0]\n",
    "    percent = np.mean(data[feature]< feature_value)\n",
    "    new_percent = np.min([percent + extra_pct, 1])\n",
    "    new_feature_value = np.percentile(data[feature], new_percent*100)\n",
    "    # if new feature value is 0 (in the case of financial aid)\n",
    "    if new_feature_value == 0:\n",
    "        new_feature_value = np.min(data[data[feature]>0][feature])\n",
    "        new_percent = np.mean(data[feature]< new_feature_value)\n",
    "    return {'feature_value':feature_value, \n",
    "            'percent':percent, \n",
    "            'new_feature_value':new_feature_value, \n",
    "            'new_percent':new_percent}\n",
    "def reverse_logit(logit):\n",
    "    return np.exp(logit)/(1 + np.exp(logit))\n",
    "def get_improvement(feature, inst_value, data, result, scaler, extra_pct = 0.1):\n",
    "    input_update = get_percentile(feature, inst_value, data, extra_pct)\n",
    "    old_prediction = result.predict(X = scaler.transform(inst_value))\n",
    "    old_intl_pct = reverse_logit(old_prediction[0])\n",
    "    new_inst_value = inst_value.copy()\n",
    "    new_inst_value[feature] = input_update['new_feature_value']\n",
    "    new_prediction = result.predict(X = scaler.transform(new_inst_value))\n",
    "    new_intl_pct = reverse_logit(new_prediction[0])\n",
    "    increase = (new_intl_pct - old_intl_pct)*100\n",
    "    return round(np.min([increase, 100]),2)\n",
    "def select_best_feature(value, features_actionable, inst_value, data, result, scaler, extra_pct = 0.1):\n",
    "    improvements = {}\n",
    "    for feature in features_actionable:\n",
    "        improvements[feature] = get_improvement(feature, inst_value, data, result, scaler, extra_pct)\n",
    "    best_feature = max(improvements, key = improvements.get)\n",
    "    return([best_feature, improvements])\n",
    "\n",
    "def generate_recommendations(best_feature, value, inst_value, data, extra_pct = 0.1):\n",
    "    if best_feature[0] == 'GRNRALT_rate':\n",
    "        update = get_percentile('GRNRALT_rate', inst_value, data, extra_pct)\n",
    "        string = \"Currently, your international student graduation rate is {}%, better than {}% of the institutions. As a reference, your overall graduation rate is {}%. If you boost your international graduation rate to {}% (better than {}% of the institutions), you should attract an additional {}% of international students.\"\n",
    "        output_text = html.Div([\n",
    "                html.P(\n",
    "                string.format( \n",
    "                        str(round(update['feature_value']*100,1)), \n",
    "                        str(round(update['percent']*100,1)),\n",
    "                        str(round(data.GRTOTLT_rate[data.UNITID==value].values[0]*100,1)),\n",
    "                        str(round(update['new_feature_value']*100,1)),\n",
    "                        str(round(update['new_percent']*100,1)),\n",
    "                        str(best_feature[1]['GRNRALT_rate'])\n",
    "                   )\n",
    "                ),\n",
    "                html.P('Additional resource: '),\n",
    "                dcc.Link('https://www.nafsa.org/professional-resources/publications/retaining-international-students', \n",
    "                         href='https://www.nafsa.org/professional-resources/publications/retaining-international-students')]\n",
    "    )\n",
    "        #output_graph = make_bar(data[data.UNITID == value])\n",
    "        return output_text# output_graph#,\n",
    "    if best_feature[0] == 'diverse_ind':\n",
    "        update = get_percentile(best_feature[0], inst_value, data, extra_pct = 0.1)\n",
    "        string = \"Currently, your racial diversity index is {}%, better than {}% of the institutions. (*Also show a distribution of races.) If you recruit more domestic students of racial minorities, and boost your diversity index to {}% (better than {}% of the institutions), you should attract an additional {}% of international students.\"\n",
    "        output_text = string.format( \n",
    "            str(round(update['feature_value']*100,1)), \n",
    "            str(round(update['percent']*100,1)),\n",
    "            str(round(update['new_feature_value']*100,1)),\n",
    "            str(round(update['new_percent']*100,1)),\n",
    "            str(best_feature[1][best_feature[0]])\n",
    "                   )\n",
    "        #output_graph = make_bar(data[data.UNITID == value])\n",
    "        return  output_text# output_graph#,\n",
    "    if best_feature[0] == 'avg_award': \n",
    "        update = get_percentile(best_feature[0], inst_value, data, extra_pct = 0.1)\n",
    "        string = \"Currently, your average international student receives ${} in financial aid, better than {}% of the institutions. If you increase your average financial aid to ${} (better than {}% of the institutions), you should attract an additional {}% of international students.\"\n",
    "        output = string.format( \n",
    "            str(round(update['feature_value'])), \n",
    "            str(round(update['percent']*100,1)),\n",
    "            str(round(update['new_feature_value'])),\n",
    "            str(round(update['new_percent']*100,1)),\n",
    "            str(best_feature[1][best_feature[0]])\n",
    "                   )\n",
    "        return output\n",
    "    if best_feature[0] == 'pct_awarded': \n",
    "        update = get_percentile(best_feature[0], inst_value, data, extra_pct = 0.1)\n",
    "        string = \"Currently, {}% of your international students receive financial aid, better than {}% of the institutions. If you award financial aid to {}% of the international students (better than {}% of the institutions), you should attract an additional {}% of international students.\"\n",
    "        output = string.format( \n",
    "            str(round(update['feature_value']*100,1)), \n",
    "            str(round(update['percent']*100,1)),\n",
    "            str(round(update['new_feature_value']*100,1)),\n",
    "            str(round(update['new_percent']*100,1)),\n",
    "            str(best_feature[1][best_feature[0]])\n",
    "                   )\n",
    "        return output"
   ]
  },
  {
   "cell_type": "code",
   "execution_count": 9,
   "metadata": {},
   "outputs": [],
   "source": [
    "def update_recommendation(value, features_actionable, data, extra_pct = 0.1):\n",
    "    inst_value = data[data.UNITID==value][features] # all features used in the model\n",
    "    # fit the model\n",
    "    scaler = StandardScaler()\n",
    "    scaler.fit(data[features])\n",
    "    transformed_linear = LinearRegression()\n",
    "    result = transformed_linear.fit(X = scaler.transform(data[features]), y = data.logit)\n",
    "    best_feature = select_best_feature(value, features_actionable, inst_value, data, result, scaler, extra_pct)\n",
    "    recommendations = generate_recommendations(best_feature, inst_value, data, extra_pct)\n",
    "    return recommendations"
   ]
  },
  {
   "cell_type": "code",
   "execution_count": 9,
   "metadata": {},
   "outputs": [
    {
     "ename": "NameError",
     "evalue": "name 'update_recommendation' is not defined",
     "output_type": "error",
     "traceback": [
      "\u001b[1;31m---------------------------------------------------------------------------\u001b[0m",
      "\u001b[1;31mNameError\u001b[0m                                 Traceback (most recent call last)",
      "\u001b[1;32m<ipython-input-9-03b535817b33>\u001b[0m in \u001b[0;36m<module>\u001b[1;34m\u001b[0m\n\u001b[0;32m      1\u001b[0m \u001b[0mfeatures_actionable\u001b[0m \u001b[1;33m=\u001b[0m \u001b[1;33m[\u001b[0m\u001b[1;34m'GRNRALT_rate'\u001b[0m\u001b[1;33m,\u001b[0m\u001b[1;34m'diverse_ind'\u001b[0m\u001b[1;33m,\u001b[0m\u001b[1;34m'avg_award'\u001b[0m\u001b[1;33m,\u001b[0m\u001b[1;34m'pct_awarded'\u001b[0m\u001b[1;33m]\u001b[0m\u001b[1;33m\u001b[0m\u001b[1;33m\u001b[0m\u001b[0m\n\u001b[0;32m      2\u001b[0m \u001b[0mvalue\u001b[0m \u001b[1;33m=\u001b[0m \u001b[0mdata\u001b[0m\u001b[1;33m.\u001b[0m\u001b[0mUNITID\u001b[0m\u001b[1;33m[\u001b[0m\u001b[1;36m5\u001b[0m\u001b[1;33m]\u001b[0m\u001b[1;33m\u001b[0m\u001b[1;33m\u001b[0m\u001b[0m\n\u001b[1;32m----> 3\u001b[1;33m \u001b[0mupdate_recommendation\u001b[0m\u001b[1;33m(\u001b[0m\u001b[0mvalue\u001b[0m\u001b[1;33m,\u001b[0m \u001b[0mfeatures_actionable\u001b[0m\u001b[1;33m,\u001b[0m \u001b[0mdata\u001b[0m\u001b[1;33m)\u001b[0m\u001b[1;33m\u001b[0m\u001b[1;33m\u001b[0m\u001b[0m\n\u001b[0m",
      "\u001b[1;31mNameError\u001b[0m: name 'update_recommendation' is not defined"
     ]
    }
   ],
   "source": [
    "features_actionable = ['GRNRALT_rate','diverse_ind','avg_award','pct_awarded']\n",
    "value = data.UNITID[5]\n",
    "update_recommendation(value, features_actionable, data)"
   ]
  },
  {
   "cell_type": "code",
   "execution_count": 46,
   "metadata": {},
   "outputs": [],
   "source": [
    "def update_snapshot(value):\n",
    "    output = 'Your instituion snapshot:'\n",
    "    for i in range(len(features)):\n",
    "        newline = feature_display_name[i] + ':' + str(data[data.UNITID == value][features[i]].values[0])\n",
    "        output = output + newline\n",
    "    return output"
   ]
  },
  {
   "cell_type": "code",
   "execution_count": 48,
   "metadata": {},
   "outputs": [
    {
     "data": {
      "text/plain": [
       "'Your instituion snapshot:International Graduation Rate:0.7560975609999999Tuition:50210.0Diversity Index:0.571064856Financial Aid $:0.0Financial Aid %:0.0'"
      ]
     },
     "execution_count": 48,
     "metadata": {},
     "output_type": "execute_result"
    }
   ],
   "source": [
    "feature_display_name = [\n",
    "                        'International Graduation Rate',\n",
    "                        'Tuition', \n",
    "                        'Diversity Index',\n",
    "                        'Financial Aid $',\n",
    "                        'Financial Aid %'\n",
    "                        ]\n",
    "update_snapshot(value)"
   ]
  },
  {
   "cell_type": "markdown",
   "metadata": {},
   "source": [
    "# race histogram"
   ]
  },
  {
   "cell_type": "code",
   "execution_count": null,
   "metadata": {},
   "outputs": [],
   "source": [
    "import plotly.graph_objs as go\n",
    "go.Bar?"
   ]
  },
  {
   "cell_type": "code",
   "execution_count": 6,
   "metadata": {},
   "outputs": [
    {
     "data": {
      "text/plain": [
       "['GRNRALT_rate', 'diverse_ind']"
      ]
     },
     "execution_count": 6,
     "metadata": {},
     "output_type": "execute_result"
    }
   ],
   "source": [
    "features_actionable = ['GRNRALT_rate','diverse_ind','avg_award','pct_awarded']\n",
    "features_actionable[:2]"
   ]
  },
  {
   "cell_type": "code",
   "execution_count": 97,
   "metadata": {},
   "outputs": [
    {
     "data": {
      "text/plain": [
       "['GRNRALT_rate', 'TUITION2']"
      ]
     },
     "execution_count": 97,
     "metadata": {},
     "output_type": "execute_result"
    }
   ],
   "source": [
    "#data.GRTOTLT_rate"
   ]
  },
  {
   "cell_type": "markdown",
   "metadata": {},
   "source": [
    "# How much money will they make?"
   ]
  },
  {
   "cell_type": "code",
   "execution_count": 6,
   "metadata": {},
   "outputs": [
    {
     "data": {
      "text/plain": [
       "array([0.27159511, 0.23671089, 0.23144125, 0.08441141, 0.02364637])"
      ]
     },
     "execution_count": 6,
     "metadata": {},
     "output_type": "execute_result"
    }
   ],
   "source": [
    "# model with everybody\n",
    "scaler = StandardScaler()\n",
    "scaler.fit(data[features])\n",
    "transformed_linear = LinearRegression()\n",
    "result = transformed_linear.fit(X = scaler.transform(data[features]), y = data.logit)\n",
    "y_pred_logit = result.predict(X = scaler.transform(data[features]))\n",
    "result.coef_"
   ]
  },
  {
   "cell_type": "code",
   "execution_count": 43,
   "metadata": {},
   "outputs": [
    {
     "name": "stdout",
     "output_type": "stream",
     "text": [
      "    GRNRALT_rate  TUITION2  diverse_ind  avg_award  pct_awarded\n",
      "10     71.428571   52260.0    65.933243    31399.0     3.100775\n"
     ]
    }
   ],
   "source": [
    "# function calls def get_improvement\n",
    "value = data.UNITID[10]\n",
    "feature = features[3]\n",
    "inst_value = data[data.UNITID==value][features]\n",
    "print(inst_value)\n",
    "update = get_percentile(feature, inst_value, data)\n",
    "imp = get_improvement(feature, inst_value, data, result, scaler)"
   ]
  },
  {
   "cell_type": "code",
   "execution_count": 45,
   "metadata": {},
   "outputs": [
    {
     "data": {
      "text/plain": [
       "'avg_award'"
      ]
     },
     "execution_count": 45,
     "metadata": {},
     "output_type": "execute_result"
    }
   ],
   "source": [
    "features[3]"
   ]
  },
  {
   "cell_type": "code",
   "execution_count": 44,
   "metadata": {},
   "outputs": [
    {
     "name": "stdout",
     "output_type": "stream",
     "text": [
      "10    1042911.012\n",
      "dtype: float64\n",
      "10    1947132.0\n",
      "Name: EFYNRALT, dtype: float64\n"
     ]
    }
   ],
   "source": [
    "student_gain = data['EFYTOTLT'][data.UNITID==value]*imp/100\n",
    "tuition_gain = student_gain * data['TUITION2'][data.UNITID==value]\n",
    "print(tuition_gain)\n",
    "scholarship_pay = data['EFYNRALT'][data.UNITID==value] * (update['new_feature_value']- update['feature_value'])\n",
    "print(scholarship_pay)\n",
    "\n",
    "net_gain = tuition_gain - scholarship_pay"
   ]
  },
  {
   "cell_type": "code",
   "execution_count": 10,
   "metadata": {},
   "outputs": [
    {
     "data": {
      "text/plain": [
       "-59202.180933603966"
      ]
     },
     "execution_count": 10,
     "metadata": {},
     "output_type": "execute_result"
    }
   ],
   "source": [
    "def net_gain_avg_aid(value, data, result, scaler, extra_pct = 0.1):\n",
    "    inst_value = data[data.UNITID==value][features]\n",
    "    update = get_percentile('avg_award', inst_value, data, extra_pct)\n",
    "    imp = get_improvement('avg_award', inst_value, data, result, scaler, extra_pct)\n",
    "    student_gain = data['EFYTOTLT'][data.UNITID==value]*imp/100\n",
    "    tuition_gain = student_gain * data['TUITION2'][data.UNITID==value]\n",
    "    scholarship_pay = data['EFYNRALT'][data.UNITID==value] * (update['new_feature_value']- update['feature_value'])\n",
    "    net_gain = tuition_gain - scholarship_pay\n",
    "    return net_gain.values[0]\n",
    "\n",
    "def net_gain_pct_aid(value, data, result, scaler, extra_pct = 0.1):\n",
    "    inst_value = data[data.UNITID==value][features]\n",
    "    update = get_percentile('pct_awarded', inst_value, data, extra_pct)\n",
    "    imp = get_improvement('pct_awarded', inst_value, data, result, scaler, extra_pct)\n",
    "    student_gain = data['EFYTOTLT'][data.UNITID==value]*imp/100\n",
    "    tuition_gain = student_gain * data['TUITION2'][data.UNITID==value]\n",
    "    scholarship_pay = data['EFYNRALT'][data.UNITID==value] * (update['new_feature_value']- update['feature_value'])/100*data['avg_award'][data.UNITID==value]\n",
    "    net_gain = tuition_gain - scholarship_pay\n",
    "    return net_gain.values[0]\n",
    "\n",
    "value =data.UNITID[10]\n",
    "net_gain_avg_aid(value, data, result, scaler, extra_pct = 0.03)\n",
    "net_gain_pct_aid(value, data, result, scaler, extra_pct = 0.03)"
   ]
  },
  {
   "cell_type": "code",
   "execution_count": 123,
   "metadata": {},
   "outputs": [],
   "source": [
    "# generate a list of insitutions that can benefit from increasing the percent of scholarship, at all \n",
    "increments = np.array(range(1,10))/100\n",
    "pct_yes = []\n",
    "gained_institutions_pct = []\n",
    "for increment in increments:\n",
    "    gains = []\n",
    "    for value in data.UNITID:\n",
    "        gain = net_gain_pct_aid(value, data, result, scaler, extra_pct = increment)\n",
    "        if gain > 0:\n",
    "            gained_institutions_pct.append(data.UNITID[data.UNITID==value].values[0])\n",
    "        gains.append(gain)\n",
    "    yes = [gain>0 for gain in gains]\n",
    "    pct_yes.append(np.mean(yes))\n",
    "\n",
    "#print(pct_yes)\n",
    "# 36 institutions benefit from raising % scholarship\n",
    "gained_institutions_pct_unique = np.unique(gained_institutions_pct)"
   ]
  },
  {
   "cell_type": "code",
   "execution_count": 11,
   "metadata": {},
   "outputs": [],
   "source": [
    "# get the recommendations for these institutions\n",
    "def best_gain_pct_aid(value, data, result, scaler):\n",
    "    increments = np.array(range(1,10))/100\n",
    "    max_gain = 0\n",
    "    for increment in increments:\n",
    "        gain = net_gain_pct_aid(value, data, result, scaler, extra_pct = increment)\n",
    "        if gain > max_gain:\n",
    "            max_gain = gain\n",
    "            extra_pct_recommended = increment\n",
    "    rec = {}\n",
    "    rec['UNITID'] = value\n",
    "    rec['max_gain'] = max_gain\n",
    "    rec['extra_pct_recommended'] = extra_pct_recommended\n",
    "    return rec\n",
    "# best_gain_pct_aid(117946, data, result, scaler)\n"
   ]
  },
  {
   "cell_type": "code",
   "execution_count": 126,
   "metadata": {},
   "outputs": [],
   "source": [
    "recs_pct = []\n",
    "for value in gained_institutions_pct_unique:\n",
    "    rec = best_gain_pct_aid(value, data, result, scaler)\n",
    "    recs_pct.append(rec)\n",
    "pd.DataFrame(recs_pct).to_csv('Data/inst_gain_from_pct_aid.csv', index = False)"
   ]
  },
  {
   "cell_type": "code",
   "execution_count": 122,
   "metadata": {},
   "outputs": [],
   "source": [
    "# generate a list of insitutions that can benefit from increasing the percent of scholarship, at all \n",
    "increments = np.array(range(1,10))/100\n",
    "gained_institutions_avg = []\n",
    "for increment in increments:\n",
    "    gains = []\n",
    "    for value in data.UNITID:\n",
    "        gain = net_gain_avg_aid(value, data, result, scaler, extra_pct = increment)\n",
    "        if gain > 0:\n",
    "            gained_institutions_avg.append(data.UNITID[data.UNITID==value].values[0])\n",
    "        gains.append(gain)\n",
    "\n",
    "#print(pct_yes)\n",
    "# only 12 schools benefit from raising average scholarship\n",
    "gained_institutions_avg_unique = np.unique(gained_institutions_avg)"
   ]
  },
  {
   "cell_type": "code",
   "execution_count": 12,
   "metadata": {},
   "outputs": [
    {
     "data": {
      "text/plain": [
       "{'UNITID': 113698,\n",
       " 'max_gain': 9304.542574079998,\n",
       " 'extra_pct_recommended': 0.08}"
      ]
     },
     "execution_count": 12,
     "metadata": {},
     "output_type": "execute_result"
    }
   ],
   "source": [
    "# get the recommendations for these institutions\n",
    "def best_gain_avg_aid(value, data, result, scaler):\n",
    "    increments = np.array(range(1,10))/100\n",
    "    max_gain = 0\n",
    "    for increment in increments:\n",
    "        gain = net_gain_avg_aid(value, data, result, scaler, extra_pct = increment)\n",
    "        if gain > max_gain:\n",
    "            max_gain = gain\n",
    "            extra_pct_recommended = increment\n",
    "    rec = {}\n",
    "    rec['UNITID'] = value\n",
    "    rec['max_gain'] = max_gain\n",
    "    rec['extra_pct_recommended'] = extra_pct_recommended\n",
    "    return rec\n",
    "best_gain_pct_aid(113698, data, result, scaler)\n"
   ]
  },
  {
   "cell_type": "code",
   "execution_count": 125,
   "metadata": {},
   "outputs": [],
   "source": [
    "recs_avg = []\n",
    "for value in gained_institutions_avg_unique:\n",
    "    rec = best_gain_avg_aid(value, data, result, scaler)\n",
    "    recs_avg.append(rec)\n",
    "pd.DataFrame(recs_avg).to_csv('Data/inst_gain_from_avg_aid.csv', index = False)"
   ]
  },
  {
   "cell_type": "code",
   "execution_count": 124,
   "metadata": {},
   "outputs": [
    {
     "data": {
      "text/plain": [
       "{113698, 123554, 144962, 148627, 175005, 184694}"
      ]
     },
     "execution_count": 124,
     "metadata": {},
     "output_type": "execute_result"
    }
   ],
   "source": [
    "# intersection 6 institutions\n",
    "set(gained_institutions_avg_unique) & set(gained_institutions_pct_unique)"
   ]
  },
  {
   "cell_type": "markdown",
   "metadata": {},
   "source": [
    "# update actionable insight for short-term"
   ]
  },
  {
   "cell_type": "code",
   "execution_count": 4,
   "metadata": {},
   "outputs": [],
   "source": [
    "avg_gain = pd.read_csv('Data/inst_gain_from_avg_aid.csv')\n",
    "pct_gain = pd.read_csv('Data/inst_gain_from_pct_aid.csv')"
   ]
  },
  {
   "cell_type": "code",
   "execution_count": 22,
   "metadata": {},
   "outputs": [
    {
     "data": {
      "text/plain": [
       "'avg_award'"
      ]
     },
     "execution_count": 22,
     "metadata": {},
     "output_type": "execute_result"
    }
   ],
   "source": [
    "def select_best_feature_shortterm(value):\n",
    "    if value in list(avg_gain.UNITID) and value in list(pct_gain.UNITID):\n",
    "        maxgain_avg = avg_gain.max_gain[avg_gain.UNITID == value]\n",
    "        maxgain_pct = pct_gain.max_gain[pct_gain.UNITID == value]\n",
    "        if maxgain_avg.values[0] > maxgain_pct.values[0]:\n",
    "            return 'avg_award'\n",
    "        else:\n",
    "            return 'pct_awarded'\n",
    "    elif value in list(avg_gain.UNITID):\n",
    "        return 'avg_award'\n",
    "    elif value in list(pct_gain.UNITID):\n",
    "        return 'pct_awarded'\n",
    "    else:\n",
    "        return None\n"
   ]
  },
  {
   "cell_type": "code",
   "execution_count": 50,
   "metadata": {},
   "outputs": [],
   "source": [
    "def generate_recommendations_shortterm(value, \n",
    "                                  features_actionable, # put in % aid & avg aid\n",
    "                                  inst_value, data, result, scaler):\n",
    "    best_feature = select_best_feature_shortterm(value)\n",
    "    if best_feature is None:\n",
    "        return None\n",
    "    elif best_feature == 'avg_award':\n",
    "        increment = avg_gain.extra_pct_recommended[avg_gain.UNITID == value].values[0]\n",
    "        update = get_percentile(best_feature, inst_value, data, extra_pct = increment)\n",
    "        improvement = get_improvement(best_feature, inst_value, data, result, scaler, extra_pct = increment)\n",
    "        string = \"Currently, your average international student receives ${} in financial aid, better than {}% of the institutions. If you increase your average financial aid to ${} (better than {}% of the institutions), you should attract an additional {}% of international students. You net gain in tuition is projected to be ${} per year.\"\n",
    "        output = string.format( \n",
    "            str(round(update['feature_value'])), \n",
    "            str(round(update['percent']*100,1)),\n",
    "            str(round(update['new_feature_value'])),\n",
    "            str(round(update['new_percent']*100,1)),\n",
    "            str(improvement), \n",
    "            str(round(avg_gain.max_gain[avg_gain.UNITID == value].values[0], 1))\n",
    "                   )\n",
    "        \n",
    "        return output\n",
    "    elif best_feature == 'pct_awarded':\n",
    "        increment = pct_gain.extra_pct_recommended[pct_gain.UNITID == value].values[0]\n",
    "        update = get_percentile(best_feature, inst_value, data, extra_pct = increment)\n",
    "        improvement = get_improvement(best_feature, inst_value, data, result, scaler, extra_pct = increment)\n",
    "        string = \"Currently, {}% of your international students receive financial aid, better than {}% of the institutions. If you award financial aid to {}% of the international students (better than {}% of the institutions), you should attract an additional {}% of international students. You net gain in tuition is projected to be ${} per year.\"\n",
    "        output = string.format( \n",
    "            str(round(update['feature_value'])), \n",
    "            str(round(update['percent']*100,1)),\n",
    "            str(round(update['new_feature_value'])),\n",
    "            str(round(update['new_percent']*100,1)),\n",
    "            str(improvement), \n",
    "            str(round(pct_gain.max_gain[pct_gain.UNITID == value].values[0], 1))\n",
    "                   )\n",
    "        \n",
    "        return output\n"
   ]
  },
  {
   "cell_type": "code",
   "execution_count": 52,
   "metadata": {},
   "outputs": [
    {
     "data": {
      "text/plain": [
       "'Currently, 4.0% of your international students receive financial aid, better than 35.3% of the institutions. If you award financial aid to 9.0% of the international students (better than 42.3% of the institutions), you should attract an additional 0.03% of international students. You net gain in tuition is projected to be $89888.1 per year.'"
      ]
     },
     "execution_count": 52,
     "metadata": {},
     "output_type": "execute_result"
    }
   ],
   "source": [
    "value = pct_gain.UNITID.values[1]\n",
    "features_actionable = ['GRNRALT_rate','diverse_ind','avg_award','pct_awarded']\n",
    "inst_value = data[data.UNITID==value][features]\n",
    "generate_recommendations_shortterm(value, features_actionable[2:4], inst_value, data, result, scaler )"
   ]
  },
  {
   "cell_type": "code",
   "execution_count": 41,
   "metadata": {},
   "outputs": [
    {
     "name": "stdout",
     "output_type": "stream",
     "text": [
      "pct_awarded\n",
      "0.08\n",
      "0.05\n"
     ]
    }
   ],
   "source": [
    "value = avg_gain.UNITID.values[0]\n",
    "best_feature = select_best_feature_shortterm(value)\n",
    "print(best_feature)\n",
    "increment = avg_gain.extra_pct_recommended[avg_gain.UNITID == value].values[0]\n",
    "print(increment)\n",
    "improvement = get_improvement(best_feature, inst_value, data, result, scaler, extra_pct = increment)\n",
    "print(improvement)\n"
   ]
  },
  {
   "cell_type": "code",
   "execution_count": null,
   "metadata": {},
   "outputs": [],
   "source": []
  },
  {
   "cell_type": "code",
   "execution_count": 146,
   "metadata": {},
   "outputs": [
    {
     "data": {
      "text/plain": [
       "'pct_awarded'"
      ]
     },
     "execution_count": 146,
     "metadata": {},
     "output_type": "execute_result"
    }
   ],
   "source": []
  },
  {
   "cell_type": "code",
   "execution_count": 137,
   "metadata": {},
   "outputs": [
    {
     "data": {
      "text/plain": [
       "True"
      ]
     },
     "execution_count": 137,
     "metadata": {},
     "output_type": "execute_result"
    }
   ],
   "source": [
    "value in list(avg_gain.UNITID)"
   ]
  }
 ],
 "metadata": {
  "kernelspec": {
   "display_name": "Python 3",
   "language": "python",
   "name": "python3"
  },
  "language_info": {
   "codemirror_mode": {
    "name": "ipython",
    "version": 3
   },
   "file_extension": ".py",
   "mimetype": "text/x-python",
   "name": "python",
   "nbconvert_exporter": "python",
   "pygments_lexer": "ipython3",
   "version": "3.7.3"
  }
 },
 "nbformat": 4,
 "nbformat_minor": 2
}
