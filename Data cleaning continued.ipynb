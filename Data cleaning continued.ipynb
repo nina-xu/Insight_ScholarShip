{
 "cells": [
  {
   "cell_type": "markdown",
   "metadata": {},
   "source": [
    "Re-merging data because of lost data"
   ]
  },
  {
   "cell_type": "code",
   "execution_count": 2,
   "metadata": {},
   "outputs": [],
   "source": [
    "import pandas as pd\n",
    "import matplotlib.pyplot as plt\n",
    "import numpy as np\n",
    "import re"
   ]
  },
  {
   "cell_type": "code",
   "execution_count": 39,
   "metadata": {},
   "outputs": [],
   "source": [
    "# data merged, includes hd2017, effy2017, diverse_ind, intl_pct\n",
    "data = pd.read_csv('Data/Data Merged.csv')\n",
    "#data.head()"
   ]
  },
  {
   "cell_type": "code",
   "execution_count": 40,
   "metadata": {},
   "outputs": [],
   "source": [
    "# US News etc, includes US news ranking, list of good international universities, out of state tuition,\n",
    "# calculated various graduation rates etc\n",
    "usnews274 = pd.read_csv('Data/US News etc 274.csv')"
   ]
  },
  {
   "cell_type": "code",
   "execution_count": 42,
   "metadata": {},
   "outputs": [
    {
     "data": {
      "text/plain": [
       "(3221, 173)"
      ]
     },
     "execution_count": 42,
     "metadata": {},
     "output_type": "execute_result"
    }
   ],
   "source": [
    "data_merged = pd.merge(data, usnews274, how = 'left', on = 'UNITID')\n",
    "data_merged.head()\n",
    "data_merged.shape"
   ]
  },
  {
   "cell_type": "code",
   "execution_count": 4,
   "metadata": {},
   "outputs": [
    {
     "data": {
      "text/plain": [
       "0            NaN\n",
       "1       0.590909\n",
       "2       0.571429\n",
       "3            NaN\n",
       "4       0.729323\n",
       "5            NaN\n",
       "6            NaN\n",
       "7            NaN\n",
       "8       0.500000\n",
       "9            NaN\n",
       "10           NaN\n",
       "11           NaN\n",
       "12           NaN\n",
       "13           NaN\n",
       "14           NaN\n",
       "15           NaN\n",
       "16           NaN\n",
       "17           NaN\n",
       "18           NaN\n",
       "19           NaN\n",
       "20           NaN\n",
       "21           NaN\n",
       "22           NaN\n",
       "23           NaN\n",
       "24           NaN\n",
       "25           NaN\n",
       "26           NaN\n",
       "27           NaN\n",
       "28           NaN\n",
       "29           NaN\n",
       "          ...   \n",
       "3191         NaN\n",
       "3192         NaN\n",
       "3193         NaN\n",
       "3194         NaN\n",
       "3195         NaN\n",
       "3196         NaN\n",
       "3197         NaN\n",
       "3198         NaN\n",
       "3199         NaN\n",
       "3200         NaN\n",
       "3201         NaN\n",
       "3202         NaN\n",
       "3203         NaN\n",
       "3204         NaN\n",
       "3205         NaN\n",
       "3206         NaN\n",
       "3207         NaN\n",
       "3208         NaN\n",
       "3209         NaN\n",
       "3210         NaN\n",
       "3211         NaN\n",
       "3212         NaN\n",
       "3213         NaN\n",
       "3214         NaN\n",
       "3215         NaN\n",
       "3216         NaN\n",
       "3217         NaN\n",
       "3218         NaN\n",
       "3219         NaN\n",
       "3220         NaN\n",
       "Name: GRNRALT_rate, Length: 3221, dtype: float64"
      ]
     },
     "execution_count": 4,
     "metadata": {},
     "output_type": "execute_result"
    }
   ],
   "source": [
    "#calculating graducation rate\n",
    "gr = pd.read_csv('Data/gr2017.csv')\n",
    "gr_4yr = gr[gr.GRTYPE == 3]\n",
    "gr_cohort = gr[gr.GRTYPE == 2]\n",
    "data_merged = pd.merge(data_merged, gr_4yr, how = 'left', on = 'UNITID')"
   ]
  },
  {
   "cell_type": "markdown",
   "metadata": {},
   "source": [
    "# adding internationalstudent.com"
   ]
  },
  {
   "cell_type": "code",
   "execution_count": 3,
   "metadata": {},
   "outputs": [
    {
     "data": {
      "text/html": [
       "<div>\n",
       "<style scoped>\n",
       "    .dataframe tbody tr th:only-of-type {\n",
       "        vertical-align: middle;\n",
       "    }\n",
       "\n",
       "    .dataframe tbody tr th {\n",
       "        vertical-align: top;\n",
       "    }\n",
       "\n",
       "    .dataframe thead th {\n",
       "        text-align: right;\n",
       "    }\n",
       "</style>\n",
       "<table border=\"1\" class=\"dataframe\">\n",
       "  <thead>\n",
       "    <tr style=\"text-align: right;\">\n",
       "      <th></th>\n",
       "      <th>UNITID</th>\n",
       "      <th>EFFYLEV</th>\n",
       "      <th>LSTUDY</th>\n",
       "      <th>XEYTOTLT</th>\n",
       "      <th>EFYTOTLT</th>\n",
       "      <th>XEYTOTLM</th>\n",
       "      <th>EFYTOTLM</th>\n",
       "      <th>XEYTOTLW</th>\n",
       "      <th>EFYTOTLW</th>\n",
       "      <th>XEFYAIAT</th>\n",
       "      <th>...</th>\n",
       "      <th>WEBADDR_cleaned</th>\n",
       "      <th>annual_cost</th>\n",
       "      <th>avg_award</th>\n",
       "      <th>inst_name</th>\n",
       "      <th>intl_awarded</th>\n",
       "      <th>link</th>\n",
       "      <th>state_init</th>\n",
       "      <th>state_name</th>\n",
       "      <th>total_intl</th>\n",
       "      <th>link_cleaned</th>\n",
       "    </tr>\n",
       "  </thead>\n",
       "  <tbody>\n",
       "    <tr>\n",
       "      <th>0</th>\n",
       "      <td>100654</td>\n",
       "      <td>2</td>\n",
       "      <td>1</td>\n",
       "      <td>R</td>\n",
       "      <td>5207</td>\n",
       "      <td>R</td>\n",
       "      <td>2286</td>\n",
       "      <td>R</td>\n",
       "      <td>2921</td>\n",
       "      <td>R</td>\n",
       "      <td>...</td>\n",
       "      <td>aamu.edu</td>\n",
       "      <td>NaN</td>\n",
       "      <td>NaN</td>\n",
       "      <td>NaN</td>\n",
       "      <td>NaN</td>\n",
       "      <td>NaN</td>\n",
       "      <td>NaN</td>\n",
       "      <td>NaN</td>\n",
       "      <td>NaN</td>\n",
       "      <td>NaN</td>\n",
       "    </tr>\n",
       "    <tr>\n",
       "      <th>1</th>\n",
       "      <td>100663</td>\n",
       "      <td>2</td>\n",
       "      <td>1</td>\n",
       "      <td>R</td>\n",
       "      <td>13308</td>\n",
       "      <td>R</td>\n",
       "      <td>5528</td>\n",
       "      <td>R</td>\n",
       "      <td>7780</td>\n",
       "      <td>R</td>\n",
       "      <td>...</td>\n",
       "      <td>uab.edu</td>\n",
       "      <td>NaN</td>\n",
       "      <td>NaN</td>\n",
       "      <td>NaN</td>\n",
       "      <td>NaN</td>\n",
       "      <td>NaN</td>\n",
       "      <td>NaN</td>\n",
       "      <td>NaN</td>\n",
       "      <td>NaN</td>\n",
       "      <td>NaN</td>\n",
       "    </tr>\n",
       "    <tr>\n",
       "      <th>2</th>\n",
       "      <td>100706</td>\n",
       "      <td>2</td>\n",
       "      <td>1</td>\n",
       "      <td>R</td>\n",
       "      <td>7519</td>\n",
       "      <td>R</td>\n",
       "      <td>4287</td>\n",
       "      <td>R</td>\n",
       "      <td>3232</td>\n",
       "      <td>R</td>\n",
       "      <td>...</td>\n",
       "      <td>uah.edu</td>\n",
       "      <td>NaN</td>\n",
       "      <td>NaN</td>\n",
       "      <td>NaN</td>\n",
       "      <td>NaN</td>\n",
       "      <td>NaN</td>\n",
       "      <td>NaN</td>\n",
       "      <td>NaN</td>\n",
       "      <td>NaN</td>\n",
       "      <td>NaN</td>\n",
       "    </tr>\n",
       "    <tr>\n",
       "      <th>3</th>\n",
       "      <td>100724</td>\n",
       "      <td>2</td>\n",
       "      <td>1</td>\n",
       "      <td>R</td>\n",
       "      <td>5229</td>\n",
       "      <td>R</td>\n",
       "      <td>2024</td>\n",
       "      <td>R</td>\n",
       "      <td>3205</td>\n",
       "      <td>R</td>\n",
       "      <td>...</td>\n",
       "      <td>alasu.edu</td>\n",
       "      <td>NaN</td>\n",
       "      <td>NaN</td>\n",
       "      <td>NaN</td>\n",
       "      <td>NaN</td>\n",
       "      <td>NaN</td>\n",
       "      <td>NaN</td>\n",
       "      <td>NaN</td>\n",
       "      <td>NaN</td>\n",
       "      <td>NaN</td>\n",
       "    </tr>\n",
       "    <tr>\n",
       "      <th>4</th>\n",
       "      <td>100751</td>\n",
       "      <td>2</td>\n",
       "      <td>1</td>\n",
       "      <td>R</td>\n",
       "      <td>35625</td>\n",
       "      <td>R</td>\n",
       "      <td>15883</td>\n",
       "      <td>R</td>\n",
       "      <td>19742</td>\n",
       "      <td>R</td>\n",
       "      <td>...</td>\n",
       "      <td>ua.edu</td>\n",
       "      <td>NaN</td>\n",
       "      <td>NaN</td>\n",
       "      <td>NaN</td>\n",
       "      <td>NaN</td>\n",
       "      <td>NaN</td>\n",
       "      <td>NaN</td>\n",
       "      <td>NaN</td>\n",
       "      <td>NaN</td>\n",
       "      <td>NaN</td>\n",
       "    </tr>\n",
       "  </tbody>\n",
       "</table>\n",
       "<p>5 rows × 183 columns</p>\n",
       "</div>"
      ],
      "text/plain": [
       "   UNITID  EFFYLEV  LSTUDY XEYTOTLT  EFYTOTLT XEYTOTLM  EFYTOTLM XEYTOTLW  \\\n",
       "0  100654        2       1        R      5207        R      2286        R   \n",
       "1  100663        2       1        R     13308        R      5528        R   \n",
       "2  100706        2       1        R      7519        R      4287        R   \n",
       "3  100724        2       1        R      5229        R      2024        R   \n",
       "4  100751        2       1        R     35625        R     15883        R   \n",
       "\n",
       "   EFYTOTLW XEFYAIAT  ...  WEBADDR_cleaned annual_cost  avg_award inst_name  \\\n",
       "0      2921        R  ...         aamu.edu         NaN        NaN       NaN   \n",
       "1      7780        R  ...          uab.edu         NaN        NaN       NaN   \n",
       "2      3232        R  ...          uah.edu         NaN        NaN       NaN   \n",
       "3      3205        R  ...        alasu.edu         NaN        NaN       NaN   \n",
       "4     19742        R  ...           ua.edu         NaN        NaN       NaN   \n",
       "\n",
       "   intl_awarded link  state_init state_name  total_intl link_cleaned  \n",
       "0           NaN  NaN         NaN        NaN         NaN          NaN  \n",
       "1           NaN  NaN         NaN        NaN         NaN          NaN  \n",
       "2           NaN  NaN         NaN        NaN         NaN          NaN  \n",
       "3           NaN  NaN         NaN        NaN         NaN          NaN  \n",
       "4           NaN  NaN         NaN        NaN         NaN          NaN  \n",
       "\n",
       "[5 rows x 183 columns]"
      ]
     },
     "execution_count": 3,
     "metadata": {},
     "output_type": "execute_result"
    }
   ],
   "source": [
    "data_merged = pd.read_csv('Data/Data Merged.csv')\n",
    "data_merged.head()"
   ]
  },
  {
   "cell_type": "code",
   "execution_count": 43,
   "metadata": {},
   "outputs": [
    {
     "data": {
      "text/plain": [
       "(332, 8)"
      ]
     },
     "execution_count": 43,
     "metadata": {},
     "output_type": "execute_result"
    }
   ],
   "source": [
    "scholarship = pd.read_csv('Data/InternationalStudent_com.csv')\n",
    "scholarship.head()\n",
    "scholarship.shape"
   ]
  },
  {
   "cell_type": "code",
   "execution_count": 7,
   "metadata": {},
   "outputs": [
    {
     "name": "stdout",
     "output_type": "stream",
     "text": [
      "Harding University\n",
      "Harding University\n"
     ]
    },
    {
     "data": {
      "text/plain": [
       "100"
      ]
     },
     "execution_count": 7,
     "metadata": {},
     "output_type": "execute_result"
    }
   ],
   "source": [
    "from fuzzywuzzy import fuzz\n",
    "print(scholarship.inst_name[1])\n",
    "print(data_merged.INSTNM[9])\n",
    "fuzz.ratio(scholarship.inst_name[1], data_merged.INSTNM[9])"
   ]
  },
  {
   "cell_type": "code",
   "execution_count": 44,
   "metadata": {},
   "outputs": [
    {
     "data": {
      "text/plain": [
       "246"
      ]
     },
     "execution_count": 44,
     "metadata": {},
     "output_type": "execute_result"
    }
   ],
   "source": [
    "len(set(scholarship.inst_name) & set(data_merged.INSTNM))\n",
    "# 246 exact same names"
   ]
  },
  {
   "cell_type": "code",
   "execution_count": 31,
   "metadata": {},
   "outputs": [
    {
     "data": {
      "text/plain": [
       "'http://www.coloradocollege.edu'"
      ]
     },
     "execution_count": 31,
     "metadata": {},
     "output_type": "execute_result"
    }
   ],
   "source": []
  },
  {
   "cell_type": "code",
   "execution_count": 45,
   "metadata": {},
   "outputs": [],
   "source": [
    "# try matching url\n",
    "url1 = data_merged.WEBADDR\n",
    "url1_cleaned = []\n",
    "for url in url1:\n",
    "    url = url.lower()\n",
    "    url = re.sub('http://','', url)\n",
    "    url = re.sub('https://','', url)\n",
    "    url = re.sub('www.','',url)\n",
    "    url = re.sub('/','', url)\n",
    "    url1_cleaned.append(url)\n",
    "#url1_cleaned\n"
   ]
  },
  {
   "cell_type": "code",
   "execution_count": 50,
   "metadata": {},
   "outputs": [],
   "source": [
    "data_merged.loc[:,'WEBADDR_cleaned'] = url1_cleaned"
   ]
  },
  {
   "cell_type": "code",
   "execution_count": 52,
   "metadata": {},
   "outputs": [],
   "source": [
    "#data_merged.head()"
   ]
  },
  {
   "cell_type": "code",
   "execution_count": 34,
   "metadata": {},
   "outputs": [],
   "source": [
    "url2 = scholarship.link\n",
    "url2_cleaned = []\n",
    "for url in url2:\n",
    "    url = url.lower()\n",
    "    url = re.sub('http://','', url)\n",
    "    url = re.sub('https://','', url)\n",
    "    url = re.sub('http//','', url)\n",
    "    url = re.sub('www.','',url)\n",
    "    url = re.sub('.edu\\D+','.edu', url)\n",
    "    url = re.sub('admissions.','',url)\n",
    "    url2_cleaned.append(url)\n",
    "#url2_cleaned"
   ]
  },
  {
   "cell_type": "code",
   "execution_count": 53,
   "metadata": {},
   "outputs": [],
   "source": [
    "scholarship.loc[:,'link_cleaned'] = url2_cleaned"
   ]
  },
  {
   "cell_type": "code",
   "execution_count": 46,
   "metadata": {},
   "outputs": [
    {
     "data": {
      "text/plain": [
       "285"
      ]
     },
     "execution_count": 46,
     "metadata": {},
     "output_type": "execute_result"
    }
   ],
   "source": [
    "len(set(url1_cleaned) & set(url2_cleaned)) # 285 exact matches"
   ]
  },
  {
   "cell_type": "code",
   "execution_count": 54,
   "metadata": {},
   "outputs": [],
   "source": []
  },
  {
   "cell_type": "code",
   "execution_count": 56,
   "metadata": {},
   "outputs": [],
   "source": [
    "# merge\n",
    "data_merged_tmp = pd.merge(data_merged, scholarship, how = 'left', left_on = 'WEBADDR_cleaned', right_on = 'link_cleaned')\n",
    "data_merged_tmp.head()\n",
    "data_merged_tmp.to_csv('Data/Data Merged tmp.csv', index = False)"
   ]
  },
  {
   "cell_type": "code",
   "execution_count": 57,
   "metadata": {},
   "outputs": [],
   "source": [
    "data_merged = data_merged_tmp\n",
    "data_merged.to_csv('Data/Data Merged.csv', index = False)"
   ]
  }
 ],
 "metadata": {
  "kernelspec": {
   "display_name": "Python 3",
   "language": "python",
   "name": "python3"
  },
  "language_info": {
   "codemirror_mode": {
    "name": "ipython",
    "version": 3
   },
   "file_extension": ".py",
   "mimetype": "text/x-python",
   "name": "python",
   "nbconvert_exporter": "python",
   "pygments_lexer": "ipython3",
   "version": "3.7.3"
  }
 },
 "nbformat": 4,
 "nbformat_minor": 2
}
