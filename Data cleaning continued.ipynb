{
 "cells": [
  {
   "cell_type": "markdown",
   "metadata": {},
   "source": [
    "Re-merging data because of lost data"
   ]
  },
  {
   "cell_type": "code",
   "execution_count": 1,
   "metadata": {},
   "outputs": [],
   "source": [
    "import pandas as pd\n",
    "import matplotlib.pyplot as plt\n",
    "import numpy as np\n",
    "import re"
   ]
  },
  {
   "cell_type": "code",
   "execution_count": 2,
   "metadata": {},
   "outputs": [
    {
     "name": "stderr",
     "output_type": "stream",
     "text": [
      "C:\\Users\\Ning\\Anaconda3\\lib\\site-packages\\IPython\\core\\interactiveshell.py:3049: DtypeWarning: Columns (106,137) have mixed types. Specify dtype option on import or set low_memory=False.\n",
      "  interactivity=interactivity, compiler=compiler, result=result)\n"
     ]
    }
   ],
   "source": [
    "# data merged, includes hd2017, effy2017, diverse_ind, intl_pct\n",
    "data = pd.read_csv('Data/Data Merged.csv')\n",
    "#data.head()"
   ]
  },
  {
   "cell_type": "code",
   "execution_count": 40,
   "metadata": {},
   "outputs": [],
   "source": [
    "# US News etc, includes US news ranking, list of good international universities, out of state tuition,\n",
    "# calculated various graduation rates etc\n",
    "usnews274 = pd.read_csv('Data/US News etc 274.csv')"
   ]
  },
  {
   "cell_type": "code",
   "execution_count": 42,
   "metadata": {},
   "outputs": [
    {
     "data": {
      "text/plain": [
       "(3221, 173)"
      ]
     },
     "execution_count": 42,
     "metadata": {},
     "output_type": "execute_result"
    }
   ],
   "source": [
    "data_merged = pd.merge(data, usnews274, how = 'left', on = 'UNITID')\n",
    "data_merged.head()\n",
    "data_merged.shape"
   ]
  },
  {
   "cell_type": "markdown",
   "metadata": {},
   "source": [
    "# calculate graduation rate"
   ]
  },
  {
   "cell_type": "code",
   "execution_count": 5,
   "metadata": {},
   "outputs": [],
   "source": [
    "pd.merge?"
   ]
  },
  {
   "cell_type": "code",
   "execution_count": 6,
   "metadata": {},
   "outputs": [],
   "source": [
    "#calculating graducation rate\n",
    "gr = pd.read_csv('Data/gr2017.csv')\n",
    "gr_4yr = gr[gr.GRTYPE == 3] # completers\n",
    "gr_cohort = gr[gr.GRTYPE == 2] # adjusted cohort\n",
    "gr = pd.merge(gr_4yr, gr_cohort, on = 'UNITID', suffixes=('_num', '_denom'))"
   ]
  },
  {
   "cell_type": "code",
   "execution_count": 7,
   "metadata": {},
   "outputs": [
    {
     "name": "stdout",
     "output_type": "stream",
     "text": [
      "['GRTOTLT', 'GRTOTLM', 'GRTOTLW', 'GRAIANT', 'GRAIANM', 'GRAIANW', 'GRASIAT', 'GRASIAM', 'GRASIAW', 'GRBKAAT', 'GRBKAAM', 'GRBKAAW', 'GRHISPT', 'GRHISPM', 'GRHISPW', 'GRNHPIT', 'GRNHPIM', 'GRNHPIW', 'GRWHITT', 'GRWHITM', 'GRWHITW', 'GR2MORT', 'GR2MORM', 'GR2MORW', 'GRUNKNT', 'GRUNKNM', 'GRUNKNW', 'GRNRALT', 'GRNRALM', 'GRNRALW']\n"
     ]
    }
   ],
   "source": [
    "var_names = gr_4yr.columns[7:]\n",
    "#print(var_names)\n",
    "cal_names = []\n",
    "for var_name in var_names:\n",
    "    m = re.search('\\AGR\\w+', var_name)\n",
    "    if m:\n",
    "        cal_names.append(m.group(0))\n",
    "print(cal_names)\n",
    "cal_names[-1] = 'GRNRALW '"
   ]
  },
  {
   "cell_type": "code",
   "execution_count": 8,
   "metadata": {},
   "outputs": [
    {
     "name": "stderr",
     "output_type": "stream",
     "text": [
      "C:\\Users\\Ning\\Anaconda3\\lib\\site-packages\\ipykernel_launcher.py:6: SettingWithCopyWarning: \n",
      "A value is trying to be set on a copy of a slice from a DataFrame\n",
      "\n",
      "See the caveats in the documentation: http://pandas.pydata.org/pandas-docs/stable/indexing.html#indexing-view-versus-copy\n",
      "  \n"
     ]
    },
    {
     "data": {
      "text/html": [
       "<div>\n",
       "<style scoped>\n",
       "    .dataframe tbody tr th:only-of-type {\n",
       "        vertical-align: middle;\n",
       "    }\n",
       "\n",
       "    .dataframe tbody tr th {\n",
       "        vertical-align: top;\n",
       "    }\n",
       "\n",
       "    .dataframe thead th {\n",
       "        text-align: right;\n",
       "    }\n",
       "</style>\n",
       "<table border=\"1\" class=\"dataframe\">\n",
       "  <thead>\n",
       "    <tr style=\"text-align: right;\">\n",
       "      <th></th>\n",
       "      <th>UNITID</th>\n",
       "      <th>GRTYPE_num</th>\n",
       "      <th>CHRTSTAT_num</th>\n",
       "      <th>SECTION_num</th>\n",
       "      <th>COHORT_num</th>\n",
       "      <th>LINE_num</th>\n",
       "      <th>XGRTOTLT_num</th>\n",
       "      <th>GRTOTLT_num</th>\n",
       "      <th>XGRTOTLM_num</th>\n",
       "      <th>GRTOTLM_num</th>\n",
       "      <th>...</th>\n",
       "      <th>GRWHITW_rate</th>\n",
       "      <th>GR2MORT_rate</th>\n",
       "      <th>GR2MORM_rate</th>\n",
       "      <th>GR2MORW_rate</th>\n",
       "      <th>GRUNKNT_rate</th>\n",
       "      <th>GRUNKNM_rate</th>\n",
       "      <th>GRUNKNW_rate</th>\n",
       "      <th>GRNRALT_rate</th>\n",
       "      <th>GRNRALM_rate</th>\n",
       "      <th>GRNRALW _rate</th>\n",
       "    </tr>\n",
       "  </thead>\n",
       "  <tbody>\n",
       "    <tr>\n",
       "      <th>0</th>\n",
       "      <td>100654</td>\n",
       "      <td>3</td>\n",
       "      <td>13</td>\n",
       "      <td>1</td>\n",
       "      <td>1</td>\n",
       "      <td>999</td>\n",
       "      <td>R</td>\n",
       "      <td>201</td>\n",
       "      <td>R</td>\n",
       "      <td>83.0</td>\n",
       "      <td>...</td>\n",
       "      <td>0.500000</td>\n",
       "      <td>0.333333</td>\n",
       "      <td>0.333333</td>\n",
       "      <td>0.333333</td>\n",
       "      <td>0.000000</td>\n",
       "      <td>0.000000</td>\n",
       "      <td>0.0</td>\n",
       "      <td>0.000000</td>\n",
       "      <td>0.000000</td>\n",
       "      <td>0.000000</td>\n",
       "    </tr>\n",
       "    <tr>\n",
       "      <th>1</th>\n",
       "      <td>100663</td>\n",
       "      <td>3</td>\n",
       "      <td>13</td>\n",
       "      <td>1</td>\n",
       "      <td>1</td>\n",
       "      <td>999</td>\n",
       "      <td>R</td>\n",
       "      <td>834</td>\n",
       "      <td>R</td>\n",
       "      <td>306.0</td>\n",
       "      <td>...</td>\n",
       "      <td>0.597701</td>\n",
       "      <td>0.444444</td>\n",
       "      <td>0.346154</td>\n",
       "      <td>0.500000</td>\n",
       "      <td>0.454545</td>\n",
       "      <td>0.500000</td>\n",
       "      <td>0.0</td>\n",
       "      <td>0.590909</td>\n",
       "      <td>0.461538</td>\n",
       "      <td>0.777778</td>\n",
       "    </tr>\n",
       "    <tr>\n",
       "      <th>2</th>\n",
       "      <td>100690</td>\n",
       "      <td>3</td>\n",
       "      <td>13</td>\n",
       "      <td>1</td>\n",
       "      <td>1</td>\n",
       "      <td>999</td>\n",
       "      <td>R</td>\n",
       "      <td>2</td>\n",
       "      <td>R</td>\n",
       "      <td>2.0</td>\n",
       "      <td>...</td>\n",
       "      <td>0.000000</td>\n",
       "      <td>0.000000</td>\n",
       "      <td>0.000000</td>\n",
       "      <td>0.000000</td>\n",
       "      <td>0.000000</td>\n",
       "      <td>0.000000</td>\n",
       "      <td>0.0</td>\n",
       "      <td>0.000000</td>\n",
       "      <td>0.000000</td>\n",
       "      <td>0.000000</td>\n",
       "    </tr>\n",
       "    <tr>\n",
       "      <th>3</th>\n",
       "      <td>100706</td>\n",
       "      <td>3</td>\n",
       "      <td>13</td>\n",
       "      <td>1</td>\n",
       "      <td>1</td>\n",
       "      <td>999</td>\n",
       "      <td>R</td>\n",
       "      <td>317</td>\n",
       "      <td>R</td>\n",
       "      <td>174.0</td>\n",
       "      <td>...</td>\n",
       "      <td>0.538012</td>\n",
       "      <td>0.666667</td>\n",
       "      <td>0.000000</td>\n",
       "      <td>1.000000</td>\n",
       "      <td>0.551724</td>\n",
       "      <td>0.526316</td>\n",
       "      <td>0.6</td>\n",
       "      <td>0.571429</td>\n",
       "      <td>0.615385</td>\n",
       "      <td>0.000000</td>\n",
       "    </tr>\n",
       "    <tr>\n",
       "      <th>4</th>\n",
       "      <td>100724</td>\n",
       "      <td>3</td>\n",
       "      <td>13</td>\n",
       "      <td>1</td>\n",
       "      <td>1</td>\n",
       "      <td>999</td>\n",
       "      <td>R</td>\n",
       "      <td>304</td>\n",
       "      <td>R</td>\n",
       "      <td>121.0</td>\n",
       "      <td>...</td>\n",
       "      <td>0.200000</td>\n",
       "      <td>0.000000</td>\n",
       "      <td>0.000000</td>\n",
       "      <td>0.000000</td>\n",
       "      <td>0.333333</td>\n",
       "      <td>0.000000</td>\n",
       "      <td>0.5</td>\n",
       "      <td>0.428571</td>\n",
       "      <td>0.400000</td>\n",
       "      <td>0.500000</td>\n",
       "    </tr>\n",
       "  </tbody>\n",
       "</table>\n",
       "<p>5 rows × 161 columns</p>\n",
       "</div>"
      ],
      "text/plain": [
       "   UNITID  GRTYPE_num  CHRTSTAT_num  SECTION_num  COHORT_num LINE_num  \\\n",
       "0  100654           3            13            1           1      999   \n",
       "1  100663           3            13            1           1      999   \n",
       "2  100690           3            13            1           1      999   \n",
       "3  100706           3            13            1           1      999   \n",
       "4  100724           3            13            1           1      999   \n",
       "\n",
       "  XGRTOTLT_num  GRTOTLT_num XGRTOTLM_num  GRTOTLM_num  ... GRWHITW_rate  \\\n",
       "0            R          201            R         83.0  ...     0.500000   \n",
       "1            R          834            R        306.0  ...     0.597701   \n",
       "2            R            2            R          2.0  ...     0.000000   \n",
       "3            R          317            R        174.0  ...     0.538012   \n",
       "4            R          304            R        121.0  ...     0.200000   \n",
       "\n",
       "   GR2MORT_rate GR2MORM_rate  GR2MORW_rate GRUNKNT_rate  GRUNKNM_rate  \\\n",
       "0      0.333333     0.333333      0.333333     0.000000      0.000000   \n",
       "1      0.444444     0.346154      0.500000     0.454545      0.500000   \n",
       "2      0.000000     0.000000      0.000000     0.000000      0.000000   \n",
       "3      0.666667     0.000000      1.000000     0.551724      0.526316   \n",
       "4      0.000000     0.000000      0.000000     0.333333      0.000000   \n",
       "\n",
       "  GRUNKNW_rate  GRNRALT_rate GRNRALM_rate  GRNRALW _rate  \n",
       "0          0.0      0.000000     0.000000       0.000000  \n",
       "1          0.0      0.590909     0.461538       0.777778  \n",
       "2          0.0      0.000000     0.000000       0.000000  \n",
       "3          0.6      0.571429     0.615385       0.000000  \n",
       "4          0.5      0.428571     0.400000       0.500000  \n",
       "\n",
       "[5 rows x 161 columns]"
      ]
     },
     "execution_count": 8,
     "metadata": {},
     "output_type": "execute_result"
    }
   ],
   "source": [
    "for name in cal_names:\n",
    "    var2 = (name+'_denom') # cohort\n",
    "    var3 = (name+'_num') # completers\n",
    "    var_rate = (name+'_rate')\n",
    "    gr[var_rate] = gr[var3]/gr[var2]\n",
    "    gr[var_rate][gr[var3] == 0] = 0\n",
    "\n",
    "gr.head()"
   ]
  },
  {
   "cell_type": "code",
   "execution_count": 14,
   "metadata": {},
   "outputs": [],
   "source": [
    "data_merged = pd.merge(data_merged, gr, how = 'left', on = 'UNITID')"
   ]
  },
  {
   "cell_type": "code",
   "execution_count": 16,
   "metadata": {},
   "outputs": [],
   "source": [
    "list(data_merged.columns)\n",
    "data_merged.to_csv('Data/Data Merged.csv')"
   ]
  },
  {
   "cell_type": "markdown",
   "metadata": {},
   "source": [
    "# adding internationalstudent.com"
   ]
  },
  {
   "cell_type": "code",
   "execution_count": 3,
   "metadata": {},
   "outputs": [
    {
     "data": {
      "text/html": [
       "<div>\n",
       "<style scoped>\n",
       "    .dataframe tbody tr th:only-of-type {\n",
       "        vertical-align: middle;\n",
       "    }\n",
       "\n",
       "    .dataframe tbody tr th {\n",
       "        vertical-align: top;\n",
       "    }\n",
       "\n",
       "    .dataframe thead th {\n",
       "        text-align: right;\n",
       "    }\n",
       "</style>\n",
       "<table border=\"1\" class=\"dataframe\">\n",
       "  <thead>\n",
       "    <tr style=\"text-align: right;\">\n",
       "      <th></th>\n",
       "      <th>UNITID</th>\n",
       "      <th>EFFYLEV</th>\n",
       "      <th>LSTUDY</th>\n",
       "      <th>XEYTOTLT</th>\n",
       "      <th>EFYTOTLT</th>\n",
       "      <th>XEYTOTLM</th>\n",
       "      <th>EFYTOTLM</th>\n",
       "      <th>XEYTOTLW</th>\n",
       "      <th>EFYTOTLW</th>\n",
       "      <th>XEFYAIAT</th>\n",
       "      <th>...</th>\n",
       "      <th>WEBADDR_cleaned</th>\n",
       "      <th>annual_cost</th>\n",
       "      <th>avg_award</th>\n",
       "      <th>inst_name</th>\n",
       "      <th>intl_awarded</th>\n",
       "      <th>link</th>\n",
       "      <th>state_init</th>\n",
       "      <th>state_name</th>\n",
       "      <th>total_intl</th>\n",
       "      <th>link_cleaned</th>\n",
       "    </tr>\n",
       "  </thead>\n",
       "  <tbody>\n",
       "    <tr>\n",
       "      <th>0</th>\n",
       "      <td>100654</td>\n",
       "      <td>2</td>\n",
       "      <td>1</td>\n",
       "      <td>R</td>\n",
       "      <td>5207</td>\n",
       "      <td>R</td>\n",
       "      <td>2286</td>\n",
       "      <td>R</td>\n",
       "      <td>2921</td>\n",
       "      <td>R</td>\n",
       "      <td>...</td>\n",
       "      <td>aamu.edu</td>\n",
       "      <td>NaN</td>\n",
       "      <td>NaN</td>\n",
       "      <td>NaN</td>\n",
       "      <td>NaN</td>\n",
       "      <td>NaN</td>\n",
       "      <td>NaN</td>\n",
       "      <td>NaN</td>\n",
       "      <td>NaN</td>\n",
       "      <td>NaN</td>\n",
       "    </tr>\n",
       "    <tr>\n",
       "      <th>1</th>\n",
       "      <td>100663</td>\n",
       "      <td>2</td>\n",
       "      <td>1</td>\n",
       "      <td>R</td>\n",
       "      <td>13308</td>\n",
       "      <td>R</td>\n",
       "      <td>5528</td>\n",
       "      <td>R</td>\n",
       "      <td>7780</td>\n",
       "      <td>R</td>\n",
       "      <td>...</td>\n",
       "      <td>uab.edu</td>\n",
       "      <td>NaN</td>\n",
       "      <td>NaN</td>\n",
       "      <td>NaN</td>\n",
       "      <td>NaN</td>\n",
       "      <td>NaN</td>\n",
       "      <td>NaN</td>\n",
       "      <td>NaN</td>\n",
       "      <td>NaN</td>\n",
       "      <td>NaN</td>\n",
       "    </tr>\n",
       "    <tr>\n",
       "      <th>2</th>\n",
       "      <td>100706</td>\n",
       "      <td>2</td>\n",
       "      <td>1</td>\n",
       "      <td>R</td>\n",
       "      <td>7519</td>\n",
       "      <td>R</td>\n",
       "      <td>4287</td>\n",
       "      <td>R</td>\n",
       "      <td>3232</td>\n",
       "      <td>R</td>\n",
       "      <td>...</td>\n",
       "      <td>uah.edu</td>\n",
       "      <td>NaN</td>\n",
       "      <td>NaN</td>\n",
       "      <td>NaN</td>\n",
       "      <td>NaN</td>\n",
       "      <td>NaN</td>\n",
       "      <td>NaN</td>\n",
       "      <td>NaN</td>\n",
       "      <td>NaN</td>\n",
       "      <td>NaN</td>\n",
       "    </tr>\n",
       "    <tr>\n",
       "      <th>3</th>\n",
       "      <td>100724</td>\n",
       "      <td>2</td>\n",
       "      <td>1</td>\n",
       "      <td>R</td>\n",
       "      <td>5229</td>\n",
       "      <td>R</td>\n",
       "      <td>2024</td>\n",
       "      <td>R</td>\n",
       "      <td>3205</td>\n",
       "      <td>R</td>\n",
       "      <td>...</td>\n",
       "      <td>alasu.edu</td>\n",
       "      <td>NaN</td>\n",
       "      <td>NaN</td>\n",
       "      <td>NaN</td>\n",
       "      <td>NaN</td>\n",
       "      <td>NaN</td>\n",
       "      <td>NaN</td>\n",
       "      <td>NaN</td>\n",
       "      <td>NaN</td>\n",
       "      <td>NaN</td>\n",
       "    </tr>\n",
       "    <tr>\n",
       "      <th>4</th>\n",
       "      <td>100751</td>\n",
       "      <td>2</td>\n",
       "      <td>1</td>\n",
       "      <td>R</td>\n",
       "      <td>35625</td>\n",
       "      <td>R</td>\n",
       "      <td>15883</td>\n",
       "      <td>R</td>\n",
       "      <td>19742</td>\n",
       "      <td>R</td>\n",
       "      <td>...</td>\n",
       "      <td>ua.edu</td>\n",
       "      <td>NaN</td>\n",
       "      <td>NaN</td>\n",
       "      <td>NaN</td>\n",
       "      <td>NaN</td>\n",
       "      <td>NaN</td>\n",
       "      <td>NaN</td>\n",
       "      <td>NaN</td>\n",
       "      <td>NaN</td>\n",
       "      <td>NaN</td>\n",
       "    </tr>\n",
       "  </tbody>\n",
       "</table>\n",
       "<p>5 rows × 183 columns</p>\n",
       "</div>"
      ],
      "text/plain": [
       "   UNITID  EFFYLEV  LSTUDY XEYTOTLT  EFYTOTLT XEYTOTLM  EFYTOTLM XEYTOTLW  \\\n",
       "0  100654        2       1        R      5207        R      2286        R   \n",
       "1  100663        2       1        R     13308        R      5528        R   \n",
       "2  100706        2       1        R      7519        R      4287        R   \n",
       "3  100724        2       1        R      5229        R      2024        R   \n",
       "4  100751        2       1        R     35625        R     15883        R   \n",
       "\n",
       "   EFYTOTLW XEFYAIAT  ...  WEBADDR_cleaned annual_cost  avg_award inst_name  \\\n",
       "0      2921        R  ...         aamu.edu         NaN        NaN       NaN   \n",
       "1      7780        R  ...          uab.edu         NaN        NaN       NaN   \n",
       "2      3232        R  ...          uah.edu         NaN        NaN       NaN   \n",
       "3      3205        R  ...        alasu.edu         NaN        NaN       NaN   \n",
       "4     19742        R  ...           ua.edu         NaN        NaN       NaN   \n",
       "\n",
       "   intl_awarded link  state_init state_name  total_intl link_cleaned  \n",
       "0           NaN  NaN         NaN        NaN         NaN          NaN  \n",
       "1           NaN  NaN         NaN        NaN         NaN          NaN  \n",
       "2           NaN  NaN         NaN        NaN         NaN          NaN  \n",
       "3           NaN  NaN         NaN        NaN         NaN          NaN  \n",
       "4           NaN  NaN         NaN        NaN         NaN          NaN  \n",
       "\n",
       "[5 rows x 183 columns]"
      ]
     },
     "execution_count": 3,
     "metadata": {},
     "output_type": "execute_result"
    }
   ],
   "source": [
    "data_merged = pd.read_csv('Data/Data Merged.csv')\n",
    "data_merged.head()"
   ]
  },
  {
   "cell_type": "code",
   "execution_count": 43,
   "metadata": {},
   "outputs": [
    {
     "data": {
      "text/plain": [
       "(332, 8)"
      ]
     },
     "execution_count": 43,
     "metadata": {},
     "output_type": "execute_result"
    }
   ],
   "source": [
    "scholarship = pd.read_csv('Data/InternationalStudent_com.csv')\n",
    "scholarship.head()\n",
    "scholarship.shape"
   ]
  },
  {
   "cell_type": "code",
   "execution_count": 7,
   "metadata": {},
   "outputs": [
    {
     "name": "stdout",
     "output_type": "stream",
     "text": [
      "Harding University\n",
      "Harding University\n"
     ]
    },
    {
     "data": {
      "text/plain": [
       "100"
      ]
     },
     "execution_count": 7,
     "metadata": {},
     "output_type": "execute_result"
    }
   ],
   "source": [
    "from fuzzywuzzy import fuzz\n",
    "print(scholarship.inst_name[1])\n",
    "print(data_merged.INSTNM[9])\n",
    "fuzz.ratio(scholarship.inst_name[1], data_merged.INSTNM[9])"
   ]
  },
  {
   "cell_type": "code",
   "execution_count": 44,
   "metadata": {},
   "outputs": [
    {
     "data": {
      "text/plain": [
       "246"
      ]
     },
     "execution_count": 44,
     "metadata": {},
     "output_type": "execute_result"
    }
   ],
   "source": [
    "len(set(scholarship.inst_name) & set(data_merged.INSTNM))\n",
    "# 246 exact same names"
   ]
  },
  {
   "cell_type": "code",
   "execution_count": 31,
   "metadata": {},
   "outputs": [
    {
     "data": {
      "text/plain": [
       "'http://www.coloradocollege.edu'"
      ]
     },
     "execution_count": 31,
     "metadata": {},
     "output_type": "execute_result"
    }
   ],
   "source": []
  },
  {
   "cell_type": "code",
   "execution_count": 45,
   "metadata": {},
   "outputs": [],
   "source": [
    "# try matching url\n",
    "url1 = data_merged.WEBADDR\n",
    "url1_cleaned = []\n",
    "for url in url1:\n",
    "    url = url.lower()\n",
    "    url = re.sub('http://','', url)\n",
    "    url = re.sub('https://','', url)\n",
    "    url = re.sub('www.','',url)\n",
    "    url = re.sub('/','', url)\n",
    "    url1_cleaned.append(url)\n",
    "#url1_cleaned\n"
   ]
  },
  {
   "cell_type": "code",
   "execution_count": 50,
   "metadata": {},
   "outputs": [],
   "source": [
    "data_merged.loc[:,'WEBADDR_cleaned'] = url1_cleaned"
   ]
  },
  {
   "cell_type": "code",
   "execution_count": 52,
   "metadata": {},
   "outputs": [],
   "source": [
    "#data_merged.head()"
   ]
  },
  {
   "cell_type": "code",
   "execution_count": 34,
   "metadata": {},
   "outputs": [],
   "source": [
    "url2 = scholarship.link\n",
    "url2_cleaned = []\n",
    "for url in url2:\n",
    "    url = url.lower()\n",
    "    url = re.sub('http://','', url)\n",
    "    url = re.sub('https://','', url)\n",
    "    url = re.sub('http//','', url)\n",
    "    url = re.sub('www.','',url)\n",
    "    url = re.sub('.edu\\D+','.edu', url)\n",
    "    url = re.sub('admissions.','',url)\n",
    "    url2_cleaned.append(url)\n",
    "#url2_cleaned"
   ]
  },
  {
   "cell_type": "code",
   "execution_count": 53,
   "metadata": {},
   "outputs": [],
   "source": [
    "scholarship.loc[:,'link_cleaned'] = url2_cleaned"
   ]
  },
  {
   "cell_type": "code",
   "execution_count": 46,
   "metadata": {},
   "outputs": [
    {
     "data": {
      "text/plain": [
       "285"
      ]
     },
     "execution_count": 46,
     "metadata": {},
     "output_type": "execute_result"
    }
   ],
   "source": [
    "len(set(url1_cleaned) & set(url2_cleaned)) # 285 exact matches"
   ]
  },
  {
   "cell_type": "code",
   "execution_count": 54,
   "metadata": {},
   "outputs": [],
   "source": []
  },
  {
   "cell_type": "code",
   "execution_count": 56,
   "metadata": {},
   "outputs": [],
   "source": [
    "# merge\n",
    "data_merged_tmp = pd.merge(data_merged, scholarship, how = 'left', left_on = 'WEBADDR_cleaned', right_on = 'link_cleaned')\n",
    "data_merged_tmp.head()\n",
    "data_merged_tmp.to_csv('Data/Data Merged tmp.csv', index = False)"
   ]
  },
  {
   "cell_type": "code",
   "execution_count": 57,
   "metadata": {},
   "outputs": [],
   "source": [
    "data_merged = data_merged_tmp\n",
    "data_merged.to_csv('Data/Data Merged.csv', index = False)"
   ]
  },
  {
   "cell_type": "markdown",
   "metadata": {},
   "source": [
    "# adding tuition"
   ]
  },
  {
   "cell_type": "code",
   "execution_count": 24,
   "metadata": {},
   "outputs": [
    {
     "data": {
      "text/plain": [
       "(4281, 235)"
      ]
     },
     "execution_count": 24,
     "metadata": {},
     "output_type": "execute_result"
    }
   ],
   "source": [
    "charges = pd.read_csv('Data/ic2017_ay.csv')\n",
    "charges.shape"
   ]
  },
  {
   "cell_type": "code",
   "execution_count": 5,
   "metadata": {},
   "outputs": [],
   "source": [
    "data_merged = pd.read_csv('Data/Data Merged.csv')"
   ]
  },
  {
   "cell_type": "code",
   "execution_count": 27,
   "metadata": {},
   "outputs": [],
   "source": [
    "data_merged_tmp = pd.merge(data_merged, charges, how = 'left', on= 'UNITID')\n",
    "data_merged_tmp.shape\n",
    "data_merged_tmp.to_csv('Data/Data Merged tmp.csv', index = False)"
   ]
  },
  {
   "cell_type": "code",
   "execution_count": 28,
   "metadata": {},
   "outputs": [],
   "source": [
    "data_merged = data_merged_tmp\n",
    "data_merged.to_csv('Data/Data Merged.csv', index = False)"
   ]
  },
  {
   "cell_type": "markdown",
   "metadata": {},
   "source": [
    "# big merge"
   ]
  },
  {
   "cell_type": "code",
   "execution_count": 6,
   "metadata": {},
   "outputs": [
    {
     "data": {
      "text/html": [
       "<div>\n",
       "<style scoped>\n",
       "    .dataframe tbody tr th:only-of-type {\n",
       "        vertical-align: middle;\n",
       "    }\n",
       "\n",
       "    .dataframe tbody tr th {\n",
       "        vertical-align: top;\n",
       "    }\n",
       "\n",
       "    .dataframe thead th {\n",
       "        text-align: right;\n",
       "    }\n",
       "</style>\n",
       "<table border=\"1\" class=\"dataframe\">\n",
       "  <thead>\n",
       "    <tr style=\"text-align: right;\">\n",
       "      <th></th>\n",
       "      <th>UNITID</th>\n",
       "      <th>ADMCON1</th>\n",
       "      <th>ADMCON2</th>\n",
       "      <th>ADMCON3</th>\n",
       "      <th>ADMCON4</th>\n",
       "      <th>ADMCON5</th>\n",
       "      <th>ADMCON6</th>\n",
       "      <th>ADMCON7</th>\n",
       "      <th>ADMCON8</th>\n",
       "      <th>ADMCON9</th>\n",
       "      <th>...</th>\n",
       "      <th>XACTCM75</th>\n",
       "      <th>ACTCM75</th>\n",
       "      <th>XACTEN25</th>\n",
       "      <th>ACTEN25</th>\n",
       "      <th>XACTEN75</th>\n",
       "      <th>ACTEN75</th>\n",
       "      <th>XACTMT25</th>\n",
       "      <th>ACTMT25</th>\n",
       "      <th>XACTMT75</th>\n",
       "      <th>ACTMT75</th>\n",
       "    </tr>\n",
       "  </thead>\n",
       "  <tbody>\n",
       "    <tr>\n",
       "      <th>0</th>\n",
       "      <td>100654</td>\n",
       "      <td>1</td>\n",
       "      <td>2</td>\n",
       "      <td>1</td>\n",
       "      <td>2</td>\n",
       "      <td>3</td>\n",
       "      <td>2</td>\n",
       "      <td>1</td>\n",
       "      <td>1</td>\n",
       "      <td>3</td>\n",
       "      <td>...</td>\n",
       "      <td>R</td>\n",
       "      <td>19.0</td>\n",
       "      <td>R</td>\n",
       "      <td>14.0</td>\n",
       "      <td>R</td>\n",
       "      <td>20.0</td>\n",
       "      <td>R</td>\n",
       "      <td>15.0</td>\n",
       "      <td>R</td>\n",
       "      <td>18.0</td>\n",
       "    </tr>\n",
       "    <tr>\n",
       "      <th>1</th>\n",
       "      <td>100663</td>\n",
       "      <td>1</td>\n",
       "      <td>3</td>\n",
       "      <td>1</td>\n",
       "      <td>1</td>\n",
       "      <td>3</td>\n",
       "      <td>3</td>\n",
       "      <td>1</td>\n",
       "      <td>3</td>\n",
       "      <td>3</td>\n",
       "      <td>...</td>\n",
       "      <td>R</td>\n",
       "      <td>28.0</td>\n",
       "      <td>R</td>\n",
       "      <td>22.0</td>\n",
       "      <td>R</td>\n",
       "      <td>31.0</td>\n",
       "      <td>R</td>\n",
       "      <td>21.0</td>\n",
       "      <td>R</td>\n",
       "      <td>26.0</td>\n",
       "    </tr>\n",
       "    <tr>\n",
       "      <th>2</th>\n",
       "      <td>100706</td>\n",
       "      <td>1</td>\n",
       "      <td>2</td>\n",
       "      <td>1</td>\n",
       "      <td>1</td>\n",
       "      <td>3</td>\n",
       "      <td>2</td>\n",
       "      <td>1</td>\n",
       "      <td>1</td>\n",
       "      <td>3</td>\n",
       "      <td>...</td>\n",
       "      <td>R</td>\n",
       "      <td>31.0</td>\n",
       "      <td>R</td>\n",
       "      <td>25.0</td>\n",
       "      <td>R</td>\n",
       "      <td>33.0</td>\n",
       "      <td>R</td>\n",
       "      <td>24.0</td>\n",
       "      <td>R</td>\n",
       "      <td>29.0</td>\n",
       "    </tr>\n",
       "    <tr>\n",
       "      <th>3</th>\n",
       "      <td>100724</td>\n",
       "      <td>1</td>\n",
       "      <td>3</td>\n",
       "      <td>2</td>\n",
       "      <td>3</td>\n",
       "      <td>3</td>\n",
       "      <td>3</td>\n",
       "      <td>1</td>\n",
       "      <td>1</td>\n",
       "      <td>3</td>\n",
       "      <td>...</td>\n",
       "      <td>R</td>\n",
       "      <td>20.0</td>\n",
       "      <td>R</td>\n",
       "      <td>15.0</td>\n",
       "      <td>R</td>\n",
       "      <td>19.0</td>\n",
       "      <td>R</td>\n",
       "      <td>14.0</td>\n",
       "      <td>R</td>\n",
       "      <td>19.0</td>\n",
       "    </tr>\n",
       "    <tr>\n",
       "      <th>4</th>\n",
       "      <td>100751</td>\n",
       "      <td>1</td>\n",
       "      <td>2</td>\n",
       "      <td>1</td>\n",
       "      <td>1</td>\n",
       "      <td>3</td>\n",
       "      <td>3</td>\n",
       "      <td>1</td>\n",
       "      <td>1</td>\n",
       "      <td>3</td>\n",
       "      <td>...</td>\n",
       "      <td>R</td>\n",
       "      <td>32.0</td>\n",
       "      <td>R</td>\n",
       "      <td>23.0</td>\n",
       "      <td>R</td>\n",
       "      <td>33.0</td>\n",
       "      <td>R</td>\n",
       "      <td>21.0</td>\n",
       "      <td>R</td>\n",
       "      <td>29.0</td>\n",
       "    </tr>\n",
       "  </tbody>\n",
       "</table>\n",
       "<p>5 rows × 68 columns</p>\n",
       "</div>"
      ],
      "text/plain": [
       "   UNITID  ADMCON1  ADMCON2  ADMCON3  ADMCON4  ADMCON5  ADMCON6  ADMCON7  \\\n",
       "0  100654        1        2        1        2        3        2        1   \n",
       "1  100663        1        3        1        1        3        3        1   \n",
       "2  100706        1        2        1        1        3        2        1   \n",
       "3  100724        1        3        2        3        3        3        1   \n",
       "4  100751        1        2        1        1        3        3        1   \n",
       "\n",
       "   ADMCON8  ADMCON9  ... XACTCM75  ACTCM75 XACTEN25  ACTEN25 XACTEN75  \\\n",
       "0        1        3  ...        R     19.0        R     14.0        R   \n",
       "1        3        3  ...        R     28.0        R     22.0        R   \n",
       "2        1        3  ...        R     31.0        R     25.0        R   \n",
       "3        1        3  ...        R     20.0        R     15.0        R   \n",
       "4        1        3  ...        R     32.0        R     23.0        R   \n",
       "\n",
       "   ACTEN75 XACTMT25  ACTMT25 XACTMT75  ACTMT75   \n",
       "0     20.0        R     15.0        R      18.0  \n",
       "1     31.0        R     21.0        R      26.0  \n",
       "2     33.0        R     24.0        R      29.0  \n",
       "3     19.0        R     14.0        R      19.0  \n",
       "4     33.0        R     21.0        R      29.0  \n",
       "\n",
       "[5 rows x 68 columns]"
      ]
     },
     "execution_count": 6,
     "metadata": {},
     "output_type": "execute_result"
    }
   ],
   "source": [
    "adm = pd.read_csv('Data/adm2017.csv')\n",
    "adm.shape #(2075, 68)\n",
    "adm.head()"
   ]
  },
  {
   "cell_type": "code",
   "execution_count": 9,
   "metadata": {},
   "outputs": [
    {
     "name": "stdout",
     "output_type": "stream",
     "text": [
      "(176749, 22)\n"
     ]
    },
    {
     "data": {
      "text/html": [
       "<div>\n",
       "<style scoped>\n",
       "    .dataframe tbody tr th:only-of-type {\n",
       "        vertical-align: middle;\n",
       "    }\n",
       "\n",
       "    .dataframe tbody tr th {\n",
       "        vertical-align: top;\n",
       "    }\n",
       "\n",
       "    .dataframe thead th {\n",
       "        text-align: right;\n",
       "    }\n",
       "</style>\n",
       "<table border=\"1\" class=\"dataframe\">\n",
       "  <thead>\n",
       "    <tr style=\"text-align: right;\">\n",
       "      <th></th>\n",
       "      <th>UNITID</th>\n",
       "      <th>EFBAGE</th>\n",
       "      <th>LINE</th>\n",
       "      <th>LSTUDY</th>\n",
       "      <th>XEFAGE01</th>\n",
       "      <th>EFAGE01</th>\n",
       "      <th>XEFAGE02</th>\n",
       "      <th>EFAGE02</th>\n",
       "      <th>XEFAGE03</th>\n",
       "      <th>EFAGE03</th>\n",
       "      <th>...</th>\n",
       "      <th>XEFAGE05</th>\n",
       "      <th>EFAGE05</th>\n",
       "      <th>XEFAGE06</th>\n",
       "      <th>EFAGE06</th>\n",
       "      <th>XEFAGE07</th>\n",
       "      <th>EFAGE07</th>\n",
       "      <th>XEFAGE08</th>\n",
       "      <th>EFAGE08</th>\n",
       "      <th>XEFAGE09</th>\n",
       "      <th>EFAGE09</th>\n",
       "    </tr>\n",
       "  </thead>\n",
       "  <tbody>\n",
       "    <tr>\n",
       "      <th>0</th>\n",
       "      <td>100654</td>\n",
       "      <td>1</td>\n",
       "      <td>412</td>\n",
       "      <td>1</td>\n",
       "      <td>R</td>\n",
       "      <td>2170</td>\n",
       "      <td>R</td>\n",
       "      <td>3165</td>\n",
       "      <td>R</td>\n",
       "      <td>259</td>\n",
       "      <td>...</td>\n",
       "      <td>R</td>\n",
       "      <td>5335</td>\n",
       "      <td>R</td>\n",
       "      <td>666</td>\n",
       "      <td>R</td>\n",
       "      <td>2429</td>\n",
       "      <td>R</td>\n",
       "      <td>3572</td>\n",
       "      <td>R</td>\n",
       "      <td>6001</td>\n",
       "    </tr>\n",
       "    <tr>\n",
       "      <th>1</th>\n",
       "      <td>100654</td>\n",
       "      <td>1</td>\n",
       "      <td>112</td>\n",
       "      <td>2</td>\n",
       "      <td>R</td>\n",
       "      <td>1990</td>\n",
       "      <td>R</td>\n",
       "      <td>2724</td>\n",
       "      <td>R</td>\n",
       "      <td>144</td>\n",
       "      <td>...</td>\n",
       "      <td>R</td>\n",
       "      <td>4714</td>\n",
       "      <td>R</td>\n",
       "      <td>324</td>\n",
       "      <td>R</td>\n",
       "      <td>2134</td>\n",
       "      <td>R</td>\n",
       "      <td>2904</td>\n",
       "      <td>R</td>\n",
       "      <td>5038</td>\n",
       "    </tr>\n",
       "    <tr>\n",
       "      <th>2</th>\n",
       "      <td>100654</td>\n",
       "      <td>1</td>\n",
       "      <td>312</td>\n",
       "      <td>5</td>\n",
       "      <td>R</td>\n",
       "      <td>180</td>\n",
       "      <td>R</td>\n",
       "      <td>441</td>\n",
       "      <td>R</td>\n",
       "      <td>115</td>\n",
       "      <td>...</td>\n",
       "      <td>R</td>\n",
       "      <td>621</td>\n",
       "      <td>R</td>\n",
       "      <td>342</td>\n",
       "      <td>R</td>\n",
       "      <td>295</td>\n",
       "      <td>R</td>\n",
       "      <td>668</td>\n",
       "      <td>R</td>\n",
       "      <td>963</td>\n",
       "    </tr>\n",
       "    <tr>\n",
       "      <th>3</th>\n",
       "      <td>100654</td>\n",
       "      <td>2</td>\n",
       "      <td>999</td>\n",
       "      <td>1</td>\n",
       "      <td>R</td>\n",
       "      <td>1903</td>\n",
       "      <td>R</td>\n",
       "      <td>2758</td>\n",
       "      <td>R</td>\n",
       "      <td>116</td>\n",
       "      <td>...</td>\n",
       "      <td>R</td>\n",
       "      <td>4661</td>\n",
       "      <td>R</td>\n",
       "      <td>271</td>\n",
       "      <td>R</td>\n",
       "      <td>2019</td>\n",
       "      <td>R</td>\n",
       "      <td>2913</td>\n",
       "      <td>R</td>\n",
       "      <td>4932</td>\n",
       "    </tr>\n",
       "    <tr>\n",
       "      <th>4</th>\n",
       "      <td>100654</td>\n",
       "      <td>2</td>\n",
       "      <td>999</td>\n",
       "      <td>2</td>\n",
       "      <td>R</td>\n",
       "      <td>1858</td>\n",
       "      <td>R</td>\n",
       "      <td>2576</td>\n",
       "      <td>R</td>\n",
       "      <td>99</td>\n",
       "      <td>...</td>\n",
       "      <td>R</td>\n",
       "      <td>4434</td>\n",
       "      <td>R</td>\n",
       "      <td>222</td>\n",
       "      <td>R</td>\n",
       "      <td>1957</td>\n",
       "      <td>R</td>\n",
       "      <td>2699</td>\n",
       "      <td>R</td>\n",
       "      <td>4656</td>\n",
       "    </tr>\n",
       "  </tbody>\n",
       "</table>\n",
       "<p>5 rows × 22 columns</p>\n",
       "</div>"
      ],
      "text/plain": [
       "   UNITID  EFBAGE  LINE  LSTUDY XEFAGE01  EFAGE01 XEFAGE02  EFAGE02 XEFAGE03  \\\n",
       "0  100654       1   412       1        R     2170        R     3165        R   \n",
       "1  100654       1   112       2        R     1990        R     2724        R   \n",
       "2  100654       1   312       5        R      180        R      441        R   \n",
       "3  100654       2   999       1        R     1903        R     2758        R   \n",
       "4  100654       2   999       2        R     1858        R     2576        R   \n",
       "\n",
       "   EFAGE03  ... XEFAGE05  EFAGE05 XEFAGE06  EFAGE06 XEFAGE07  EFAGE07  \\\n",
       "0      259  ...        R     5335        R      666        R     2429   \n",
       "1      144  ...        R     4714        R      324        R     2134   \n",
       "2      115  ...        R      621        R      342        R      295   \n",
       "3      116  ...        R     4661        R      271        R     2019   \n",
       "4       99  ...        R     4434        R      222        R     1957   \n",
       "\n",
       "  XEFAGE08  EFAGE08 XEFAGE09  EFAGE09   \n",
       "0        R     3572        R      6001  \n",
       "1        R     2904        R      5038  \n",
       "2        R      668        R       963  \n",
       "3        R     2913        R      4932  \n",
       "4        R     2699        R      4656  \n",
       "\n",
       "[5 rows x 22 columns]"
      ]
     },
     "execution_count": 9,
     "metadata": {},
     "output_type": "execute_result"
    }
   ],
   "source": [
    "ef2017b = pd.read_csv('Data/ef2017b.csv')\n",
    "print(ef2017b.shape)#\n",
    "ef2017b.head()"
   ]
  },
  {
   "cell_type": "code",
   "execution_count": 10,
   "metadata": {},
   "outputs": [
    {
     "name": "stdout",
     "output_type": "stream",
     "text": [
      "(39500, 7)\n"
     ]
    },
    {
     "data": {
      "text/html": [
       "<div>\n",
       "<style scoped>\n",
       "    .dataframe tbody tr th:only-of-type {\n",
       "        vertical-align: middle;\n",
       "    }\n",
       "\n",
       "    .dataframe tbody tr th {\n",
       "        vertical-align: top;\n",
       "    }\n",
       "\n",
       "    .dataframe thead th {\n",
       "        text-align: right;\n",
       "    }\n",
       "</style>\n",
       "<table border=\"1\" class=\"dataframe\">\n",
       "  <thead>\n",
       "    <tr style=\"text-align: right;\">\n",
       "      <th></th>\n",
       "      <th>UNITID</th>\n",
       "      <th>EFCSTATE</th>\n",
       "      <th>LINE</th>\n",
       "      <th>XEFRES01</th>\n",
       "      <th>EFRES01</th>\n",
       "      <th>XEFRES02</th>\n",
       "      <th>EFRES02</th>\n",
       "    </tr>\n",
       "  </thead>\n",
       "  <tbody>\n",
       "    <tr>\n",
       "      <th>0</th>\n",
       "      <td>100654</td>\n",
       "      <td>1</td>\n",
       "      <td>1</td>\n",
       "      <td>R</td>\n",
       "      <td>667</td>\n",
       "      <td>R</td>\n",
       "      <td>524.0</td>\n",
       "    </tr>\n",
       "    <tr>\n",
       "      <th>1</th>\n",
       "      <td>100654</td>\n",
       "      <td>5</td>\n",
       "      <td>5</td>\n",
       "      <td>R</td>\n",
       "      <td>7</td>\n",
       "      <td>R</td>\n",
       "      <td>6.0</td>\n",
       "    </tr>\n",
       "    <tr>\n",
       "      <th>2</th>\n",
       "      <td>100654</td>\n",
       "      <td>6</td>\n",
       "      <td>6</td>\n",
       "      <td>R</td>\n",
       "      <td>22</td>\n",
       "      <td>R</td>\n",
       "      <td>16.0</td>\n",
       "    </tr>\n",
       "    <tr>\n",
       "      <th>3</th>\n",
       "      <td>100654</td>\n",
       "      <td>8</td>\n",
       "      <td>8</td>\n",
       "      <td>R</td>\n",
       "      <td>4</td>\n",
       "      <td>R</td>\n",
       "      <td>3.0</td>\n",
       "    </tr>\n",
       "    <tr>\n",
       "      <th>4</th>\n",
       "      <td>100654</td>\n",
       "      <td>10</td>\n",
       "      <td>10</td>\n",
       "      <td>R</td>\n",
       "      <td>1</td>\n",
       "      <td>R</td>\n",
       "      <td>0.0</td>\n",
       "    </tr>\n",
       "  </tbody>\n",
       "</table>\n",
       "</div>"
      ],
      "text/plain": [
       "   UNITID  EFCSTATE  LINE XEFRES01  EFRES01 XEFRES02  EFRES02 \n",
       "0  100654         1     1        R      667        R     524.0\n",
       "1  100654         5     5        R        7        R       6.0\n",
       "2  100654         6     6        R       22        R      16.0\n",
       "3  100654         8     8        R        4        R       3.0\n",
       "4  100654        10    10        R        1        R       0.0"
      ]
     },
     "execution_count": 10,
     "metadata": {},
     "output_type": "execute_result"
    }
   ],
   "source": [
    "ef2017c = pd.read_csv('Data/ef2017c.csv')\n",
    "print(ef2017c.shape)#\n",
    "ef2017c.head()"
   ]
  }
 ],
 "metadata": {
  "kernelspec": {
   "display_name": "Python 3",
   "language": "python",
   "name": "python3"
  },
  "language_info": {
   "codemirror_mode": {
    "name": "ipython",
    "version": 3
   },
   "file_extension": ".py",
   "mimetype": "text/x-python",
   "name": "python",
   "nbconvert_exporter": "python",
   "pygments_lexer": "ipython3",
   "version": "3.7.3"
  }
 },
 "nbformat": 4,
 "nbformat_minor": 2
}
