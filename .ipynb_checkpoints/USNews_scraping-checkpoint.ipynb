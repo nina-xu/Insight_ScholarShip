{
 "cells": [
  {
   "cell_type": "code",
   "execution_count": 1,
   "metadata": {},
   "outputs": [],
   "source": [
    "import selenium\n",
    "from selenium import webdriver\n",
    "from bs4 import BeautifulSoup\n",
    "import re\n",
    "import time\n",
    "import numpy as np"
   ]
  },
  {
   "cell_type": "code",
   "execution_count": 68,
   "metadata": {},
   "outputs": [],
   "source": [
    "driver = webdriver.Chrome()\n",
    "driver.get('https://www.usnews.com/best-colleges/rankings/national-universities')\n",
    "#html = driver.page_source\n",
    "#soup = BeautifulSoup(html, 'lxml') "
   ]
  },
  {
   "cell_type": "code",
   "execution_count": 51,
   "metadata": {},
   "outputs": [],
   "source": [
    "driver?"
   ]
  },
  {
   "cell_type": "code",
   "execution_count": 101,
   "metadata": {},
   "outputs": [],
   "source": [
    "# scraping one school name\n",
    "def get_institution_name(i, path_div=1):\n",
    "    path = ('//*[@id=\"school-' + str(i) + '\"]/div/div[' + str(path_div) + ']/div[1]/div[1]/h3/a')\n",
    "    institution = driver.find_elements_by_xpath(path)\n",
    "    name = institution[0].text\n",
    "    return(name)"
   ]
  },
  {
   "cell_type": "code",
   "execution_count": 95,
   "metadata": {},
   "outputs": [],
   "source": [
    "# load more \n",
    "# scroll down and wait?\n",
    "def load_more():\n",
    "    driver.execute_script(\"window.scrollBy(0,document.body.scrollHeight)\")\n",
    "    time.sleep(np.random.normal(20,0.45))\n",
    "\n",
    "def load_more_with_click():\n",
    "    #driver.execute_script(\"window.scrollBy(0,document.body.scrollHeight)\")\n",
    "    path = '//*[@id=\"search-content\"]/div/div[1]/div[2]/div[3]/div/div[2]'\n",
    "    button = driver.find_element_by_xpath(path)\n",
    "    button.click()\n",
    "    time.sleep(np.random.normal(20,0.25) + 0.2)"
   ]
  },
  {
   "cell_type": "code",
   "execution_count": 88,
   "metadata": {},
   "outputs": [
    {
     "data": {
      "text/plain": [
       "5.227360982778801"
      ]
     },
     "execution_count": 88,
     "metadata": {},
     "output_type": "execute_result"
    }
   ],
   "source": [
    "np.random.normal(5,0.5) "
   ]
  },
  {
   "cell_type": "code",
   "execution_count": 106,
   "metadata": {},
   "outputs": [
    {
     "ename": "ElementClickInterceptedException",
     "evalue": "Message: element click intercepted: Element is not clickable at point (593, 3337)\n  (Session info: chrome=77.0.3865.90)\n",
     "output_type": "error",
     "traceback": [
      "\u001b[1;31m---------------------------------------------------------------------------\u001b[0m",
      "\u001b[1;31mElementClickInterceptedException\u001b[0m          Traceback (most recent call last)",
      "\u001b[1;32m<ipython-input-106-276fdefef662>\u001b[0m in \u001b[0;36m<module>\u001b[1;34m\u001b[0m\n\u001b[0;32m      2\u001b[0m \u001b[0mpath\u001b[0m \u001b[1;33m=\u001b[0m \u001b[1;34m'//*[@id=\"search-content\"]/div/div[1]/div[2]/div[3]/div/div[2]'\u001b[0m\u001b[1;33m\u001b[0m\u001b[1;33m\u001b[0m\u001b[0m\n\u001b[0;32m      3\u001b[0m \u001b[0mbutton\u001b[0m \u001b[1;33m=\u001b[0m \u001b[0mdriver\u001b[0m\u001b[1;33m.\u001b[0m\u001b[0mfind_element_by_xpath\u001b[0m\u001b[1;33m(\u001b[0m\u001b[0mpath\u001b[0m\u001b[1;33m)\u001b[0m\u001b[1;33m\u001b[0m\u001b[1;33m\u001b[0m\u001b[0m\n\u001b[1;32m----> 4\u001b[1;33m \u001b[0mbutton\u001b[0m\u001b[1;33m.\u001b[0m\u001b[0mclick\u001b[0m\u001b[1;33m(\u001b[0m\u001b[1;33m)\u001b[0m\u001b[1;33m\u001b[0m\u001b[1;33m\u001b[0m\u001b[0m\n\u001b[0m",
      "\u001b[1;32m~\\Anaconda3\\lib\\site-packages\\selenium\\webdriver\\remote\\webelement.py\u001b[0m in \u001b[0;36mclick\u001b[1;34m(self)\u001b[0m\n\u001b[0;32m     78\u001b[0m     \u001b[1;32mdef\u001b[0m \u001b[0mclick\u001b[0m\u001b[1;33m(\u001b[0m\u001b[0mself\u001b[0m\u001b[1;33m)\u001b[0m\u001b[1;33m:\u001b[0m\u001b[1;33m\u001b[0m\u001b[1;33m\u001b[0m\u001b[0m\n\u001b[0;32m     79\u001b[0m         \u001b[1;34m\"\"\"Clicks the element.\"\"\"\u001b[0m\u001b[1;33m\u001b[0m\u001b[1;33m\u001b[0m\u001b[0m\n\u001b[1;32m---> 80\u001b[1;33m         \u001b[0mself\u001b[0m\u001b[1;33m.\u001b[0m\u001b[0m_execute\u001b[0m\u001b[1;33m(\u001b[0m\u001b[0mCommand\u001b[0m\u001b[1;33m.\u001b[0m\u001b[0mCLICK_ELEMENT\u001b[0m\u001b[1;33m)\u001b[0m\u001b[1;33m\u001b[0m\u001b[1;33m\u001b[0m\u001b[0m\n\u001b[0m\u001b[0;32m     81\u001b[0m \u001b[1;33m\u001b[0m\u001b[0m\n\u001b[0;32m     82\u001b[0m     \u001b[1;32mdef\u001b[0m \u001b[0msubmit\u001b[0m\u001b[1;33m(\u001b[0m\u001b[0mself\u001b[0m\u001b[1;33m)\u001b[0m\u001b[1;33m:\u001b[0m\u001b[1;33m\u001b[0m\u001b[1;33m\u001b[0m\u001b[0m\n",
      "\u001b[1;32m~\\Anaconda3\\lib\\site-packages\\selenium\\webdriver\\remote\\webelement.py\u001b[0m in \u001b[0;36m_execute\u001b[1;34m(self, command, params)\u001b[0m\n\u001b[0;32m    631\u001b[0m             \u001b[0mparams\u001b[0m \u001b[1;33m=\u001b[0m \u001b[1;33m{\u001b[0m\u001b[1;33m}\u001b[0m\u001b[1;33m\u001b[0m\u001b[1;33m\u001b[0m\u001b[0m\n\u001b[0;32m    632\u001b[0m         \u001b[0mparams\u001b[0m\u001b[1;33m[\u001b[0m\u001b[1;34m'id'\u001b[0m\u001b[1;33m]\u001b[0m \u001b[1;33m=\u001b[0m \u001b[0mself\u001b[0m\u001b[1;33m.\u001b[0m\u001b[0m_id\u001b[0m\u001b[1;33m\u001b[0m\u001b[1;33m\u001b[0m\u001b[0m\n\u001b[1;32m--> 633\u001b[1;33m         \u001b[1;32mreturn\u001b[0m \u001b[0mself\u001b[0m\u001b[1;33m.\u001b[0m\u001b[0m_parent\u001b[0m\u001b[1;33m.\u001b[0m\u001b[0mexecute\u001b[0m\u001b[1;33m(\u001b[0m\u001b[0mcommand\u001b[0m\u001b[1;33m,\u001b[0m \u001b[0mparams\u001b[0m\u001b[1;33m)\u001b[0m\u001b[1;33m\u001b[0m\u001b[1;33m\u001b[0m\u001b[0m\n\u001b[0m\u001b[0;32m    634\u001b[0m \u001b[1;33m\u001b[0m\u001b[0m\n\u001b[0;32m    635\u001b[0m     \u001b[1;32mdef\u001b[0m \u001b[0mfind_element\u001b[0m\u001b[1;33m(\u001b[0m\u001b[0mself\u001b[0m\u001b[1;33m,\u001b[0m \u001b[0mby\u001b[0m\u001b[1;33m=\u001b[0m\u001b[0mBy\u001b[0m\u001b[1;33m.\u001b[0m\u001b[0mID\u001b[0m\u001b[1;33m,\u001b[0m \u001b[0mvalue\u001b[0m\u001b[1;33m=\u001b[0m\u001b[1;32mNone\u001b[0m\u001b[1;33m)\u001b[0m\u001b[1;33m:\u001b[0m\u001b[1;33m\u001b[0m\u001b[1;33m\u001b[0m\u001b[0m\n",
      "\u001b[1;32m~\\Anaconda3\\lib\\site-packages\\selenium\\webdriver\\remote\\webdriver.py\u001b[0m in \u001b[0;36mexecute\u001b[1;34m(self, driver_command, params)\u001b[0m\n\u001b[0;32m    319\u001b[0m         \u001b[0mresponse\u001b[0m \u001b[1;33m=\u001b[0m \u001b[0mself\u001b[0m\u001b[1;33m.\u001b[0m\u001b[0mcommand_executor\u001b[0m\u001b[1;33m.\u001b[0m\u001b[0mexecute\u001b[0m\u001b[1;33m(\u001b[0m\u001b[0mdriver_command\u001b[0m\u001b[1;33m,\u001b[0m \u001b[0mparams\u001b[0m\u001b[1;33m)\u001b[0m\u001b[1;33m\u001b[0m\u001b[1;33m\u001b[0m\u001b[0m\n\u001b[0;32m    320\u001b[0m         \u001b[1;32mif\u001b[0m \u001b[0mresponse\u001b[0m\u001b[1;33m:\u001b[0m\u001b[1;33m\u001b[0m\u001b[1;33m\u001b[0m\u001b[0m\n\u001b[1;32m--> 321\u001b[1;33m             \u001b[0mself\u001b[0m\u001b[1;33m.\u001b[0m\u001b[0merror_handler\u001b[0m\u001b[1;33m.\u001b[0m\u001b[0mcheck_response\u001b[0m\u001b[1;33m(\u001b[0m\u001b[0mresponse\u001b[0m\u001b[1;33m)\u001b[0m\u001b[1;33m\u001b[0m\u001b[1;33m\u001b[0m\u001b[0m\n\u001b[0m\u001b[0;32m    322\u001b[0m             response['value'] = self._unwrap_value(\n\u001b[0;32m    323\u001b[0m                 response.get('value', None))\n",
      "\u001b[1;32m~\\Anaconda3\\lib\\site-packages\\selenium\\webdriver\\remote\\errorhandler.py\u001b[0m in \u001b[0;36mcheck_response\u001b[1;34m(self, response)\u001b[0m\n\u001b[0;32m    240\u001b[0m                 \u001b[0malert_text\u001b[0m \u001b[1;33m=\u001b[0m \u001b[0mvalue\u001b[0m\u001b[1;33m[\u001b[0m\u001b[1;34m'alert'\u001b[0m\u001b[1;33m]\u001b[0m\u001b[1;33m.\u001b[0m\u001b[0mget\u001b[0m\u001b[1;33m(\u001b[0m\u001b[1;34m'text'\u001b[0m\u001b[1;33m)\u001b[0m\u001b[1;33m\u001b[0m\u001b[1;33m\u001b[0m\u001b[0m\n\u001b[0;32m    241\u001b[0m             \u001b[1;32mraise\u001b[0m \u001b[0mexception_class\u001b[0m\u001b[1;33m(\u001b[0m\u001b[0mmessage\u001b[0m\u001b[1;33m,\u001b[0m \u001b[0mscreen\u001b[0m\u001b[1;33m,\u001b[0m \u001b[0mstacktrace\u001b[0m\u001b[1;33m,\u001b[0m \u001b[0malert_text\u001b[0m\u001b[1;33m)\u001b[0m\u001b[1;33m\u001b[0m\u001b[1;33m\u001b[0m\u001b[0m\n\u001b[1;32m--> 242\u001b[1;33m         \u001b[1;32mraise\u001b[0m \u001b[0mexception_class\u001b[0m\u001b[1;33m(\u001b[0m\u001b[0mmessage\u001b[0m\u001b[1;33m,\u001b[0m \u001b[0mscreen\u001b[0m\u001b[1;33m,\u001b[0m \u001b[0mstacktrace\u001b[0m\u001b[1;33m)\u001b[0m\u001b[1;33m\u001b[0m\u001b[1;33m\u001b[0m\u001b[0m\n\u001b[0m\u001b[0;32m    243\u001b[0m \u001b[1;33m\u001b[0m\u001b[0m\n\u001b[0;32m    244\u001b[0m     \u001b[1;32mdef\u001b[0m \u001b[0m_value_or_default\u001b[0m\u001b[1;33m(\u001b[0m\u001b[0mself\u001b[0m\u001b[1;33m,\u001b[0m \u001b[0mobj\u001b[0m\u001b[1;33m,\u001b[0m \u001b[0mkey\u001b[0m\u001b[1;33m,\u001b[0m \u001b[0mdefault\u001b[0m\u001b[1;33m)\u001b[0m\u001b[1;33m:\u001b[0m\u001b[1;33m\u001b[0m\u001b[1;33m\u001b[0m\u001b[0m\n",
      "\u001b[1;31mElementClickInterceptedException\u001b[0m: Message: element click intercepted: Element is not clickable at point (593, 3337)\n  (Session info: chrome=77.0.3865.90)\n"
     ]
    }
   ],
   "source": [
    "#path = '//*[@id=\"search-content\"]/div/div[1]/div[2]/div[3]/div/div[2]/button'\n",
    "path = '//*[@id=\"search-content\"]/div/div[1]/div[2]/div[3]/div/div[2]'\n",
    "button = driver.find_element_by_xpath(path)\n",
    "button.click()\n"
   ]
  },
  {
   "cell_type": "code",
   "execution_count": 108,
   "metadata": {},
   "outputs": [
    {
     "name": "stdout",
     "output_type": "stream",
     "text": [
      "340\n",
      "344\n",
      "348\n",
      "352\n",
      "354\n",
      "363\n",
      "369\n",
      "373\n",
      "374\n",
      "377\n",
      "380\n"
     ]
    },
    {
     "ename": "ElementClickInterceptedException",
     "evalue": "Message: element click intercepted: Element is not clickable at point (593, 2706)\n  (Session info: chrome=77.0.3865.90)\n",
     "output_type": "error",
     "traceback": [
      "\u001b[1;31m---------------------------------------------------------------------------\u001b[0m",
      "\u001b[1;31mIndexError\u001b[0m                                Traceback (most recent call last)",
      "\u001b[1;32m<ipython-input-108-0073366def08>\u001b[0m in \u001b[0;36m<module>\u001b[1;34m\u001b[0m\n\u001b[0;32m      6\u001b[0m     \u001b[1;32mtry\u001b[0m\u001b[1;33m:\u001b[0m\u001b[1;33m\u001b[0m\u001b[1;33m\u001b[0m\u001b[0m\n\u001b[1;32m----> 7\u001b[1;33m         \u001b[0mUSNews\u001b[0m\u001b[1;33m.\u001b[0m\u001b[0mappend\u001b[0m\u001b[1;33m(\u001b[0m\u001b[0mget_institution_name\u001b[0m\u001b[1;33m(\u001b[0m\u001b[0mi\u001b[0m\u001b[1;33m)\u001b[0m\u001b[1;33m)\u001b[0m\u001b[1;33m\u001b[0m\u001b[1;33m\u001b[0m\u001b[0m\n\u001b[0m\u001b[0;32m      8\u001b[0m     \u001b[1;32mexcept\u001b[0m\u001b[1;33m:\u001b[0m\u001b[1;33m\u001b[0m\u001b[1;33m\u001b[0m\u001b[0m\n",
      "\u001b[1;32m<ipython-input-101-3df416dbb24e>\u001b[0m in \u001b[0;36mget_institution_name\u001b[1;34m(i, path_div)\u001b[0m\n\u001b[0;32m      4\u001b[0m     \u001b[0minstitution\u001b[0m \u001b[1;33m=\u001b[0m \u001b[0mdriver\u001b[0m\u001b[1;33m.\u001b[0m\u001b[0mfind_elements_by_xpath\u001b[0m\u001b[1;33m(\u001b[0m\u001b[0mpath\u001b[0m\u001b[1;33m)\u001b[0m\u001b[1;33m\u001b[0m\u001b[1;33m\u001b[0m\u001b[0m\n\u001b[1;32m----> 5\u001b[1;33m     \u001b[0mname\u001b[0m \u001b[1;33m=\u001b[0m \u001b[0minstitution\u001b[0m\u001b[1;33m[\u001b[0m\u001b[1;36m0\u001b[0m\u001b[1;33m]\u001b[0m\u001b[1;33m.\u001b[0m\u001b[0mtext\u001b[0m\u001b[1;33m\u001b[0m\u001b[1;33m\u001b[0m\u001b[0m\n\u001b[0m\u001b[0;32m      6\u001b[0m     \u001b[1;32mreturn\u001b[0m\u001b[1;33m(\u001b[0m\u001b[0mname\u001b[0m\u001b[1;33m)\u001b[0m\u001b[1;33m\u001b[0m\u001b[1;33m\u001b[0m\u001b[0m\n",
      "\u001b[1;31mIndexError\u001b[0m: list index out of range",
      "\nDuring handling of the above exception, another exception occurred:\n",
      "\u001b[1;31mIndexError\u001b[0m                                Traceback (most recent call last)",
      "\u001b[1;32m<ipython-input-108-0073366def08>\u001b[0m in \u001b[0;36m<module>\u001b[1;34m\u001b[0m\n\u001b[0;32m     10\u001b[0m         \u001b[1;32mtry\u001b[0m\u001b[1;33m:\u001b[0m\u001b[1;33m\u001b[0m\u001b[1;33m\u001b[0m\u001b[0m\n\u001b[1;32m---> 11\u001b[1;33m             \u001b[0mUSNews\u001b[0m\u001b[1;33m.\u001b[0m\u001b[0mappend\u001b[0m\u001b[1;33m(\u001b[0m\u001b[0mget_institution_name\u001b[0m\u001b[1;33m(\u001b[0m\u001b[0mi\u001b[0m\u001b[1;33m,\u001b[0m \u001b[0mpath_div\u001b[0m \u001b[1;33m=\u001b[0m \u001b[1;36m2\u001b[0m\u001b[1;33m)\u001b[0m\u001b[1;33m)\u001b[0m\u001b[1;33m\u001b[0m\u001b[1;33m\u001b[0m\u001b[0m\n\u001b[0m\u001b[0;32m     12\u001b[0m         \u001b[1;32mexcept\u001b[0m\u001b[1;33m:\u001b[0m\u001b[1;33m\u001b[0m\u001b[1;33m\u001b[0m\u001b[0m\n",
      "\u001b[1;32m<ipython-input-101-3df416dbb24e>\u001b[0m in \u001b[0;36mget_institution_name\u001b[1;34m(i, path_div)\u001b[0m\n\u001b[0;32m      4\u001b[0m     \u001b[0minstitution\u001b[0m \u001b[1;33m=\u001b[0m \u001b[0mdriver\u001b[0m\u001b[1;33m.\u001b[0m\u001b[0mfind_elements_by_xpath\u001b[0m\u001b[1;33m(\u001b[0m\u001b[0mpath\u001b[0m\u001b[1;33m)\u001b[0m\u001b[1;33m\u001b[0m\u001b[1;33m\u001b[0m\u001b[0m\n\u001b[1;32m----> 5\u001b[1;33m     \u001b[0mname\u001b[0m \u001b[1;33m=\u001b[0m \u001b[0minstitution\u001b[0m\u001b[1;33m[\u001b[0m\u001b[1;36m0\u001b[0m\u001b[1;33m]\u001b[0m\u001b[1;33m.\u001b[0m\u001b[0mtext\u001b[0m\u001b[1;33m\u001b[0m\u001b[1;33m\u001b[0m\u001b[0m\n\u001b[0m\u001b[0;32m      6\u001b[0m     \u001b[1;32mreturn\u001b[0m\u001b[1;33m(\u001b[0m\u001b[0mname\u001b[0m\u001b[1;33m)\u001b[0m\u001b[1;33m\u001b[0m\u001b[1;33m\u001b[0m\u001b[0m\n",
      "\u001b[1;31mIndexError\u001b[0m: list index out of range",
      "\nDuring handling of the above exception, another exception occurred:\n",
      "\u001b[1;31mIndexError\u001b[0m                                Traceback (most recent call last)",
      "\u001b[1;32m<ipython-input-108-0073366def08>\u001b[0m in \u001b[0;36m<module>\u001b[1;34m\u001b[0m\n\u001b[0;32m     14\u001b[0m             \u001b[1;32mtry\u001b[0m\u001b[1;33m:\u001b[0m\u001b[1;33m\u001b[0m\u001b[1;33m\u001b[0m\u001b[0m\n\u001b[1;32m---> 15\u001b[1;33m                 \u001b[0mUSNews\u001b[0m\u001b[1;33m.\u001b[0m\u001b[0mappend\u001b[0m\u001b[1;33m(\u001b[0m\u001b[0mget_institution_name\u001b[0m\u001b[1;33m(\u001b[0m\u001b[0mi\u001b[0m\u001b[1;33m)\u001b[0m\u001b[1;33m)\u001b[0m\u001b[1;33m\u001b[0m\u001b[1;33m\u001b[0m\u001b[0m\n\u001b[0m\u001b[0;32m     16\u001b[0m             \u001b[1;32mexcept\u001b[0m\u001b[1;33m:\u001b[0m\u001b[1;33m\u001b[0m\u001b[1;33m\u001b[0m\u001b[0m\n",
      "\u001b[1;32m<ipython-input-101-3df416dbb24e>\u001b[0m in \u001b[0;36mget_institution_name\u001b[1;34m(i, path_div)\u001b[0m\n\u001b[0;32m      4\u001b[0m     \u001b[0minstitution\u001b[0m \u001b[1;33m=\u001b[0m \u001b[0mdriver\u001b[0m\u001b[1;33m.\u001b[0m\u001b[0mfind_elements_by_xpath\u001b[0m\u001b[1;33m(\u001b[0m\u001b[0mpath\u001b[0m\u001b[1;33m)\u001b[0m\u001b[1;33m\u001b[0m\u001b[1;33m\u001b[0m\u001b[0m\n\u001b[1;32m----> 5\u001b[1;33m     \u001b[0mname\u001b[0m \u001b[1;33m=\u001b[0m \u001b[0minstitution\u001b[0m\u001b[1;33m[\u001b[0m\u001b[1;36m0\u001b[0m\u001b[1;33m]\u001b[0m\u001b[1;33m.\u001b[0m\u001b[0mtext\u001b[0m\u001b[1;33m\u001b[0m\u001b[1;33m\u001b[0m\u001b[0m\n\u001b[0m\u001b[0;32m      6\u001b[0m     \u001b[1;32mreturn\u001b[0m\u001b[1;33m(\u001b[0m\u001b[0mname\u001b[0m\u001b[1;33m)\u001b[0m\u001b[1;33m\u001b[0m\u001b[1;33m\u001b[0m\u001b[0m\n",
      "\u001b[1;31mIndexError\u001b[0m: list index out of range",
      "\nDuring handling of the above exception, another exception occurred:\n",
      "\u001b[1;31mElementClickInterceptedException\u001b[0m          Traceback (most recent call last)",
      "\u001b[1;32m<ipython-input-108-0073366def08>\u001b[0m in \u001b[0;36m<module>\u001b[1;34m\u001b[0m\n\u001b[0;32m     15\u001b[0m                 \u001b[0mUSNews\u001b[0m\u001b[1;33m.\u001b[0m\u001b[0mappend\u001b[0m\u001b[1;33m(\u001b[0m\u001b[0mget_institution_name\u001b[0m\u001b[1;33m(\u001b[0m\u001b[0mi\u001b[0m\u001b[1;33m)\u001b[0m\u001b[1;33m)\u001b[0m\u001b[1;33m\u001b[0m\u001b[1;33m\u001b[0m\u001b[0m\n\u001b[0;32m     16\u001b[0m             \u001b[1;32mexcept\u001b[0m\u001b[1;33m:\u001b[0m\u001b[1;33m\u001b[0m\u001b[1;33m\u001b[0m\u001b[0m\n\u001b[1;32m---> 17\u001b[1;33m                 \u001b[0mload_more_with_click\u001b[0m\u001b[1;33m(\u001b[0m\u001b[1;33m)\u001b[0m\u001b[1;33m\u001b[0m\u001b[1;33m\u001b[0m\u001b[0m\n\u001b[0m\u001b[0;32m     18\u001b[0m                 \u001b[1;32mtry\u001b[0m\u001b[1;33m:\u001b[0m\u001b[1;33m\u001b[0m\u001b[1;33m\u001b[0m\u001b[0m\n\u001b[0;32m     19\u001b[0m                     \u001b[0mUSNews\u001b[0m\u001b[1;33m.\u001b[0m\u001b[0mappend\u001b[0m\u001b[1;33m(\u001b[0m\u001b[0mget_institution_name\u001b[0m\u001b[1;33m(\u001b[0m\u001b[0mi\u001b[0m\u001b[1;33m)\u001b[0m\u001b[1;33m)\u001b[0m\u001b[1;33m\u001b[0m\u001b[1;33m\u001b[0m\u001b[0m\n",
      "\u001b[1;32m<ipython-input-95-7c92675818be>\u001b[0m in \u001b[0;36mload_more_with_click\u001b[1;34m()\u001b[0m\n\u001b[0;32m      9\u001b[0m     \u001b[0mpath\u001b[0m \u001b[1;33m=\u001b[0m \u001b[1;34m'//*[@id=\"search-content\"]/div/div[1]/div[2]/div[3]/div/div[2]'\u001b[0m\u001b[1;33m\u001b[0m\u001b[1;33m\u001b[0m\u001b[0m\n\u001b[0;32m     10\u001b[0m     \u001b[0mbutton\u001b[0m \u001b[1;33m=\u001b[0m \u001b[0mdriver\u001b[0m\u001b[1;33m.\u001b[0m\u001b[0mfind_element_by_xpath\u001b[0m\u001b[1;33m(\u001b[0m\u001b[0mpath\u001b[0m\u001b[1;33m)\u001b[0m\u001b[1;33m\u001b[0m\u001b[1;33m\u001b[0m\u001b[0m\n\u001b[1;32m---> 11\u001b[1;33m     \u001b[0mbutton\u001b[0m\u001b[1;33m.\u001b[0m\u001b[0mclick\u001b[0m\u001b[1;33m(\u001b[0m\u001b[1;33m)\u001b[0m\u001b[1;33m\u001b[0m\u001b[1;33m\u001b[0m\u001b[0m\n\u001b[0m\u001b[0;32m     12\u001b[0m     \u001b[0mtime\u001b[0m\u001b[1;33m.\u001b[0m\u001b[0msleep\u001b[0m\u001b[1;33m(\u001b[0m\u001b[0mnp\u001b[0m\u001b[1;33m.\u001b[0m\u001b[0mrandom\u001b[0m\u001b[1;33m.\u001b[0m\u001b[0mnormal\u001b[0m\u001b[1;33m(\u001b[0m\u001b[1;36m20\u001b[0m\u001b[1;33m,\u001b[0m\u001b[1;36m0.25\u001b[0m\u001b[1;33m)\u001b[0m \u001b[1;33m+\u001b[0m \u001b[1;36m0.2\u001b[0m\u001b[1;33m)\u001b[0m\u001b[1;33m\u001b[0m\u001b[1;33m\u001b[0m\u001b[0m\n",
      "\u001b[1;32m~\\Anaconda3\\lib\\site-packages\\selenium\\webdriver\\remote\\webelement.py\u001b[0m in \u001b[0;36mclick\u001b[1;34m(self)\u001b[0m\n\u001b[0;32m     78\u001b[0m     \u001b[1;32mdef\u001b[0m \u001b[0mclick\u001b[0m\u001b[1;33m(\u001b[0m\u001b[0mself\u001b[0m\u001b[1;33m)\u001b[0m\u001b[1;33m:\u001b[0m\u001b[1;33m\u001b[0m\u001b[1;33m\u001b[0m\u001b[0m\n\u001b[0;32m     79\u001b[0m         \u001b[1;34m\"\"\"Clicks the element.\"\"\"\u001b[0m\u001b[1;33m\u001b[0m\u001b[1;33m\u001b[0m\u001b[0m\n\u001b[1;32m---> 80\u001b[1;33m         \u001b[0mself\u001b[0m\u001b[1;33m.\u001b[0m\u001b[0m_execute\u001b[0m\u001b[1;33m(\u001b[0m\u001b[0mCommand\u001b[0m\u001b[1;33m.\u001b[0m\u001b[0mCLICK_ELEMENT\u001b[0m\u001b[1;33m)\u001b[0m\u001b[1;33m\u001b[0m\u001b[1;33m\u001b[0m\u001b[0m\n\u001b[0m\u001b[0;32m     81\u001b[0m \u001b[1;33m\u001b[0m\u001b[0m\n\u001b[0;32m     82\u001b[0m     \u001b[1;32mdef\u001b[0m \u001b[0msubmit\u001b[0m\u001b[1;33m(\u001b[0m\u001b[0mself\u001b[0m\u001b[1;33m)\u001b[0m\u001b[1;33m:\u001b[0m\u001b[1;33m\u001b[0m\u001b[1;33m\u001b[0m\u001b[0m\n",
      "\u001b[1;32m~\\Anaconda3\\lib\\site-packages\\selenium\\webdriver\\remote\\webelement.py\u001b[0m in \u001b[0;36m_execute\u001b[1;34m(self, command, params)\u001b[0m\n\u001b[0;32m    631\u001b[0m             \u001b[0mparams\u001b[0m \u001b[1;33m=\u001b[0m \u001b[1;33m{\u001b[0m\u001b[1;33m}\u001b[0m\u001b[1;33m\u001b[0m\u001b[1;33m\u001b[0m\u001b[0m\n\u001b[0;32m    632\u001b[0m         \u001b[0mparams\u001b[0m\u001b[1;33m[\u001b[0m\u001b[1;34m'id'\u001b[0m\u001b[1;33m]\u001b[0m \u001b[1;33m=\u001b[0m \u001b[0mself\u001b[0m\u001b[1;33m.\u001b[0m\u001b[0m_id\u001b[0m\u001b[1;33m\u001b[0m\u001b[1;33m\u001b[0m\u001b[0m\n\u001b[1;32m--> 633\u001b[1;33m         \u001b[1;32mreturn\u001b[0m \u001b[0mself\u001b[0m\u001b[1;33m.\u001b[0m\u001b[0m_parent\u001b[0m\u001b[1;33m.\u001b[0m\u001b[0mexecute\u001b[0m\u001b[1;33m(\u001b[0m\u001b[0mcommand\u001b[0m\u001b[1;33m,\u001b[0m \u001b[0mparams\u001b[0m\u001b[1;33m)\u001b[0m\u001b[1;33m\u001b[0m\u001b[1;33m\u001b[0m\u001b[0m\n\u001b[0m\u001b[0;32m    634\u001b[0m \u001b[1;33m\u001b[0m\u001b[0m\n\u001b[0;32m    635\u001b[0m     \u001b[1;32mdef\u001b[0m \u001b[0mfind_element\u001b[0m\u001b[1;33m(\u001b[0m\u001b[0mself\u001b[0m\u001b[1;33m,\u001b[0m \u001b[0mby\u001b[0m\u001b[1;33m=\u001b[0m\u001b[0mBy\u001b[0m\u001b[1;33m.\u001b[0m\u001b[0mID\u001b[0m\u001b[1;33m,\u001b[0m \u001b[0mvalue\u001b[0m\u001b[1;33m=\u001b[0m\u001b[1;32mNone\u001b[0m\u001b[1;33m)\u001b[0m\u001b[1;33m:\u001b[0m\u001b[1;33m\u001b[0m\u001b[1;33m\u001b[0m\u001b[0m\n",
      "\u001b[1;32m~\\Anaconda3\\lib\\site-packages\\selenium\\webdriver\\remote\\webdriver.py\u001b[0m in \u001b[0;36mexecute\u001b[1;34m(self, driver_command, params)\u001b[0m\n\u001b[0;32m    319\u001b[0m         \u001b[0mresponse\u001b[0m \u001b[1;33m=\u001b[0m \u001b[0mself\u001b[0m\u001b[1;33m.\u001b[0m\u001b[0mcommand_executor\u001b[0m\u001b[1;33m.\u001b[0m\u001b[0mexecute\u001b[0m\u001b[1;33m(\u001b[0m\u001b[0mdriver_command\u001b[0m\u001b[1;33m,\u001b[0m \u001b[0mparams\u001b[0m\u001b[1;33m)\u001b[0m\u001b[1;33m\u001b[0m\u001b[1;33m\u001b[0m\u001b[0m\n\u001b[0;32m    320\u001b[0m         \u001b[1;32mif\u001b[0m \u001b[0mresponse\u001b[0m\u001b[1;33m:\u001b[0m\u001b[1;33m\u001b[0m\u001b[1;33m\u001b[0m\u001b[0m\n\u001b[1;32m--> 321\u001b[1;33m             \u001b[0mself\u001b[0m\u001b[1;33m.\u001b[0m\u001b[0merror_handler\u001b[0m\u001b[1;33m.\u001b[0m\u001b[0mcheck_response\u001b[0m\u001b[1;33m(\u001b[0m\u001b[0mresponse\u001b[0m\u001b[1;33m)\u001b[0m\u001b[1;33m\u001b[0m\u001b[1;33m\u001b[0m\u001b[0m\n\u001b[0m\u001b[0;32m    322\u001b[0m             response['value'] = self._unwrap_value(\n\u001b[0;32m    323\u001b[0m                 response.get('value', None))\n",
      "\u001b[1;32m~\\Anaconda3\\lib\\site-packages\\selenium\\webdriver\\remote\\errorhandler.py\u001b[0m in \u001b[0;36mcheck_response\u001b[1;34m(self, response)\u001b[0m\n\u001b[0;32m    240\u001b[0m                 \u001b[0malert_text\u001b[0m \u001b[1;33m=\u001b[0m \u001b[0mvalue\u001b[0m\u001b[1;33m[\u001b[0m\u001b[1;34m'alert'\u001b[0m\u001b[1;33m]\u001b[0m\u001b[1;33m.\u001b[0m\u001b[0mget\u001b[0m\u001b[1;33m(\u001b[0m\u001b[1;34m'text'\u001b[0m\u001b[1;33m)\u001b[0m\u001b[1;33m\u001b[0m\u001b[1;33m\u001b[0m\u001b[0m\n\u001b[0;32m    241\u001b[0m             \u001b[1;32mraise\u001b[0m \u001b[0mexception_class\u001b[0m\u001b[1;33m(\u001b[0m\u001b[0mmessage\u001b[0m\u001b[1;33m,\u001b[0m \u001b[0mscreen\u001b[0m\u001b[1;33m,\u001b[0m \u001b[0mstacktrace\u001b[0m\u001b[1;33m,\u001b[0m \u001b[0malert_text\u001b[0m\u001b[1;33m)\u001b[0m\u001b[1;33m\u001b[0m\u001b[1;33m\u001b[0m\u001b[0m\n\u001b[1;32m--> 242\u001b[1;33m         \u001b[1;32mraise\u001b[0m \u001b[0mexception_class\u001b[0m\u001b[1;33m(\u001b[0m\u001b[0mmessage\u001b[0m\u001b[1;33m,\u001b[0m \u001b[0mscreen\u001b[0m\u001b[1;33m,\u001b[0m \u001b[0mstacktrace\u001b[0m\u001b[1;33m)\u001b[0m\u001b[1;33m\u001b[0m\u001b[1;33m\u001b[0m\u001b[0m\n\u001b[0m\u001b[0;32m    243\u001b[0m \u001b[1;33m\u001b[0m\u001b[0m\n\u001b[0;32m    244\u001b[0m     \u001b[1;32mdef\u001b[0m \u001b[0m_value_or_default\u001b[0m\u001b[1;33m(\u001b[0m\u001b[0mself\u001b[0m\u001b[1;33m,\u001b[0m \u001b[0mobj\u001b[0m\u001b[1;33m,\u001b[0m \u001b[0mkey\u001b[0m\u001b[1;33m,\u001b[0m \u001b[0mdefault\u001b[0m\u001b[1;33m)\u001b[0m\u001b[1;33m:\u001b[0m\u001b[1;33m\u001b[0m\u001b[1;33m\u001b[0m\u001b[0m\n",
      "\u001b[1;31mElementClickInterceptedException\u001b[0m: Message: element click intercepted: Element is not clickable at point (593, 2706)\n  (Session info: chrome=77.0.3865.90)\n"
     ]
    }
   ],
   "source": [
    "# scrape the university names\n",
    "# this code runs into errors every once in a while, but I was able to help by manually scrolling/clicking\n",
    "USNews = []\n",
    "for i in range(381):\n",
    "    \n",
    "    try:\n",
    "        USNews.append(get_institution_name(i))\n",
    "    except:\n",
    "        print(str(i))\n",
    "        try:\n",
    "            USNews.append(get_institution_name(i, path_div = 2))\n",
    "        except:\n",
    "            load_more()\n",
    "            try:\n",
    "                USNews.append(get_institution_name(i))\n",
    "            except:\n",
    "                load_more_with_click()\n",
    "                try:\n",
    "                    USNews.append(get_institution_name(i))\n",
    "                except:\n",
    "                    USNews.append()"
   ]
  },
  {
   "cell_type": "code",
   "execution_count": 111,
   "metadata": {},
   "outputs": [],
   "source": [
    "print(len(USNews))\n",
    "print(USNews)\n",
    "#USNews.append('Wright State University')"
   ]
  },
  {
   "cell_type": "code",
   "execution_count": 112,
   "metadata": {},
   "outputs": [],
   "source": [
    "# save list of names to file\n",
    "with open('Data/US News 2020.txt', 'w') as filehandle:\n",
    "    for listitem in USNews:\n",
    "        filehandle.write('%s\\n' % listitem)"
   ]
  },
  {
   "cell_type": "code",
   "execution_count": 116,
   "metadata": {},
   "outputs": [
    {
     "data": {
      "text/plain": [
       "'#2'"
      ]
     },
     "execution_count": 116,
     "metadata": {},
     "output_type": "execute_result"
    }
   ],
   "source": [
    "# now, scrape the ranking and tuition while I have the page open, jeez\n",
    "def get_ranking(i, path_loc = 1):\n",
    "    path = '//*[@id=\"school-' + str(i) + '\"]/div/div[' + str(path_loc) + ']/div[1]/div[2]/ul/li/a/div/strong'\n",
    "    element = driver.find_elements_by_xpath(path)\n",
    "    ranking = element[0].text\n",
    "    return(ranking)\n",
    "get_ranking(1)\n",
    "\n",
    "//*[@id=\"school-212\"]/div/div[2]/div[1]/div[2]/ul/li/a/div/strong"
   ]
  },
  {
   "cell_type": "code",
   "execution_count": 118,
   "metadata": {},
   "outputs": [
    {
     "data": {
      "text/plain": [
       "'$61,850'"
      ]
     },
     "execution_count": 118,
     "metadata": {},
     "output_type": "execute_result"
    }
   ],
   "source": [
    "def get_tuition(i, path_loc = 1):\n",
    "    path = '//*[@id=\"school-' + str(i) + '\"]/div/div[' + str(path_loc) + ']/div[2]/div[1]/dl/div/dd'\n",
    "    element = driver.find_elements_by_xpath(path)\n",
    "    tuition = element[0].text\n",
    "    return(tuition)\n",
    "get_tuition(2)"
   ]
  },
  {
   "cell_type": "code",
   "execution_count": 119,
   "metadata": {},
   "outputs": [],
   "source": [
    "rankings = []\n",
    "\n",
    "for i in range(381):\n",
    "    try:\n",
    "        rankings.append(get_ranking(i))\n",
    "    except:\n",
    "        try:\n",
    "            rankings.append(get_ranking(i, path_loc = 2))\n",
    "        except:\n",
    "            rankings.append('NaN')"
   ]
  },
  {
   "cell_type": "code",
   "execution_count": 120,
   "metadata": {},
   "outputs": [
    {
     "name": "stdout",
     "output_type": "stream",
     "text": [
      "381\n",
      "['#1', '#2', '#3', '#3', '#3', '#6', '#6', '#6', '#9', '#10', '#10', '#12', '#12', '#14', '#15', '#15', '#17', '#17', '#19', '#20', '#21', '#22', '#22', '#24', '#25', '#25', '#27', '#28', '#29', '#29', '#29', '#29', '#29', '#34', '#34', '#36', '#37', '#37', '#39', '#40', '#40', '#40', '#40', '#40', '#40', '#46', '#46', '#48', '#48', '#50', '#50', '#50', '#50', '#54', '#54', '#54', '#57', '#57', '#57', '#57', '#57', '#62', '#62', '#64', '#64', '#64', '#64', '#64', '#64', '#70', '#70', '#70', '#70', '#74', '#74', '#74', '#77', '#77', '#79', '#79', '#79', '#79', '#79', '#84', '#84', '#84', '#84', '#84', '#84', '#84', '#91', '#91', '#91', '#91', '#91', '#91', '#97', '#97', '#97', '#97', '#97', '#97', '#97', '#104', '#104', '#104', '#104', '#104', '#104', '#104', '#104', '#104', '#104', '#104', '#104', '#104', '#117', '#117', '#117', '#117', '#121', '#121', '#121', '#121', '#125', '#125', '#125', '#125', '#125', '#130', '#130', '#132', '#132', '#132', '#132', '#132', '#132', '#132', '#139', '#139', '#139', '#139', '#139', '#139', '#139', '#139', '#147', '#147', '#147', '#147', '#147', '#147', '#153', '#153', '#153', '#153', '#153', '#153', '#153', '#153', '#153', '#162', '#162', '#162', '#162', '#166', '#166', '#166', '#166', '#166', '#166', '#166', '#166', '#166', '#166', '#166', '#166', '#166', '#179', '#179', 'NaN', '#179', '#179', '#179', '#185', '#185', '#185', '#185', '#185', '#185', '#185', '#192', '#192', '#192', '#192', '#192', '#197', 'NaN', '#197', '#197', '#197', '#202', '#202', '#202', '#202', '#202', '#202', '#202', '#202', '#202', '#211', '#211', 'NaN', '#211', '#211', 'NaN', '#211', 'NaN', '#218', '#218', '#218', '#218', '#218', '#218', '#218', '#218', '#218', '#228', '#228', '#228', '#228', 'NaN', '#228', '#228', '#228', '#228', 'NaN', 'NaN', '#228', '#240', '#240', 'NaN', '#240', '#240', '#240', '#246', '#246', '#246', '#246', '#246', '#246', '#246', '#246', '#254', 'NaN', '#254', 'NaN', 'NaN', '#254', '#254', '#254', 'NaN', '#263', '#263', '#263', '#263', '#263', '#263', '#263', '#263', '#263', '#272', '#272', '#272', '#272', '#272', '#272', '#272', '#272', '#272', 'NaN', '#281', '#281', '#281', '#281', '#281', '#281', '#281', '#281', '#281', '#281', '#281', 'NaN', 'NaN', 'NaN', 'NaN', 'NaN', '#293-#381', '#293-#381', 'NaN', '#293-#381', '#293-#381', '#293-#381', 'NaN', '#293-#381', 'NaN', '#293-#381', '#293-#381', 'NaN', '#293-#381', '#293-#381', '#293-#381', 'NaN', 'NaN', 'NaN', 'NaN', '#293-#381', '#293-#381', 'NaN', '#293-#381', '#293-#381', '#293-#381', 'NaN', 'NaN', '#293-#381', 'NaN', '#293-#381', '#293-#381', '#293-#381', '#293-#381', '#293-#381', '#293-#381', '#293-#381', 'NaN', '#293-#381', 'NaN', '#293-#381', '#293-#381', '#293-#381', '#293-#381', 'NaN', '#293-#381', '#293-#381', '#293-#381', 'NaN', '#293-#381', '#293-#381', '#293-#381', 'NaN', '#293-#381', '#293-#381', '#293-#381', 'NaN', '#293-#381', 'NaN', '#293-#381', '#293-#381', '#293-#381', '#293-#381', '#293-#381', '#293-#381', '#293-#381', '#293-#381', 'NaN', '#293-#381', '#293-#381', '#293-#381', '#293-#381', '#293-#381', 'NaN', '#293-#381', '#293-#381', '#293-#381', 'NaN', 'NaN', '#293-#381', '#293-#381', 'NaN', '#293-#381', '#293-#381', 'NaN']\n"
     ]
    }
   ],
   "source": [
    "print(len(rankings))\n",
    "print(rankings)\n",
    "with open('Data/US News 2020 rankings.txt', 'w') as filehandle:\n",
    "    for listitem in rankings:\n",
    "        filehandle.write('%s\\n' % listitem)"
   ]
  },
  {
   "cell_type": "code",
   "execution_count": 121,
   "metadata": {},
   "outputs": [],
   "source": [
    "tuitions = []\n",
    "for i in range(381):\n",
    "    try:\n",
    "        tuitions.append(get_tuition(i))\n",
    "    except:\n",
    "        try:\n",
    "            tuitions.append(get_tuition(i, path_loc = 2))\n",
    "        except:\n",
    "            tuitions.append('NaN')"
   ]
  },
  {
   "cell_type": "code",
   "execution_count": 122,
   "metadata": {},
   "outputs": [
    {
     "name": "stdout",
     "output_type": "stream",
     "text": [
      "381\n",
      "['$51,870', '$51,925', '$61,850', '$53,790', '$55,500', '$53,529', '$59,298', '$57,770', '$56,691', '$58,198', '$55,350', '$54,600', '$57,204', '$58,504', '$55,553', '$52,070', '$57,222', '$49,112', '$55,292', '$42,218(out-of-state)', '$53,804', '$43,176(out-of-state)', '$58,195', '$56,058', '$57,119', '$51,200(out-of-state)', '$55,440', '$50,920(out-of-state)', '$33,794(out-of-state)', '$53,308', '$58,578', '$36,222(out-of-state)', '$56,026', '$43,383(out-of-state)', '$28,658(out-of-state)', '$43,481(out-of-state)', '$57,910', '$43,162(out-of-state)', '$43,484(out-of-state)', '$55,892', '$57,561', '$50,904', '$46,283(out-of-state)', '$53,506', '$56,800', '$37,785(out-of-state)', '$55,430', '$33,352(out-of-state)', '$38,228(out-of-state)', '$55,240', '$55,892', '$55,378', '$31,120(out-of-state)', '$32,061(out-of-state)', '$53,634', '$53,849', '$21,673(out-of-state)', '$35,514(out-of-state)', '$28,794(out-of-state)', '$51,930', '$33,746(out-of-state)', '$32,189(out-of-state)', '$38,796(out-of-state)', '$50,283', '$56,560', '$39,894(out-of-state)', '$36,890(out-of-state)', '$35,710(out-of-state)', '$52,322', '$38,112(out-of-state)', '$56,935', '$37,726(out-of-state)', '$33,325(out-of-state)', '$54,093', '$54,014', '$32,835(out-of-state)', '$49,889', '$5,790', '$47,364', '$27,791(out-of-state)', '$45,140', '$36,514(out-of-state)', '$27,850(out-of-state)', '$39,762(out-of-state)', '$36,571', '$43,936', '$39,766(out-of-state)', '$29,220(out-of-state)', '$43,046(out-of-state)', '$31,568(out-of-state)', '$47,200', '$34,307(out-of-state)', '$28,528(out-of-state)', '$42,819(out-of-state)', '$34,310(out-of-state)', '$51,186', '$54,516', '$32,750(out-of-state)', '$45,424', '$49,250', '$52,515', '$50,282', '$44,900', '$31,124(out-of-state)', '$41,400', '$27,206', '$45,543', '$45,890', '$34,126(out-of-state)', '$42,530(out-of-state)', '$38,318(out-of-state)', '$36,615(out-of-state)', '$33,928(out-of-state)', '$17,324(out-of-state)', '$31,454(out-of-state)', '$30,132(out-of-state)', '$29,428(out-of-state)', '$51,128', '$49,280', '$36,366(out-of-state)', '$24,508(out-of-state)', '$18,644(out-of-state)', '$42,238', '$43,690(out-of-state)', '$54,924', '$41,202', '$42,066', '$35,409(out-of-state)', '$49,588', '$42,840', '$27,358(out-of-state)', '$39,992', '$31,608(out-of-state)', '$44,100', '$27,672(out-of-state)', '$30,680(out-of-state)', '$44,500', '$27,144(out-of-state)', '$47,746', '$31,314(out-of-state)', '$46,590', '$43,780', '$26,994(out-of-state)', '$28,348(out-of-state)', '$25,828(out-of-state)', '$42,736', '$35,196(out-of-state)', '$32,850', '$19,390(out-of-state)', '$26,666(out-of-state)', '$40,286', '$38,168(out-of-state)', '$36,024(out-of-state)', '$28,639(out-of-state)', '$37,808', '$50,954', '$49,280', '$41,715', '$30,250(out-of-state)', '$25,872(out-of-state)', '$41,820', '$47,510', '$25,887(out-of-state)', '$25,090(out-of-state)', '$35,244(out-of-state)', '$38,660', '$35,650', '$30,780(out-of-state)', '$21,033(out-of-state)', '$22,832(out-of-state)', '$31,500(out-of-state)', '$35,150', '$25,380(out-of-state)', '$22,467(out-of-state)', '$34,002(out-of-state)', '$27,662(out-of-state)', '$31,686(out-of-state)', '$26,419(out-of-state)', '$17,038', '$29,601(out-of-state)', '$43,000', '$28,840', '$27,540(out-of-state)', '$32,827(out-of-state)', '$41,976', '$38,738', '$22,406(out-of-state)', '$46,402', '$33,900', '$26,936(out-of-state)', '$21,246(out-of-state)', '$26,984(out-of-state)', '$34,560', '$24,539(out-of-state)', '$45,078', '$26,958(out-of-state)', '$42,430', '$38,460', '$26,040(out-of-state)', '$40,592', '$24,334(out-of-state)', '$30,600', '$42,470', '$28,470', '$46,446', '$38,180', '$31,200', '$31,748(out-of-state)', '$34,000', '$47,328', '$12,725(out-of-state)', '$30,114(out-of-state)', '$27,350', '$19,792(out-of-state)', '$23,950(out-of-state)', '$42,182', '$37,622', '$34,670', '$18,956(out-of-state)', '$33,226', '$28,024', '$33,424', '$43,070', '$23,770(out-of-state)', '$30,103(out-of-state)', '$24,490(out-of-state)', '$37,992', '$38,880', '$18,475(out-of-state)', '$23,516(out-of-state)', '$18,296(out-of-state)', '$30,712(out-of-state)', '$31,883', '$41,614', '$30,976', '$35,075(out-of-state)', '$20,288(out-of-state)', '$18,151(out-of-state)', '$25,320(out-of-state)', '$12,960(out-of-state)', '$20,530', '$38,368', '$32,594', '$35,410', '$23,075(out-of-state)', '$19,305(out-of-state)', '$37,280', '$28,750', '$25,708(out-of-state)', '$32,150', '$38,750', '$31,499(out-of-state)', '$16,041(out-of-state)', '$29,800', '$38,282', '$27,940', '$17,725(out-of-state)', '$22,740', '$14,904(out-of-state)', '$32,005(out-of-state)', '$26,218(out-of-state)', '$22,197(out-of-state)', '$29,430', '$24,917(out-of-state)', '$30,652(out-of-state)', '$33,242', '$23,110(out-of-state)', '$24,970(out-of-state)', '$26,134(out-of-state)', '$13,842(out-of-state)', '$12,807(out-of-state)', '$33,880', '$33,120', '$19,098(out-of-state)', '$31,085', '$12,590(out-of-state)', '$17,373(out-of-state)', '$16,037(out-of-state)', '$22,564(out-of-state)', '$32,576', '$30,352', '$30,320', '$21,595(out-of-state)', '$31,460', '$20,167(out-of-state)', '$13,628(out-of-state)', '$19,280', '$22,933(out-of-state)', '$29,295(out-of-state)', '$20,112(out-of-state)', '$23,911(out-of-state)', '$12,750', '$30,158', '$15,860(out-of-state)', '$23,156(out-of-state)', 'N/A', '$29,850', '$34,290', '$24,988(out-of-state)', '$31,798', '$28,900', '$23,672', '$15,054(out-of-state)', '$18,124(out-of-state)', '$12,940(out-of-state)', 'N/A(out-of-state)', '$13,469(out-of-state)', '$21,374(out-of-state)', 'N/A', '$18,940', '$20,228(out-of-state)', '$17,674(out-of-state)', '$19,620(out-of-state)', '$21,636(out-of-state)', '$23,002(out-of-state)', '$24,906', '$18,100', '$19,266(out-of-state)', 'N/A(out-of-state)', '$29,038(out-of-state)', '$18,610', '$15,910(out-of-state)', '$18,480(out-of-state)', '$11,010', '$26,516(out-of-state)', '$14,610(out-of-state)', '$20,256(out-of-state)', '$24,710(out-of-state)', '$29,218', '$32,500', '$28,410(out-of-state)', '$30,876', '$12,219(out-of-state)', 'N/A', '$22,737(out-of-state)', '$20,607(out-of-state)', '$21,198(out-of-state)', '$18,863(out-of-state)', '$21,791(out-of-state)', '$21,623(out-of-state)', '$23,917(out-of-state)', '$30,300', '$21,930(out-of-state)', '$20,550', '$26,098', '$33,028', '$17,784(out-of-state)', '$21,754(out-of-state)', '$34,100', '$15,998(out-of-state)', '$30,600', '$25,593(out-of-state)', '$20,680(out-of-state)', '$23,640(out-of-state)', '$20,834(out-of-state)', '$19,074', '$18,508(out-of-state)', '$23,692(out-of-state)', '$21,244(out-of-state)', '$22,904(out-of-state)', '$16,378(out-of-state)', '$21,876(out-of-state)', '$20,164(out-of-state)', '$10,879(out-of-state)', '$25,774(out-of-state)', '$28,129(out-of-state)', '$22,429(out-of-state)', '$17,773(out-of-state)', '$24,722(out-of-state)', '$22,752(out-of-state)', 'N/A', '$19,994(out-of-state)', '$20,836(out-of-state)', '$20,867(out-of-state)', '$17,196(out-of-state)', '$18,560(out-of-state)', '$26,496(out-of-state)', '$17,453(out-of-state)', '$24,830', '$35,910', '$18,996(out-of-state)']\n"
     ]
    }
   ],
   "source": [
    "print(len(tuitions))\n",
    "print(tuitions)\n",
    "with open('Data/US News 2020 tuitions.txt', 'w') as filehandle:\n",
    "    for listitem in tuitions:\n",
    "        filehandle.write('%s\\n' % listitem)"
   ]
  }
 ],
 "metadata": {
  "kernelspec": {
   "display_name": "Python 3",
   "language": "python",
   "name": "python3"
  },
  "language_info": {
   "codemirror_mode": {
    "name": "ipython",
    "version": 3
   },
   "file_extension": ".py",
   "mimetype": "text/x-python",
   "name": "python",
   "nbconvert_exporter": "python",
   "pygments_lexer": "ipython3",
   "version": "3.7.3"
  }
 },
 "nbformat": 4,
 "nbformat_minor": 2
}
