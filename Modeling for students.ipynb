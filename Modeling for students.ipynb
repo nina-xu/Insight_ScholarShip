{
 "cells": [
  {
   "cell_type": "markdown",
   "metadata": {},
   "source": [
    "# MVP"
   ]
  },
  {
   "cell_type": "code",
   "execution_count": 4,
   "metadata": {},
   "outputs": [],
   "source": [
    "import pandas as pd\n",
    "import numpy as np"
   ]
  },
  {
   "cell_type": "code",
   "execution_count": 11,
   "metadata": {},
   "outputs": [
    {
     "data": {
      "text/html": [
       "<div>\n",
       "<style scoped>\n",
       "    .dataframe tbody tr th:only-of-type {\n",
       "        vertical-align: middle;\n",
       "    }\n",
       "\n",
       "    .dataframe tbody tr th {\n",
       "        vertical-align: top;\n",
       "    }\n",
       "\n",
       "    .dataframe thead th {\n",
       "        text-align: right;\n",
       "    }\n",
       "</style>\n",
       "<table border=\"1\" class=\"dataframe\">\n",
       "  <thead>\n",
       "    <tr style=\"text-align: right;\">\n",
       "      <th></th>\n",
       "      <th>UNITID</th>\n",
       "      <th>EFFYLEV</th>\n",
       "      <th>LSTUDY</th>\n",
       "      <th>XEYTOTLT</th>\n",
       "      <th>EFYTOTLT</th>\n",
       "      <th>XEYTOTLM</th>\n",
       "      <th>EFYTOTLM</th>\n",
       "      <th>XEYTOTLW</th>\n",
       "      <th>EFYTOTLW</th>\n",
       "      <th>XEFYAIAT</th>\n",
       "      <th>...</th>\n",
       "      <th>GRWHITW_rate</th>\n",
       "      <th>GR2MORT_rate</th>\n",
       "      <th>GR2MORM_rate</th>\n",
       "      <th>GR2MORW_rate</th>\n",
       "      <th>GRUNKNT_rate</th>\n",
       "      <th>GRUNKNM_rate</th>\n",
       "      <th>GRUNKNW_rate</th>\n",
       "      <th>GRNRALT_rate</th>\n",
       "      <th>GRNRALM_rate</th>\n",
       "      <th>GRNRALW _rate</th>\n",
       "    </tr>\n",
       "  </thead>\n",
       "  <tbody>\n",
       "    <tr>\n",
       "      <th>0</th>\n",
       "      <td>100654</td>\n",
       "      <td>2</td>\n",
       "      <td>1</td>\n",
       "      <td>R</td>\n",
       "      <td>5207</td>\n",
       "      <td>R</td>\n",
       "      <td>2286</td>\n",
       "      <td>R</td>\n",
       "      <td>2921</td>\n",
       "      <td>R</td>\n",
       "      <td>...</td>\n",
       "      <td>0.500000</td>\n",
       "      <td>0.333333</td>\n",
       "      <td>0.333333</td>\n",
       "      <td>0.333333</td>\n",
       "      <td>0.000000</td>\n",
       "      <td>0.000000</td>\n",
       "      <td>0.0</td>\n",
       "      <td>0.000000</td>\n",
       "      <td>0.000000</td>\n",
       "      <td>0.000000</td>\n",
       "    </tr>\n",
       "    <tr>\n",
       "      <th>1</th>\n",
       "      <td>100663</td>\n",
       "      <td>2</td>\n",
       "      <td>1</td>\n",
       "      <td>R</td>\n",
       "      <td>13308</td>\n",
       "      <td>R</td>\n",
       "      <td>5528</td>\n",
       "      <td>R</td>\n",
       "      <td>7780</td>\n",
       "      <td>R</td>\n",
       "      <td>...</td>\n",
       "      <td>0.597701</td>\n",
       "      <td>0.444444</td>\n",
       "      <td>0.346154</td>\n",
       "      <td>0.500000</td>\n",
       "      <td>0.454545</td>\n",
       "      <td>0.500000</td>\n",
       "      <td>0.0</td>\n",
       "      <td>0.590909</td>\n",
       "      <td>0.461538</td>\n",
       "      <td>0.777778</td>\n",
       "    </tr>\n",
       "    <tr>\n",
       "      <th>2</th>\n",
       "      <td>100706</td>\n",
       "      <td>2</td>\n",
       "      <td>1</td>\n",
       "      <td>R</td>\n",
       "      <td>7519</td>\n",
       "      <td>R</td>\n",
       "      <td>4287</td>\n",
       "      <td>R</td>\n",
       "      <td>3232</td>\n",
       "      <td>R</td>\n",
       "      <td>...</td>\n",
       "      <td>0.538012</td>\n",
       "      <td>0.666667</td>\n",
       "      <td>0.000000</td>\n",
       "      <td>1.000000</td>\n",
       "      <td>0.551724</td>\n",
       "      <td>0.526316</td>\n",
       "      <td>0.6</td>\n",
       "      <td>0.571429</td>\n",
       "      <td>0.615385</td>\n",
       "      <td>0.000000</td>\n",
       "    </tr>\n",
       "    <tr>\n",
       "      <th>3</th>\n",
       "      <td>100724</td>\n",
       "      <td>2</td>\n",
       "      <td>1</td>\n",
       "      <td>R</td>\n",
       "      <td>5229</td>\n",
       "      <td>R</td>\n",
       "      <td>2024</td>\n",
       "      <td>R</td>\n",
       "      <td>3205</td>\n",
       "      <td>R</td>\n",
       "      <td>...</td>\n",
       "      <td>0.200000</td>\n",
       "      <td>0.000000</td>\n",
       "      <td>0.000000</td>\n",
       "      <td>0.000000</td>\n",
       "      <td>0.333333</td>\n",
       "      <td>0.000000</td>\n",
       "      <td>0.5</td>\n",
       "      <td>0.428571</td>\n",
       "      <td>0.400000</td>\n",
       "      <td>0.500000</td>\n",
       "    </tr>\n",
       "    <tr>\n",
       "      <th>4</th>\n",
       "      <td>100751</td>\n",
       "      <td>2</td>\n",
       "      <td>1</td>\n",
       "      <td>R</td>\n",
       "      <td>35625</td>\n",
       "      <td>R</td>\n",
       "      <td>15883</td>\n",
       "      <td>R</td>\n",
       "      <td>19742</td>\n",
       "      <td>R</td>\n",
       "      <td>...</td>\n",
       "      <td>0.728270</td>\n",
       "      <td>0.604839</td>\n",
       "      <td>0.568627</td>\n",
       "      <td>0.630137</td>\n",
       "      <td>1.000000</td>\n",
       "      <td>0.000000</td>\n",
       "      <td>1.0</td>\n",
       "      <td>0.729323</td>\n",
       "      <td>0.717647</td>\n",
       "      <td>0.750000</td>\n",
       "    </tr>\n",
       "  </tbody>\n",
       "</table>\n",
       "<p>5 rows × 300 columns</p>\n",
       "</div>"
      ],
      "text/plain": [
       "   UNITID  EFFYLEV  LSTUDY XEYTOTLT  EFYTOTLT XEYTOTLM  EFYTOTLM XEYTOTLW  \\\n",
       "0  100654        2       1        R      5207        R      2286        R   \n",
       "1  100663        2       1        R     13308        R      5528        R   \n",
       "2  100706        2       1        R      7519        R      4287        R   \n",
       "3  100724        2       1        R      5229        R      2024        R   \n",
       "4  100751        2       1        R     35625        R     15883        R   \n",
       "\n",
       "   EFYTOTLW XEFYAIAT  ...  GRWHITW_rate GR2MORT_rate  GR2MORM_rate  \\\n",
       "0      2921        R  ...      0.500000     0.333333      0.333333   \n",
       "1      7780        R  ...      0.597701     0.444444      0.346154   \n",
       "2      3232        R  ...      0.538012     0.666667      0.000000   \n",
       "3      3205        R  ...      0.200000     0.000000      0.000000   \n",
       "4     19742        R  ...      0.728270     0.604839      0.568627   \n",
       "\n",
       "  GR2MORW_rate  GRUNKNT_rate GRUNKNM_rate  GRUNKNW_rate GRNRALT_rate  \\\n",
       "0     0.333333      0.000000     0.000000           0.0     0.000000   \n",
       "1     0.500000      0.454545     0.500000           0.0     0.590909   \n",
       "2     1.000000      0.551724     0.526316           0.6     0.571429   \n",
       "3     0.000000      0.333333     0.000000           0.5     0.428571   \n",
       "4     0.630137      1.000000     0.000000           1.0     0.729323   \n",
       "\n",
       "   GRNRALM_rate GRNRALW _rate  \n",
       "0      0.000000      0.000000  \n",
       "1      0.461538      0.777778  \n",
       "2      0.615385      0.000000  \n",
       "3      0.400000      0.500000  \n",
       "4      0.717647      0.750000  \n",
       "\n",
       "[5 rows x 300 columns]"
      ]
     },
     "execution_count": 11,
     "metadata": {},
     "output_type": "execute_result"
    }
   ],
   "source": [
    "# read data\n",
    "data = pd.read_csv('Data/Data Merged.csv')\n",
    "data.head()"
   ]
  },
  {
   "cell_type": "code",
   "execution_count": 5,
   "metadata": {},
   "outputs": [],
   "source": [
    "# creating training and holdout set\n",
    "from sklearn.model_selection import train_test_split\n",
    "data_291_national_universities = data.dropna()\n",
    "data_291_national_universities.shape\n",
    "np.random.seed(922)\n",
    "train, test = train_test_split(data_291_national_universities, test_size = 0.3)"
   ]
  },
  {
   "cell_type": "code",
   "execution_count": 30,
   "metadata": {
    "scrolled": true
   },
   "outputs": [
    {
     "name": "stderr",
     "output_type": "stream",
     "text": [
      "C:\\Users\\Ning\\Anaconda3\\lib\\site-packages\\sklearn\\linear_model\\logistic.py:433: FutureWarning: Default solver will be changed to 'lbfgs' in 0.22. Specify a solver to silence this warning.\n",
      "  FutureWarning)\n"
     ]
    }
   ],
   "source": [
    "# MVP, good_for_intl ~ diversity index + intl_pct\n",
    "from sklearn.linear_model import LogisticRegression\n",
    "logit_model = LogisticRegression(penalty='l2')\n",
    "logit_model.fit(X = train[['intl_pct','diverse_ind']], y = train['good_for_intl_US_news'])\n",
    "logit_fit = logit_model.predict(test[['intl_pct','diverse_ind']])\n"
   ]
  },
  {
   "cell_type": "code",
   "execution_count": 9,
   "metadata": {},
   "outputs": [
    {
     "name": "stdout",
     "output_type": "stream",
     "text": [
      "Optimization terminated successfully.\n",
      "         Current function value: 0.634044\n",
      "         Iterations 6\n",
      "                             Logit Regression Results                            \n",
      "=================================================================================\n",
      "Dep. Variable:     good_for_intl_US_news   No. Observations:                  202\n",
      "Model:                             Logit   Df Residuals:                      200\n",
      "Method:                              MLE   Df Model:                            1\n",
      "Date:                   Mon, 23 Sep 2019   Pseudo R-squ.:                 0.06116\n",
      "Time:                           13:09:11   Log-Likelihood:                -128.08\n",
      "converged:                          True   LL-Null:                       -136.42\n",
      "                                           LLR p-value:                 4.409e-05\n",
      "===============================================================================\n",
      "                  coef    std err          z      P>|z|      [0.025      0.975]\n",
      "-------------------------------------------------------------------------------\n",
      "intl_pct        0.1508      0.043      3.539      0.000       0.067       0.234\n",
      "diverse_ind    -0.8190      0.469     -1.747      0.081      -1.738       0.100\n",
      "===============================================================================\n"
     ]
    }
   ],
   "source": [
    "# try another way that shows significance\n",
    "import statsmodels.api as sm\n",
    "logit_model=sm.Logit(train['good_for_intl_US_news'],train[['intl_pct','diverse_ind']])\n",
    "result=logit_model.fit()\n",
    "print(result.summary())"
   ]
  },
  {
   "cell_type": "code",
   "execution_count": 31,
   "metadata": {},
   "outputs": [
    {
     "name": "stdout",
     "output_type": "stream",
     "text": [
      "[[16 21]\n",
      " [ 8 42]]\n",
      "training accuracy:\n",
      " 0.7128712871287128\n",
      "testing accuracy:\n",
      " 0.6666666666666666\n"
     ]
    }
   ],
   "source": [
    "from sklearn.metrics import confusion_matrix, precision_score, recall_score,classification_report\n",
    "logit_mat = confusion_matrix(y_true = test['good_for_intl_US_news'], y_pred = logit_fit)\n",
    "print(logit_mat)\n",
    "print(\"training accuracy:\\n\", logit_model.score(train[['intl_pct','diverse_ind']], train['good_for_intl_US_news']))\n",
    "print(\"testing accuracy:\\n\", logit_model.score(test[['intl_pct','diverse_ind']], test['good_for_intl_US_news']))"
   ]
  },
  {
   "cell_type": "code",
   "execution_count": null,
   "metadata": {},
   "outputs": [],
   "source": [
    "# cross validation\n",
    "kfold = KFold(n_splits=3, random_state=7)\n",
    "result = cross_val_score(model, X, y, cv=kfold, scoring='accuracy')"
   ]
  },
  {
   "cell_type": "markdown",
   "metadata": {},
   "source": [
    "# success measures"
   ]
  },
  {
   "cell_type": "code",
   "execution_count": 15,
   "metadata": {},
   "outputs": [
    {
     "data": {
      "text/plain": [
       "Text(0.5, 0, 'graduation rate')"
      ]
     },
     "execution_count": 15,
     "metadata": {},
     "output_type": "execute_result"
    },
    {
     "data": {
      "image/png": "[encoded data removed]",
      "text/plain": [
       "<Figure size 432x288 with 2 Axes>"
      ]
     },
     "metadata": {
      "needs_background": "light"
     },
     "output_type": "display_data"
    }
   ],
   "source": [
    "#'GRTOTLT', 'GRNRALT'\n",
    "import matplotlib.pyplot as plt\n",
    "plt.subplot(1,2,1)\n",
    "plt.hist(data['GRTOTLT_rate'])\n",
    "plt.title('grand total')\n",
    "plt.xlabel('graduation rate')\n",
    "plt.subplot(1,2,2)\n",
    "plt.hist(data['GRNRALT_rate']) \n",
    "plt.title('international students')\n",
    "plt.xlabel('graduation rate') \n",
    "# seems like a fair number of schools don't have international students enrolled for the class of 2017 (or 2015 or whatever)"
   ]
  },
  {
   "cell_type": "code",
   "execution_count": 21,
   "metadata": {},
   "outputs": [
    {
     "name": "stdout",
     "output_type": "stream",
     "text": [
      "(282, 300)\n"
     ]
    }
   ],
   "source": [
    "# only include those who have a international graduating class of 2015\n",
    "data_intl_grad = data[data.GRNRALT_y > 0]\n",
    "data_intl_grad.shape # (1535, 300)"
   ]
  },
  {
   "cell_type": "code",
   "execution_count": 24,
   "metadata": {},
   "outputs": [
    {
     "name": "stderr",
     "output_type": "stream",
     "text": [
      "C:\\Users\\Ning\\Anaconda3\\lib\\site-packages\\ipykernel_launcher.py:4: SettingWithCopyWarning: \n",
      "A value is trying to be set on a copy of a slice from a DataFrame.\n",
      "Try using .loc[row_indexer,col_indexer] = value instead\n",
      "\n",
      "See the caveats in the documentation: http://pandas.pydata.org/pandas-docs/stable/indexing.html#indexing-view-versus-copy\n",
      "  after removing the cwd from sys.path.\n"
     ]
    },
    {
     "data": {
      "image/png": "[encoded data removed]",
      "text/plain": [
       "<Figure size 432x288 with 1 Axes>"
      ]
     },
     "metadata": {
      "needs_background": "light"
     },
     "output_type": "display_data"
    }
   ],
   "source": [
    "# calculate the ratio of intl to grand total\n",
    "grad_ratio = data_intl_grad['GRNRALT_rate']/data_intl_grad['GRTOTLT_rate']\n",
    "plt.hist(grad_ratio) # later on, need to get rid of sample sizes that are particularly small\n",
    "data_intl_grad['grad_ratio'] = grad_ratio"
   ]
  },
  {
   "cell_type": "code",
   "execution_count": 25,
   "metadata": {},
   "outputs": [
    {
     "name": "stdout",
     "output_type": "stream",
     "text": [
      "(282, 301)\n"
     ]
    }
   ],
   "source": [
    "data_282_intl_grad_national_u = data_intl_grad.dropna()\n",
    "print(data_282_intl_grad_national_u.shape) # (282, 300)\n",
    "np.random.seed(922)\n",
    "train2, test2 = train_test_split(data_282_intl_grad_national_u, test_size = 0.3)"
   ]
  },
  {
   "cell_type": "code",
   "execution_count": 26,
   "metadata": {},
   "outputs": [
    {
     "name": "stderr",
     "output_type": "stream",
     "text": [
      "C:\\Users\\Ning\\Anaconda3\\lib\\site-packages\\sklearn\\linear_model\\logistic.py:433: FutureWarning: Default solver will be changed to 'lbfgs' in 0.22. Specify a solver to silence this warning.\n",
      "  FutureWarning)\n"
     ]
    }
   ],
   "source": [
    "logit_2 = LogisticRegression(penalty='l2')\n",
    "logit_2.fit(X = train2[['intl_pct','diverse_ind','grad_ratio']], y = train2['good_for_intl_US_news'])\n",
    "logit_fit2 = logit_2.predict(test2[['intl_pct','diverse_ind','grad_ratio']])"
   ]
  },
  {
   "cell_type": "code",
   "execution_count": 29,
   "metadata": {},
   "outputs": [
    {
     "name": "stdout",
     "output_type": "stream",
     "text": [
      "[[ 5 32]\n",
      " [ 0 48]]\n",
      "training accuracy:\n",
      " 0.6548223350253807\n",
      "testing accuracy:\n",
      " 0.6235294117647059\n"
     ]
    }
   ],
   "source": [
    "from sklearn.metrics import confusion_matrix, precision_score, recall_score,classification_report\n",
    "logit_mat2 = confusion_matrix(y_true = test2['good_for_intl_US_news'], y_pred = logit_fit2)\n",
    "print(logit_mat2)\n",
    "print(\"training accuracy:\\n\", logit_2.score(train2[['intl_pct','diverse_ind','grad_ratio']], train2['good_for_intl_US_news']))\n",
    "print(\"testing accuracy:\\n\", logit_2.score(test2[['intl_pct','diverse_ind','grad_ratio']], test2['good_for_intl_US_news']))"
   ]
  }
 ],
 "metadata": {
  "kernelspec": {
   "display_name": "Python 3",
   "language": "python",
   "name": "python3"
  },
  "language_info": {
   "codemirror_mode": {
    "name": "ipython",
    "version": 3
   },
   "file_extension": ".py",
   "mimetype": "text/x-python",
   "name": "python",
   "nbconvert_exporter": "python",
   "pygments_lexer": "ipython3",
   "version": "3.7.3"
  }
 },
 "nbformat": 4,
 "nbformat_minor": 2
}
