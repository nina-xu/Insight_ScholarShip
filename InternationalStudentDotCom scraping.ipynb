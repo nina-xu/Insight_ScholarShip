{
 "cells": [
  {
   "cell_type": "code",
   "execution_count": 135,
   "metadata": {},
   "outputs": [],
   "source": [
    "import selenium\n",
    "from selenium import webdriver\n",
    "from bs4 import BeautifulSoup\n",
    "import re\n",
    "import time\n",
    "import numpy as np\n",
    "#import pandas as pd"
   ]
  },
  {
   "cell_type": "code",
   "execution_count": 173,
   "metadata": {},
   "outputs": [],
   "source": [
    "driver = webdriver.Chrome()"
   ]
  },
  {
   "cell_type": "code",
   "execution_count": null,
   "metadata": {},
   "outputs": [],
   "source": [
    "driver.get('https://www.internationalstudent.com/schools_awarding_aid/NY/New%20York.html')\n",
    "html = driver.page_source\n",
    "soup = BeautifulSoup(html, 'lxml')"
   ]
  },
  {
   "cell_type": "code",
   "execution_count": 98,
   "metadata": {},
   "outputs": [
    {
     "name": "stdout",
     "output_type": "stream",
     "text": [
      "<tr data-key=\"174\"><td><a href=\"http://www.adelphi.edu\">Adelphi University <i class=\"fa fa-external-link\"></i></a></td><td>$32,500.00</td><td>333</td><td></td><td>$14,400.00</td></tr>\n"
     ]
    }
   ],
   "source": [
    "table = soup.find('table')\n",
    "lines = table.find_all('tr')\n",
    "line = lines[1]\n",
    "print(line)"
   ]
  },
  {
   "cell_type": "code",
   "execution_count": 131,
   "metadata": {},
   "outputs": [
    {
     "data": {
      "text/plain": [
       "53"
      ]
     },
     "execution_count": 131,
     "metadata": {},
     "output_type": "execute_result"
    }
   ],
   "source": [
    "# process different format of # Awarded\n",
    "def get_intl_awarded(text, total_intl):\n",
    "    if text == 'All':\n",
    "        text = '100%'\n",
    "    if re.search('%',text):\n",
    "        pct = int(re.sub('%','',text))\n",
    "        intl_awarded = int(total_intl * pct /100)\n",
    "    elif text == '':\n",
    "        intl_awarded = 0\n",
    "    else:\n",
    "        intl_awarded = int(text)\n",
    "    return intl_awarded\n",
    "\n",
    "text = lines[6].find_all('td')[3].text\n",
    "total_intl = 500\n",
    "get_intl_awarded(text, total_intl)"
   ]
  },
  {
   "cell_type": "code",
   "execution_count": 183,
   "metadata": {},
   "outputs": [
    {
     "ename": "IndexError",
     "evalue": "list index out of range",
     "output_type": "error",
     "traceback": [
      "\u001b[1;31m---------------------------------------------------------------------------\u001b[0m",
      "\u001b[1;31mIndexError\u001b[0m                                Traceback (most recent call last)",
      "\u001b[1;32m<ipython-input-183-61af4d3f8bfb>\u001b[0m in \u001b[0;36m<module>\u001b[1;34m\u001b[0m\n\u001b[0;32m     20\u001b[0m     \u001b[1;32mreturn\u001b[0m\u001b[1;33m(\u001b[0m\u001b[0mentry\u001b[0m\u001b[1;33m)\u001b[0m\u001b[1;33m\u001b[0m\u001b[1;33m\u001b[0m\u001b[0m\n\u001b[0;32m     21\u001b[0m \u001b[1;33m\u001b[0m\u001b[0m\n\u001b[1;32m---> 22\u001b[1;33m \u001b[0mlines\u001b[0m\u001b[1;33m[\u001b[0m\u001b[1;36m6\u001b[0m\u001b[1;33m]\u001b[0m\u001b[1;33m\u001b[0m\u001b[1;33m\u001b[0m\u001b[0m\n\u001b[0m",
      "\u001b[1;31mIndexError\u001b[0m: list index out of range"
     ]
    }
   ],
   "source": [
    "# record entries in one line of the table\n",
    "def get_entry(line):\n",
    "    entry = {}\n",
    "    entry['state_init'] = state_init\n",
    "    entry['state_name'] = state_name\n",
    "    entry['inst_name'] = line.td.text.strip()\n",
    "    entry['link'] = line.td.a['href']\n",
    "    entries = line.find_all('td')\n",
    "    annual_cost_raw = entries[1].text[1:-3]\n",
    "    entry['annual_cost'] = int(re.sub(',','',annual_cost_raw))\n",
    "    total_intl = int(re.sub(',','',entries[2].text))\n",
    "    entry['total_intl'] = total_intl\n",
    "    try:\n",
    "        entry['intl_awarded'] = get_intl_awarded(entries[3].text, total_intl)\n",
    "    except:\n",
    "        entry['intl_awarded'] = np.NaN\n",
    "        print(line, 'something went wrong')\n",
    "    avg_award_raw = line.find_all('td')[4].text[1:-3]\n",
    "    entry['avg_award'] = int(re.sub(',','',avg_award_raw))\n",
    "    return(entry)\n",
    "\n"
   ]
  },
  {
   "cell_type": "code",
   "execution_count": null,
   "metadata": {},
   "outputs": [],
   "source": []
  },
  {
   "cell_type": "code",
   "execution_count": 100,
   "metadata": {},
   "outputs": [
    {
     "data": {
      "text/plain": [
       "'https://www.internationalstudent.com/schools_awarding_aid/NY/New%20York.html'"
      ]
     },
     "execution_count": 100,
     "metadata": {},
     "output_type": "execute_result"
    }
   ],
   "source": [
    "state_init = 'NY'\n",
    "state_name = 'New York'\n",
    "state_name_link = re.sub(' ', '%20', state_name)\n",
    "state_name_link\n",
    "url = ('https://www.internationalstudent.com/schools_awarding_aid/'+state_init+'/'+state_name_link+'.html')\n",
    "url"
   ]
  },
  {
   "cell_type": "code",
   "execution_count": 170,
   "metadata": {},
   "outputs": [],
   "source": [
    "# record the whole table of a state\n",
    "def get_state(state_init, state_name):\n",
    "    state_name_link = re.sub(' ', '%20', state_name)\n",
    "    url = ('https://www.internationalstudent.com/schools_awarding_aid/'+state_init+'/'+state_name_link+'.html')\n",
    "    driver.get(url)\n",
    "    html = driver.page_source\n",
    "    soup = BeautifulSoup(html, 'lxml') \n",
    "    table = soup.find('table')\n",
    "    lines = table.find_all('tr')\n",
    "    entries = []\n",
    "    if len(lines) > 2:\n",
    "        for line in lines[1:]:\n",
    "            entries.append(get_entry(line))\n",
    "    elif len(lines) == 2:\n",
    "        if lines[1].text == 'No results found.':\n",
    "            return(entries)\n",
    "        else: # it means there is one school\n",
    "            entries.append(get_entry(lines[1]))\n",
    "    else:\n",
    "        print('something went wrong', state_name)\n",
    "    return(entries)\n"
   ]
  },
  {
   "cell_type": "code",
   "execution_count": 150,
   "metadata": {},
   "outputs": [
    {
     "name": "stdout",
     "output_type": "stream",
     "text": [
      "\t\t\t\t<option value=\"AL\">Alabama</option>\n",
      "\n"
     ]
    },
    {
     "data": {
      "text/plain": [
       "'Alabama'"
      ]
     },
     "execution_count": 150,
     "metadata": {},
     "output_type": "execute_result"
    }
   ],
   "source": [
    "with open('Data/states.txt','r') as file:\n",
    "    states = file.readlines()\n",
    "    #states.append(line)\n",
    "print(states[0])"
   ]
  },
  {
   "cell_type": "code",
   "execution_count": 178,
   "metadata": {},
   "outputs": [
    {
     "data": {
      "text/plain": [
       "('AL', 'Alabama')"
      ]
     },
     "execution_count": 178,
     "metadata": {},
     "output_type": "execute_result"
    }
   ],
   "source": [
    "def get_state_name(state):\n",
    "    state_init = state[19:21]\n",
    "    state_name = re.search('>\\D+<',state).group()[1:-1]\n",
    "    return state_init, state_name\n",
    "get_state_name(states[0])"
   ]
  },
  {
   "cell_type": "code",
   "execution_count": 181,
   "metadata": {},
   "outputs": [
    {
     "data": {
      "text/plain": [
       "'District Of Columbia'"
      ]
     },
     "execution_count": 181,
     "metadata": {},
     "output_type": "execute_result"
    }
   ],
   "source": [
    "state_init, state_name = get_state_name(states[8])\n",
    "#get_state('De', 'Delaware')\n",
    "state_name"
   ]
  },
  {
   "cell_type": "code",
   "execution_count": 165,
   "metadata": {},
   "outputs": [
    {
     "data": {
      "text/plain": [
       "True"
      ]
     },
     "execution_count": 165,
     "metadata": {},
     "output_type": "execute_result"
    }
   ],
   "source": []
  },
  {
   "cell_type": "code",
   "execution_count": 182,
   "metadata": {},
   "outputs": [
    {
     "ename": "ValueError",
     "evalue": "invalid literal for int() with base 10: 'na'",
     "output_type": "error",
     "traceback": [
      "\u001b[1;31m---------------------------------------------------------------------------\u001b[0m",
      "\u001b[1;31mValueError\u001b[0m                                Traceback (most recent call last)",
      "\u001b[1;32m<ipython-input-182-100a902fa2ac>\u001b[0m in \u001b[0;36m<module>\u001b[1;34m\u001b[0m\n\u001b[0;32m      3\u001b[0m \u001b[1;32mfor\u001b[0m \u001b[0mstate\u001b[0m \u001b[1;32min\u001b[0m \u001b[0mstates\u001b[0m\u001b[1;33m:\u001b[0m\u001b[1;33m\u001b[0m\u001b[1;33m\u001b[0m\u001b[0m\n\u001b[0;32m      4\u001b[0m     \u001b[0mstate_init\u001b[0m\u001b[1;33m,\u001b[0m \u001b[0mstate_name\u001b[0m \u001b[1;33m=\u001b[0m \u001b[0mget_state_name\u001b[0m\u001b[1;33m(\u001b[0m\u001b[0mstate\u001b[0m\u001b[1;33m)\u001b[0m\u001b[1;33m\u001b[0m\u001b[1;33m\u001b[0m\u001b[0m\n\u001b[1;32m----> 5\u001b[1;33m     \u001b[0minst_info\u001b[0m \u001b[1;33m=\u001b[0m \u001b[0mget_state\u001b[0m\u001b[1;33m(\u001b[0m\u001b[0mstate_init\u001b[0m\u001b[1;33m,\u001b[0m \u001b[0mstate_name\u001b[0m\u001b[1;33m)\u001b[0m\u001b[1;33m\u001b[0m\u001b[1;33m\u001b[0m\u001b[0m\n\u001b[0m\u001b[0;32m      6\u001b[0m     \u001b[0mall_institutions\u001b[0m\u001b[1;33m.\u001b[0m\u001b[0mextend\u001b[0m\u001b[1;33m(\u001b[0m\u001b[0minst_info\u001b[0m\u001b[1;33m)\u001b[0m\u001b[1;33m\u001b[0m\u001b[1;33m\u001b[0m\u001b[0m\n\u001b[0;32m      7\u001b[0m     \u001b[0mtime\u001b[0m\u001b[1;33m.\u001b[0m\u001b[0msleep\u001b[0m\u001b[1;33m(\u001b[0m\u001b[0mnp\u001b[0m\u001b[1;33m.\u001b[0m\u001b[0mrandom\u001b[0m\u001b[1;33m.\u001b[0m\u001b[0mlognormal\u001b[0m\u001b[1;33m(\u001b[0m\u001b[1;36m0.75\u001b[0m\u001b[1;33m)\u001b[0m \u001b[1;33m+\u001b[0m \u001b[1;36m0.2\u001b[0m\u001b[1;33m)\u001b[0m\u001b[1;33m\u001b[0m\u001b[1;33m\u001b[0m\u001b[0m\n",
      "\u001b[1;32m<ipython-input-170-d6c8f8b066f1>\u001b[0m in \u001b[0;36mget_state\u001b[1;34m(state_init, state_name)\u001b[0m\n\u001b[0;32m     11\u001b[0m     \u001b[1;32mif\u001b[0m \u001b[0mlen\u001b[0m\u001b[1;33m(\u001b[0m\u001b[0mlines\u001b[0m\u001b[1;33m)\u001b[0m \u001b[1;33m>\u001b[0m \u001b[1;36m2\u001b[0m\u001b[1;33m:\u001b[0m\u001b[1;33m\u001b[0m\u001b[1;33m\u001b[0m\u001b[0m\n\u001b[0;32m     12\u001b[0m         \u001b[1;32mfor\u001b[0m \u001b[0mline\u001b[0m \u001b[1;32min\u001b[0m \u001b[0mlines\u001b[0m\u001b[1;33m[\u001b[0m\u001b[1;36m1\u001b[0m\u001b[1;33m:\u001b[0m\u001b[1;33m]\u001b[0m\u001b[1;33m:\u001b[0m\u001b[1;33m\u001b[0m\u001b[1;33m\u001b[0m\u001b[0m\n\u001b[1;32m---> 13\u001b[1;33m             \u001b[0mentries\u001b[0m\u001b[1;33m.\u001b[0m\u001b[0mappend\u001b[0m\u001b[1;33m(\u001b[0m\u001b[0mget_entry\u001b[0m\u001b[1;33m(\u001b[0m\u001b[0mline\u001b[0m\u001b[1;33m)\u001b[0m\u001b[1;33m)\u001b[0m\u001b[1;33m\u001b[0m\u001b[1;33m\u001b[0m\u001b[0m\n\u001b[0m\u001b[0;32m     14\u001b[0m     \u001b[1;32melif\u001b[0m \u001b[0mlen\u001b[0m\u001b[1;33m(\u001b[0m\u001b[0mlines\u001b[0m\u001b[1;33m)\u001b[0m \u001b[1;33m==\u001b[0m \u001b[1;36m2\u001b[0m\u001b[1;33m:\u001b[0m\u001b[1;33m\u001b[0m\u001b[1;33m\u001b[0m\u001b[0m\n\u001b[0;32m     15\u001b[0m         \u001b[1;32mif\u001b[0m \u001b[0mlines\u001b[0m\u001b[1;33m[\u001b[0m\u001b[1;36m1\u001b[0m\u001b[1;33m]\u001b[0m\u001b[1;33m.\u001b[0m\u001b[0mtext\u001b[0m \u001b[1;33m==\u001b[0m \u001b[1;34m'No results found.'\u001b[0m\u001b[1;33m:\u001b[0m\u001b[1;33m\u001b[0m\u001b[1;33m\u001b[0m\u001b[0m\n",
      "\u001b[1;32m<ipython-input-132-770ff2718f8d>\u001b[0m in \u001b[0;36mget_entry\u001b[1;34m(line)\u001b[0m\n\u001b[0;32m     12\u001b[0m     \u001b[0mentry\u001b[0m\u001b[1;33m[\u001b[0m\u001b[1;34m'total_intl'\u001b[0m\u001b[1;33m]\u001b[0m \u001b[1;33m=\u001b[0m \u001b[0mtotal_intl\u001b[0m\u001b[1;33m\u001b[0m\u001b[1;33m\u001b[0m\u001b[0m\n\u001b[0;32m     13\u001b[0m     \u001b[1;31m#try:\u001b[0m\u001b[1;33m\u001b[0m\u001b[1;33m\u001b[0m\u001b[1;33m\u001b[0m\u001b[0m\n\u001b[1;32m---> 14\u001b[1;33m     \u001b[0mentry\u001b[0m\u001b[1;33m[\u001b[0m\u001b[1;34m'intl_awarded'\u001b[0m\u001b[1;33m]\u001b[0m \u001b[1;33m=\u001b[0m \u001b[0mget_intl_awarded\u001b[0m\u001b[1;33m(\u001b[0m\u001b[0mentries\u001b[0m\u001b[1;33m[\u001b[0m\u001b[1;36m3\u001b[0m\u001b[1;33m]\u001b[0m\u001b[1;33m.\u001b[0m\u001b[0mtext\u001b[0m\u001b[1;33m,\u001b[0m \u001b[0mtotal_intl\u001b[0m\u001b[1;33m)\u001b[0m\u001b[1;33m\u001b[0m\u001b[1;33m\u001b[0m\u001b[0m\n\u001b[0m\u001b[0;32m     15\u001b[0m     \u001b[1;31m#except:\u001b[0m\u001b[1;33m\u001b[0m\u001b[1;33m\u001b[0m\u001b[1;33m\u001b[0m\u001b[0m\n\u001b[0;32m     16\u001b[0m     \u001b[1;31m#    entry['intl_awarded'] = 0\u001b[0m\u001b[1;33m\u001b[0m\u001b[1;33m\u001b[0m\u001b[1;33m\u001b[0m\u001b[0m\n",
      "\u001b[1;32m<ipython-input-131-51a9d39299d3>\u001b[0m in \u001b[0;36mget_intl_awarded\u001b[1;34m(text, total_intl)\u001b[0m\n\u001b[0;32m      9\u001b[0m         \u001b[0mintl_awarded\u001b[0m \u001b[1;33m=\u001b[0m \u001b[1;36m0\u001b[0m\u001b[1;33m\u001b[0m\u001b[1;33m\u001b[0m\u001b[0m\n\u001b[0;32m     10\u001b[0m     \u001b[1;32melse\u001b[0m\u001b[1;33m:\u001b[0m\u001b[1;33m\u001b[0m\u001b[1;33m\u001b[0m\u001b[0m\n\u001b[1;32m---> 11\u001b[1;33m         \u001b[0mintl_awarded\u001b[0m \u001b[1;33m=\u001b[0m \u001b[0mint\u001b[0m\u001b[1;33m(\u001b[0m\u001b[0mtext\u001b[0m\u001b[1;33m)\u001b[0m\u001b[1;33m\u001b[0m\u001b[1;33m\u001b[0m\u001b[0m\n\u001b[0m\u001b[0;32m     12\u001b[0m     \u001b[1;32mreturn\u001b[0m \u001b[0mintl_awarded\u001b[0m\u001b[1;33m\u001b[0m\u001b[1;33m\u001b[0m\u001b[0m\n\u001b[0;32m     13\u001b[0m \u001b[1;33m\u001b[0m\u001b[0m\n",
      "\u001b[1;31mValueError\u001b[0m: invalid literal for int() with base 10: 'na'"
     ]
    }
   ],
   "source": [
    "# use the state initials and names to complete the url\n",
    "all_institutions = []\n",
    "for state in states:\n",
    "    state_init, state_name = get_state_name(state)\n",
    "    inst_info = get_state(state_init, state_name)\n",
    "    all_institutions.extend(inst_info)\n",
    "    time.sleep(np.random.lognormal(0.75) + 0.2)"
   ]
  },
  {
   "cell_type": "code",
   "execution_count": 185,
   "metadata": {},
   "outputs": [
    {
     "name": "stdout",
     "output_type": "stream",
     "text": [
      "<tr data-key=\"52\"><td><a href=\"http://www.ucf.edu\">University of Central FL <i class=\"fa fa-external-link\"></i></a></td><td>$26,530.00</td><td>902</td><td>na</td><td>$763.00</td></tr> something went wrong\n",
      "<tr data-key=\"130\"><td><a href=\"http://www.smfa.edu\">School of the Museum of Fine Arts, Boston <i class=\"fa fa-external-link\"></i></a></td><td>$39,860.00</td><td>77</td><td>16 of 20</td><td>$16,000.00</td></tr> something went wrong\n",
      "<tr data-key=\"144\"><td><a href=\"http://www.calvin.edu/admissions/intlstud.htm\">Calvin College <i class=\"fa fa-external-link\"></i></a></td><td>$30,300.00</td><td>372</td><td> N/A</td><td>$13,700.00</td></tr> something went wrong\n",
      "<tr data-key=\"322\"><td><a href=\"http://www.culver.edu\">Culver Stockton College <i class=\"fa fa-external-link\"></i></a></td><td>$23,700.00</td><td>5</td><td>N/A</td><td>$15,000.00</td></tr> something went wrong\n",
      "<tr data-key=\"335\"><td><a href=\"http://www.ship.edu\">Shippensburg University of Pennsylvania <i class=\"fa fa-external-link\"></i></a></td><td>$23,880.00</td><td>38</td><td>N/A</td><td>$8,700.00</td></tr> something went wrong\n",
      "<tr data-key=\"328\"><td><a href=\"http://www.uwec.edu\">University of Wisconsin-Eau Claire <i class=\"fa fa-external-link\"></i></a></td><td>$21,900.00</td><td>153</td><td>Varies</td><td>$4,500.00</td></tr> something went wrong\n"
     ]
    }
   ],
   "source": [
    "for state in states[9:]:\n",
    "    state_init, state_name = get_state_name(state)\n",
    "    inst_info = get_state(state_init, state_name)\n",
    "    all_institutions.extend(inst_info)\n",
    "    time.sleep(np.random.lognormal(0.75) + 0.2)"
   ]
  },
  {
   "cell_type": "code",
   "execution_count": 186,
   "metadata": {},
   "outputs": [],
   "source": [
    "import pandas as pd\n",
    "institution_info = pd.DataFrame(all_institutions)\n",
    "institution_info.to_csv('Data/InternationalStudent_com.csv', index = False)"
   ]
  }
 ],
 "metadata": {
  "kernelspec": {
   "display_name": "Python 3",
   "language": "python",
   "name": "python3"
  },
  "language_info": {
   "codemirror_mode": {
    "name": "ipython",
    "version": 3
   },
   "file_extension": ".py",
   "mimetype": "text/x-python",
   "name": "python",
   "nbconvert_exporter": "python",
   "pygments_lexer": "ipython3",
   "version": "3.7.3"
  }
 },
 "nbformat": 4,
 "nbformat_minor": 2
}
